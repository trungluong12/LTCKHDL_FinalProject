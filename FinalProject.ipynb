{
 "cells": [
  {
   "cell_type": "markdown",
   "id": "632d9f52",
   "metadata": {},
   "source": [
    "Import important libraries"
   ]
  },
  {
   "cell_type": "code",
   "execution_count": 1,
   "id": "f4ff0d31",
   "metadata": {},
   "outputs": [],
   "source": [
    "import matplotlib.pyplot as plt\n",
    "import numpy as np\n",
    "import pandas as pd "
   ]
  },
  {
   "cell_type": "markdown",
   "id": "ac0c90fd",
   "metadata": {},
   "source": [
    "# 2. Exploring data (often interleaved with preprocessing)"
   ]
  },
  {
   "cell_type": "markdown",
   "id": "8e260bc3",
   "metadata": {},
   "source": [
    "Read all .csv files and perform exploration.\n",
    "\n",
    "We decide that we wouldn't use the book_id.csv file since it is redundant"
   ]
  },
  {
   "cell_type": "markdown",
   "id": "b4eafb73",
   "metadata": {},
   "source": [
    "First, we will read data file \"book_data.csv\" and save to DataFrame `book_df`. "
   ]
  },
  {
   "cell_type": "code",
   "execution_count": 2,
   "id": "7f5717e7",
   "metadata": {
    "scrolled": true
   },
   "outputs": [
    {
     "data": {
      "text/html": [
       "<div>\n",
       "<style scoped>\n",
       "    .dataframe tbody tr th:only-of-type {\n",
       "        vertical-align: middle;\n",
       "    }\n",
       "\n",
       "    .dataframe tbody tr th {\n",
       "        vertical-align: top;\n",
       "    }\n",
       "\n",
       "    .dataframe thead th {\n",
       "        text-align: right;\n",
       "    }\n",
       "</style>\n",
       "<table border=\"1\" class=\"dataframe\">\n",
       "  <thead>\n",
       "    <tr style=\"text-align: right;\">\n",
       "      <th></th>\n",
       "      <th>product_id</th>\n",
       "      <th>title</th>\n",
       "      <th>authors</th>\n",
       "      <th>original_price</th>\n",
       "      <th>current_price</th>\n",
       "      <th>quantity</th>\n",
       "      <th>category</th>\n",
       "      <th>n_review</th>\n",
       "      <th>avg_rating</th>\n",
       "      <th>pages</th>\n",
       "      <th>manufacturer</th>\n",
       "      <th>cover_link</th>\n",
       "    </tr>\n",
       "  </thead>\n",
       "  <tbody>\n",
       "    <tr>\n",
       "      <th>0</th>\n",
       "      <td>74021317</td>\n",
       "      <td>Cây Cam Ngọt Của Tôi</td>\n",
       "      <td>José Mauro de Vasconcelos</td>\n",
       "      <td>108000</td>\n",
       "      <td>64800</td>\n",
       "      <td>53075.0</td>\n",
       "      <td>Tiểu Thuyết</td>\n",
       "      <td>11481</td>\n",
       "      <td>5.0</td>\n",
       "      <td>244</td>\n",
       "      <td>Nhà Xuất Bản Hội Nhà Văn</td>\n",
       "      <td>https://salt.tikicdn.com/ts/product/5e/18/24/2...</td>\n",
       "    </tr>\n",
       "    <tr>\n",
       "      <th>1</th>\n",
       "      <td>74021317</td>\n",
       "      <td>Cây Cam Ngọt Của Tôi</td>\n",
       "      <td>José Mauro de Vasconcelos</td>\n",
       "      <td>108000</td>\n",
       "      <td>64800</td>\n",
       "      <td>53075.0</td>\n",
       "      <td>Tiểu Thuyết</td>\n",
       "      <td>11481</td>\n",
       "      <td>5.0</td>\n",
       "      <td>244</td>\n",
       "      <td>Nhà Xuất Bản Hội Nhà Văn</td>\n",
       "      <td>https://salt.tikicdn.com/ts/product/5e/18/24/2...</td>\n",
       "    </tr>\n",
       "    <tr>\n",
       "      <th>2</th>\n",
       "      <td>184466860</td>\n",
       "      <td>Hành Tinh Của Một Kẻ Nghĩ Nhiều</td>\n",
       "      <td>Nguyễn Đoàn Minh Thư</td>\n",
       "      <td>86000</td>\n",
       "      <td>59900</td>\n",
       "      <td>7929.0</td>\n",
       "      <td>Sách tư duy - Kỹ năng sống</td>\n",
       "      <td>780</td>\n",
       "      <td>4.8</td>\n",
       "      <td>184</td>\n",
       "      <td>Nhà Xuất Bản Thế Giới</td>\n",
       "      <td>https://salt.tikicdn.com/ts/product/d7/99/24/1...</td>\n",
       "    </tr>\n",
       "    <tr>\n",
       "      <th>3</th>\n",
       "      <td>73787185</td>\n",
       "      <td>Những Tù Nhân Của Địa Lý</td>\n",
       "      <td>Tim Marshall</td>\n",
       "      <td>210000</td>\n",
       "      <td>126000</td>\n",
       "      <td>17896.0</td>\n",
       "      <td>Lĩnh vực khác</td>\n",
       "      <td>3623</td>\n",
       "      <td>4.8</td>\n",
       "      <td>430</td>\n",
       "      <td>Nhà Xuất Bản Hội Nhà Văn</td>\n",
       "      <td>https://salt.tikicdn.com/ts/product/8d/96/9e/c...</td>\n",
       "    </tr>\n",
       "    <tr>\n",
       "      <th>4</th>\n",
       "      <td>52789367</td>\n",
       "      <td>Nhà Giả Kim (Tái Bản 2020)</td>\n",
       "      <td>Paulo Coelho</td>\n",
       "      <td>79000</td>\n",
       "      <td>47400</td>\n",
       "      <td>24668.0</td>\n",
       "      <td>Tác phẩm kinh điển</td>\n",
       "      <td>5131</td>\n",
       "      <td>5.0</td>\n",
       "      <td>228</td>\n",
       "      <td>Nhà Xuất Bản Hà Nội</td>\n",
       "      <td>https://salt.tikicdn.com/ts/product/45/3b/fc/a...</td>\n",
       "    </tr>\n",
       "  </tbody>\n",
       "</table>\n",
       "</div>"
      ],
      "text/plain": [
       "   product_id                            title                    authors  \\\n",
       "0    74021317             Cây Cam Ngọt Của Tôi  José Mauro de Vasconcelos   \n",
       "1    74021317             Cây Cam Ngọt Của Tôi  José Mauro de Vasconcelos   \n",
       "2   184466860  Hành Tinh Của Một Kẻ Nghĩ Nhiều       Nguyễn Đoàn Minh Thư   \n",
       "3    73787185         Những Tù Nhân Của Địa Lý               Tim Marshall   \n",
       "4    52789367       Nhà Giả Kim (Tái Bản 2020)               Paulo Coelho   \n",
       "\n",
       "   original_price  current_price  quantity                    category  \\\n",
       "0          108000          64800   53075.0                 Tiểu Thuyết   \n",
       "1          108000          64800   53075.0                 Tiểu Thuyết   \n",
       "2           86000          59900    7929.0  Sách tư duy - Kỹ năng sống   \n",
       "3          210000         126000   17896.0               Lĩnh vực khác   \n",
       "4           79000          47400   24668.0          Tác phẩm kinh điển   \n",
       "\n",
       "   n_review  avg_rating pages              manufacturer  \\\n",
       "0     11481         5.0   244  Nhà Xuất Bản Hội Nhà Văn   \n",
       "1     11481         5.0   244  Nhà Xuất Bản Hội Nhà Văn   \n",
       "2       780         4.8   184     Nhà Xuất Bản Thế Giới   \n",
       "3      3623         4.8   430  Nhà Xuất Bản Hội Nhà Văn   \n",
       "4      5131         5.0   228       Nhà Xuất Bản Hà Nội   \n",
       "\n",
       "                                          cover_link  \n",
       "0  https://salt.tikicdn.com/ts/product/5e/18/24/2...  \n",
       "1  https://salt.tikicdn.com/ts/product/5e/18/24/2...  \n",
       "2  https://salt.tikicdn.com/ts/product/d7/99/24/1...  \n",
       "3  https://salt.tikicdn.com/ts/product/8d/96/9e/c...  \n",
       "4  https://salt.tikicdn.com/ts/product/45/3b/fc/a...  "
      ]
     },
     "execution_count": 2,
     "metadata": {},
     "output_type": "execute_result"
    }
   ],
   "source": [
    "book_df = pd.read_csv('data/book_data.csv')\n",
    "book_df.head()"
   ]
  },
  {
   "cell_type": "markdown",
   "id": "f1e5634a",
   "metadata": {},
   "source": [
    "Second, we will read data file \"comment_data.csv\" and save to DataFrame `comment_df`. "
   ]
  },
  {
   "cell_type": "code",
   "execution_count": 3,
   "id": "6968c096",
   "metadata": {
    "scrolled": true
   },
   "outputs": [
    {
     "data": {
      "text/html": [
       "<div>\n",
       "<style scoped>\n",
       "    .dataframe tbody tr th:only-of-type {\n",
       "        vertical-align: middle;\n",
       "    }\n",
       "\n",
       "    .dataframe tbody tr th {\n",
       "        vertical-align: top;\n",
       "    }\n",
       "\n",
       "    .dataframe thead th {\n",
       "        text-align: right;\n",
       "    }\n",
       "</style>\n",
       "<table border=\"1\" class=\"dataframe\">\n",
       "  <thead>\n",
       "    <tr style=\"text-align: right;\">\n",
       "      <th></th>\n",
       "      <th>product_id</th>\n",
       "      <th>comment_id</th>\n",
       "      <th>title</th>\n",
       "      <th>thank_count</th>\n",
       "      <th>customer_id</th>\n",
       "      <th>rating</th>\n",
       "      <th>content</th>\n",
       "    </tr>\n",
       "  </thead>\n",
       "  <tbody>\n",
       "    <tr>\n",
       "      <th>0</th>\n",
       "      <td>74021317</td>\n",
       "      <td>12559756</td>\n",
       "      <td>Cực kì hài lòng</td>\n",
       "      <td>313</td>\n",
       "      <td>22051463</td>\n",
       "      <td>5</td>\n",
       "      <td>Có những người bước đến, họ lấp đầy hạnh phúc ...</td>\n",
       "    </tr>\n",
       "    <tr>\n",
       "      <th>1</th>\n",
       "      <td>74021317</td>\n",
       "      <td>16979365</td>\n",
       "      <td>Cực kì hài lòng</td>\n",
       "      <td>6</td>\n",
       "      <td>27791831</td>\n",
       "      <td>5</td>\n",
       "      <td>Thấy nhiều bạn chê tiki gói hàng quá, may sao ...</td>\n",
       "    </tr>\n",
       "    <tr>\n",
       "      <th>2</th>\n",
       "      <td>74021317</td>\n",
       "      <td>14069617</td>\n",
       "      <td>Cực kì hài lòng</td>\n",
       "      <td>25</td>\n",
       "      <td>17748750</td>\n",
       "      <td>5</td>\n",
       "      <td>Bìa cực xinh, tiki giao hàng nhanh, sách không...</td>\n",
       "    </tr>\n",
       "    <tr>\n",
       "      <th>3</th>\n",
       "      <td>74021317</td>\n",
       "      <td>8569824</td>\n",
       "      <td>Cực kì hài lòng</td>\n",
       "      <td>57</td>\n",
       "      <td>410797</td>\n",
       "      <td>5</td>\n",
       "      <td>Sách lúc nhận hình thức rất ổn, không cong vên...</td>\n",
       "    </tr>\n",
       "    <tr>\n",
       "      <th>4</th>\n",
       "      <td>74021317</td>\n",
       "      <td>18368714</td>\n",
       "      <td>Cực kì hài lòng</td>\n",
       "      <td>0</td>\n",
       "      <td>28545286</td>\n",
       "      <td>5</td>\n",
       "      <td>Một cuốn sách rất đáng đọc về tình yêu thương ...</td>\n",
       "    </tr>\n",
       "  </tbody>\n",
       "</table>\n",
       "</div>"
      ],
      "text/plain": [
       "   product_id  comment_id            title  thank_count  customer_id  rating  \\\n",
       "0    74021317    12559756  Cực kì hài lòng          313     22051463       5   \n",
       "1    74021317    16979365  Cực kì hài lòng            6     27791831       5   \n",
       "2    74021317    14069617  Cực kì hài lòng           25     17748750       5   \n",
       "3    74021317     8569824  Cực kì hài lòng           57       410797       5   \n",
       "4    74021317    18368714  Cực kì hài lòng            0     28545286       5   \n",
       "\n",
       "                                             content  \n",
       "0  Có những người bước đến, họ lấp đầy hạnh phúc ...  \n",
       "1  Thấy nhiều bạn chê tiki gói hàng quá, may sao ...  \n",
       "2  Bìa cực xinh, tiki giao hàng nhanh, sách không...  \n",
       "3  Sách lúc nhận hình thức rất ổn, không cong vên...  \n",
       "4  Một cuốn sách rất đáng đọc về tình yêu thương ...  "
      ]
     },
     "execution_count": 3,
     "metadata": {},
     "output_type": "execute_result"
    }
   ],
   "source": [
    "comment_df = pd.read_csv('data/comments.csv')\n",
    "comment_df.head()"
   ]
  },
  {
   "cell_type": "markdown",
   "id": "415deb62",
   "metadata": {},
   "source": [
    "### 2.1 How many rows and how many columns?"
   ]
  },
  {
   "cell_type": "markdown",
   "id": "43792ddd",
   "metadata": {},
   "source": [
    "We get the number of rows and columns of the DataFrame `book_df` and store it in `num_rows` and `num_cols` variables."
   ]
  },
  {
   "cell_type": "code",
   "execution_count": 4,
   "id": "68295977",
   "metadata": {},
   "outputs": [
    {
     "name": "stdout",
     "output_type": "stream",
     "text": [
      "Number of rows:  1796\n",
      "Number of cols:  12\n"
     ]
    }
   ],
   "source": [
    "num_rows = book_df.shape[0]\n",
    "num_cols = book_df.shape[1]\n",
    "print(f'Number of rows: ',num_rows)\n",
    "print(f'Number of cols: ',num_cols)"
   ]
  },
  {
   "cell_type": "markdown",
   "id": "328bec74",
   "metadata": {},
   "source": [
    "We get the number of rows and columns of the DataFrame `comment_df` and store it in `num_rows` and `num_cols` variables."
   ]
  },
  {
   "cell_type": "code",
   "execution_count": 5,
   "id": "ff5e9544",
   "metadata": {},
   "outputs": [
    {
     "name": "stdout",
     "output_type": "stream",
     "text": [
      "Number of rows:  141281\n",
      "Number of cols:  7\n"
     ]
    }
   ],
   "source": [
    "num_rows = comment_df.shape[0]\n",
    "num_cols = comment_df.shape[1]\n",
    "print(f'Number of rows: ',num_rows)\n",
    "print(f'Number of cols: ',num_cols)"
   ]
  },
  {
   "cell_type": "markdown",
   "id": "fce6c598",
   "metadata": {},
   "source": [
    "### 2.2 What is the meaning of each column?"
   ]
  },
  {
   "cell_type": "markdown",
   "id": "a2ac5fd0",
   "metadata": {},
   "source": [
    "Meaning of each column in `book_df` describle below"
   ]
  },
  {
   "cell_type": "markdown",
   "id": "e86f7897",
   "metadata": {},
   "source": [
    "| Column      | Description |\n",
    "| :---        |    :----   |    \n",
    "| `product_id`      | Id of the product in the Tiki database (unique)      | \n",
    "| `title`   |  Name of the book, maybe contain republish time       | \n",
    "| `authors`    |    same with it's name              |\n",
    "| `original_price`    |      price at the first time             |\n",
    "| `current_price`    |  price at present if having a discount                 |\n",
    "| `quantity`    |  \ttotal number of books sold of all time                 |\n",
    "| `category`    |  \tkind of book                 |\n",
    "| `n_review`    |   number of reviews               |\n",
    "| `avg_rating`    |  average rating (max 5.0)                 |\n",
    "| `pages`    |     total pages of each book              |\n"
   ]
  },
  {
   "cell_type": "markdown",
   "id": "3996a189",
   "metadata": {},
   "source": [
    "Meaning of each column in `comment_df` describle below"
   ]
  },
  {
   "cell_type": "markdown",
   "id": "395f5557",
   "metadata": {},
   "source": [
    "| Column      | Description |\n",
    "| :---        |    :----   |    \n",
    "| `product_id`      | same with book_data file      | \n",
    "| `title`   |  keywork of comment       | \n",
    "| `comment_id`    |   each comment has individual id        |\n",
    "| `thank_count`    |     number of like of other people            |\n",
    "| `customer_id`    |  price at present if having a discount                 |\n",
    "| `rating`    |  average rating of the comment             |\n",
    "| `category`    |  \tkind of book                 |\n",
    "| `content`    |  same with it's name             |\n"
   ]
  },
  {
   "cell_type": "markdown",
   "id": "144c0d29",
   "metadata": {},
   "source": [
    "### 2.3 Are there duplicated rows?"
   ]
  },
  {
   "cell_type": "code",
   "execution_count": 6,
   "id": "a4a8ce8a",
   "metadata": {},
   "outputs": [
    {
     "data": {
      "text/plain": [
       "35"
      ]
     },
     "execution_count": 6,
     "metadata": {},
     "output_type": "execute_result"
    }
   ],
   "source": [
    "num_duplicated_rows = book_df[book_df.duplicated(keep=False)].shape[0]\n",
    "num_duplicated_rows"
   ]
  },
  {
   "cell_type": "markdown",
   "id": "aca6805b",
   "metadata": {},
   "source": [
    "In `book_df` there are 35 duplicated rows. So we will remove it"
   ]
  },
  {
   "cell_type": "code",
   "execution_count": 7,
   "id": "d29a2934",
   "metadata": {},
   "outputs": [
    {
     "data": {
      "text/plain": [
       "1777"
      ]
     },
     "execution_count": 7,
     "metadata": {},
     "output_type": "execute_result"
    }
   ],
   "source": [
    "book_df = book_df.drop_duplicates()\n",
    "num_rows = book_df.shape[0]\n",
    "num_rows"
   ]
  },
  {
   "cell_type": "markdown",
   "id": "83d5c7d2",
   "metadata": {},
   "source": [
    "After remove duplicated rows, `book_df` has 1777 rows"
   ]
  },
  {
   "cell_type": "code",
   "execution_count": 8,
   "id": "9ee4c463",
   "metadata": {},
   "outputs": [
    {
     "data": {
      "text/plain": [
       "39299"
      ]
     },
     "execution_count": 8,
     "metadata": {},
     "output_type": "execute_result"
    }
   ],
   "source": [
    "num_duplicated_rows = comment_df[comment_df.duplicated(keep=False)].shape[0]\n",
    "num_duplicated_rows"
   ]
  },
  {
   "cell_type": "markdown",
   "id": "e51f6e85",
   "metadata": {},
   "source": [
    "In `comment_df` there are 39299 duplicated rows. So we will remove it"
   ]
  },
  {
   "cell_type": "code",
   "execution_count": 9,
   "id": "7882f4bb",
   "metadata": {},
   "outputs": [
    {
     "data": {
      "text/plain": [
       "121393"
      ]
     },
     "execution_count": 9,
     "metadata": {},
     "output_type": "execute_result"
    }
   ],
   "source": [
    "comment_df = comment_df.drop_duplicates()\n",
    "num_rows = comment_df.shape[0]\n",
    "num_rows"
   ]
  },
  {
   "cell_type": "markdown",
   "id": "d137453a",
   "metadata": {},
   "source": [
    "After remove duplicated rows, `comment_df` has 121393 rows"
   ]
  },
  {
   "cell_type": "markdown",
   "id": "238d7e66",
   "metadata": {},
   "source": [
    "### 2.4 What is the current data type of each column? Are there columns having inappropriate data types?"
   ]
  },
  {
   "cell_type": "code",
   "execution_count": 10,
   "id": "e6db0507",
   "metadata": {},
   "outputs": [
    {
     "data": {
      "text/plain": [
       "product_id          int64\n",
       "title              object\n",
       "authors            object\n",
       "original_price      int64\n",
       "current_price       int64\n",
       "quantity          float64\n",
       "category           object\n",
       "n_review            int64\n",
       "avg_rating        float64\n",
       "pages              object\n",
       "manufacturer       object\n",
       "cover_link         object\n",
       "dtype: object"
      ]
     },
     "execution_count": 10,
     "metadata": {},
     "output_type": "execute_result"
    }
   ],
   "source": [
    "dtypes = pd.Series(dict(book_df.dtypes))\n",
    "dtypes"
   ]
  },
  {
   "cell_type": "markdown",
   "id": "91bc570d",
   "metadata": {},
   "source": [
    "We can see some of data type of the column has appropriate type. Some of them in object type like `pages`,`manufacturer`, `category`, `title`, `authors`,... We will explore and convert pages into integer and the remain will be string"
   ]
  },
  {
   "cell_type": "code",
   "execution_count": 11,
   "id": "7d297300",
   "metadata": {},
   "outputs": [],
   "source": [
    "# book_df.astype({'pages': np.float32})\n",
    "book_df['pages'] = pd.to_numeric(book_df['pages'] , errors='coerce')"
   ]
  },
  {
   "cell_type": "code",
   "execution_count": 12,
   "id": "70deb9e7",
   "metadata": {},
   "outputs": [
    {
     "name": "stdout",
     "output_type": "stream",
     "text": [
      "category {<class 'str'>}\n",
      "manufacturer {<class 'str'>, <class 'float'>}\n"
     ]
    }
   ],
   "source": [
    "def open_object_dtype(s):\n",
    "    dtypes = set()\n",
    "    s.apply(lambda x: dtypes.add(type(x)))\n",
    "    return dtypes\n",
    "print('category',open_object_dtype(book_df.category) )\n",
    "print('manufacturer',open_object_dtype(book_df.manufacturer) )\n",
    "book_df.loc[book_df['category'].str.strip() == '','category'] = np.nan\n",
    "book_df.loc[book_df['manufacturer'].str.strip() == '','manufacturer'] = np.nan\n",
    "book_df = book_df.astype({'manufacturer': str,'category':str})"
   ]
  },
  {
   "cell_type": "markdown",
   "id": "9520cdd0",
   "metadata": {},
   "source": [
    "We will replace which rows has zero characters by `np.nan` and cast them into str"
   ]
  },
  {
   "cell_type": "code",
   "execution_count": 13,
   "id": "6ef5a39e",
   "metadata": {
    "scrolled": true
   },
   "outputs": [
    {
     "data": {
      "text/plain": [
       "product_id      int64\n",
       "comment_id      int64\n",
       "title          object\n",
       "thank_count     int64\n",
       "customer_id     int64\n",
       "rating          int64\n",
       "content        object\n",
       "dtype: object"
      ]
     },
     "execution_count": 13,
     "metadata": {},
     "output_type": "execute_result"
    }
   ],
   "source": [
    "dtypes = pd.Series(dict(comment_df.dtypes))\n",
    "dtypes"
   ]
  },
  {
   "cell_type": "markdown",
   "id": "a73bddbf",
   "metadata": {},
   "source": [
    "With `comment_df` we also see some of data type of the column has appropriate type. Some of them in object type like `title`,`content`. We will explore and convert them into string"
   ]
  },
  {
   "cell_type": "code",
   "execution_count": 14,
   "id": "23c2c6b6",
   "metadata": {},
   "outputs": [
    {
     "name": "stdout",
     "output_type": "stream",
     "text": [
      "title {<class 'str'>, <class 'float'>}\n",
      "content {<class 'str'>, <class 'float'>}\n"
     ]
    }
   ],
   "source": [
    "print('title',open_object_dtype(comment_df.title ) )\n",
    "print('content',open_object_dtype(comment_df.content ) )\n",
    "comment_df.loc[comment_df['title'].str.strip() == '','title'] = np.nan\n",
    "comment_df.loc[comment_df['content'].str.strip() == '','content'] = np.nan\n",
    "comment_df = comment_df.astype({'title': str,'content':str})"
   ]
  },
  {
   "cell_type": "markdown",
   "id": "abb9d7b8",
   "metadata": {},
   "source": [
    "### With each numerical column, how are values distributed?\n"
   ]
  },
  {
   "cell_type": "markdown",
   "id": "2a1bb179",
   "metadata": {},
   "source": [
    "Numerical columns in `book_df` is `product_id`,\t`original_price`,\t`current_price`,\t`quantity`,\t`n_review`,\t`avg_rating`,\t`pages`."
   ]
  },
  {
   "cell_type": "code",
   "execution_count": 15,
   "id": "e287b834",
   "metadata": {
    "scrolled": false
   },
   "outputs": [
    {
     "data": {
      "text/html": [
       "<div>\n",
       "<style scoped>\n",
       "    .dataframe tbody tr th:only-of-type {\n",
       "        vertical-align: middle;\n",
       "    }\n",
       "\n",
       "    .dataframe tbody tr th {\n",
       "        vertical-align: top;\n",
       "    }\n",
       "\n",
       "    .dataframe thead th {\n",
       "        text-align: right;\n",
       "    }\n",
       "</style>\n",
       "<table border=\"1\" class=\"dataframe\">\n",
       "  <thead>\n",
       "    <tr style=\"text-align: right;\">\n",
       "      <th></th>\n",
       "      <th>product_id</th>\n",
       "      <th>original_price</th>\n",
       "      <th>current_price</th>\n",
       "      <th>quantity</th>\n",
       "      <th>n_review</th>\n",
       "      <th>avg_rating</th>\n",
       "      <th>pages</th>\n",
       "    </tr>\n",
       "  </thead>\n",
       "  <tbody>\n",
       "    <tr>\n",
       "      <th>missing_percentage</th>\n",
       "      <td>0.0</td>\n",
       "      <td>0.0</td>\n",
       "      <td>0.0</td>\n",
       "      <td>0.0</td>\n",
       "      <td>0.0</td>\n",
       "      <td>0.0</td>\n",
       "      <td>0.2</td>\n",
       "    </tr>\n",
       "    <tr>\n",
       "      <th>min</th>\n",
       "      <td>335337.0</td>\n",
       "      <td>0.0</td>\n",
       "      <td>0.0</td>\n",
       "      <td>1.0</td>\n",
       "      <td>0.0</td>\n",
       "      <td>0.0</td>\n",
       "      <td>10.0</td>\n",
       "    </tr>\n",
       "    <tr>\n",
       "      <th>lower_quartile</th>\n",
       "      <td>52785564.0</td>\n",
       "      <td>89000.0</td>\n",
       "      <td>60000.0</td>\n",
       "      <td>173.0</td>\n",
       "      <td>16.0</td>\n",
       "      <td>4.8</td>\n",
       "      <td>208.0</td>\n",
       "    </tr>\n",
       "    <tr>\n",
       "      <th>median</th>\n",
       "      <td>115078649.0</td>\n",
       "      <td>129000.0</td>\n",
       "      <td>88800.0</td>\n",
       "      <td>565.5</td>\n",
       "      <td>74.0</td>\n",
       "      <td>4.8</td>\n",
       "      <td>300.0</td>\n",
       "    </tr>\n",
       "    <tr>\n",
       "      <th>upper_quartile</th>\n",
       "      <td>192908778.0</td>\n",
       "      <td>190000.0</td>\n",
       "      <td>136600.0</td>\n",
       "      <td>2127.8</td>\n",
       "      <td>303.0</td>\n",
       "      <td>5.0</td>\n",
       "      <td>408.0</td>\n",
       "    </tr>\n",
       "    <tr>\n",
       "      <th>max</th>\n",
       "      <td>207909812.0</td>\n",
       "      <td>1550000.0</td>\n",
       "      <td>1200000.0</td>\n",
       "      <td>671121.0</td>\n",
       "      <td>11481.0</td>\n",
       "      <td>5.0</td>\n",
       "      <td>192000.0</td>\n",
       "    </tr>\n",
       "  </tbody>\n",
       "</table>\n",
       "</div>"
      ],
      "text/plain": [
       "                     product_id  original_price  current_price  quantity  \\\n",
       "missing_percentage          0.0             0.0            0.0       0.0   \n",
       "min                    335337.0             0.0            0.0       1.0   \n",
       "lower_quartile       52785564.0         89000.0        60000.0     173.0   \n",
       "median              115078649.0        129000.0        88800.0     565.5   \n",
       "upper_quartile      192908778.0        190000.0       136600.0    2127.8   \n",
       "max                 207909812.0       1550000.0      1200000.0  671121.0   \n",
       "\n",
       "                    n_review  avg_rating     pages  \n",
       "missing_percentage       0.0         0.0       0.2  \n",
       "min                      0.0         0.0      10.0  \n",
       "lower_quartile          16.0         4.8     208.0  \n",
       "median                  74.0         4.8     300.0  \n",
       "upper_quartile         303.0         5.0     408.0  \n",
       "max                  11481.0         5.0  192000.0  "
      ]
     },
     "execution_count": 15,
     "metadata": {},
     "output_type": "execute_result"
    }
   ],
   "source": [
    "cols = book_df.select_dtypes([np.number]).columns\n",
    "min = book_df[cols].min()\n",
    "missing_percentage = book_df[cols].isnull().sum()/num_rows*100\n",
    "lower_quartile = book_df[cols].quantile(0.25)\n",
    "median = book_df[cols].quantile(0.5)\n",
    "upper_quartile = book_df[cols].quantile(0.75)\n",
    "max = book_df[cols].max()\n",
    "nume_col_info_df = pd.concat([missing_percentage,min,lower_quartile,median,upper_quartile,max],axis = 1).T\n",
    "nume_col_info_df.index = [ \"missing_percentage\", \"min\", \"lower_quartile\", \"median\", \"upper_quartile\", \"max\"]\n",
    "nume_col_info_df = nume_col_info_df.round(1)\n",
    "nume_col_info_df"
   ]
  },
  {
   "cell_type": "markdown",
   "id": "288839c8",
   "metadata": {},
   "source": [
    "The maximum row for columns \"pages\" and \"n review\" is 192000 and 11481, respectively. Since it's very big, we'll have a look."
   ]
  },
  {
   "cell_type": "code",
   "execution_count": 16,
   "id": "154747dd",
   "metadata": {},
   "outputs": [
    {
     "data": {
      "text/html": [
       "<div>\n",
       "<style scoped>\n",
       "    .dataframe tbody tr th:only-of-type {\n",
       "        vertical-align: middle;\n",
       "    }\n",
       "\n",
       "    .dataframe tbody tr th {\n",
       "        vertical-align: top;\n",
       "    }\n",
       "\n",
       "    .dataframe thead th {\n",
       "        text-align: right;\n",
       "    }\n",
       "</style>\n",
       "<table border=\"1\" class=\"dataframe\">\n",
       "  <thead>\n",
       "    <tr style=\"text-align: right;\">\n",
       "      <th></th>\n",
       "      <th>product_id</th>\n",
       "      <th>title</th>\n",
       "      <th>authors</th>\n",
       "      <th>original_price</th>\n",
       "      <th>current_price</th>\n",
       "      <th>quantity</th>\n",
       "      <th>category</th>\n",
       "      <th>n_review</th>\n",
       "      <th>avg_rating</th>\n",
       "      <th>pages</th>\n",
       "      <th>manufacturer</th>\n",
       "      <th>cover_link</th>\n",
       "    </tr>\n",
       "  </thead>\n",
       "  <tbody>\n",
       "    <tr>\n",
       "      <th>0</th>\n",
       "      <td>74021317</td>\n",
       "      <td>Cây Cam Ngọt Của Tôi</td>\n",
       "      <td>José Mauro de Vasconcelos</td>\n",
       "      <td>108000</td>\n",
       "      <td>64800</td>\n",
       "      <td>53075.0</td>\n",
       "      <td>Tiểu Thuyết</td>\n",
       "      <td>11481</td>\n",
       "      <td>5.0</td>\n",
       "      <td>244.0</td>\n",
       "      <td>Nhà Xuất Bản Hội Nhà Văn</td>\n",
       "      <td>https://salt.tikicdn.com/ts/product/5e/18/24/2...</td>\n",
       "    </tr>\n",
       "  </tbody>\n",
       "</table>\n",
       "</div>"
      ],
      "text/plain": [
       "   product_id                 title                    authors  \\\n",
       "0    74021317  Cây Cam Ngọt Của Tôi  José Mauro de Vasconcelos   \n",
       "\n",
       "   original_price  current_price  quantity     category  n_review  avg_rating  \\\n",
       "0          108000          64800   53075.0  Tiểu Thuyết     11481         5.0   \n",
       "\n",
       "   pages              manufacturer  \\\n",
       "0  244.0  Nhà Xuất Bản Hội Nhà Văn   \n",
       "\n",
       "                                          cover_link  \n",
       "0  https://salt.tikicdn.com/ts/product/5e/18/24/2...  "
      ]
     },
     "execution_count": 16,
     "metadata": {},
     "output_type": "execute_result"
    }
   ],
   "source": [
    "book_df[book_df.n_review==11481.0]"
   ]
  },
  {
   "cell_type": "code",
   "execution_count": 17,
   "id": "e2982560",
   "metadata": {},
   "outputs": [
    {
     "data": {
      "text/html": [
       "<div>\n",
       "<style scoped>\n",
       "    .dataframe tbody tr th:only-of-type {\n",
       "        vertical-align: middle;\n",
       "    }\n",
       "\n",
       "    .dataframe tbody tr th {\n",
       "        vertical-align: top;\n",
       "    }\n",
       "\n",
       "    .dataframe thead th {\n",
       "        text-align: right;\n",
       "    }\n",
       "</style>\n",
       "<table border=\"1\" class=\"dataframe\">\n",
       "  <thead>\n",
       "    <tr style=\"text-align: right;\">\n",
       "      <th></th>\n",
       "      <th>product_id</th>\n",
       "      <th>title</th>\n",
       "      <th>authors</th>\n",
       "      <th>original_price</th>\n",
       "      <th>current_price</th>\n",
       "      <th>quantity</th>\n",
       "      <th>category</th>\n",
       "      <th>n_review</th>\n",
       "      <th>avg_rating</th>\n",
       "      <th>pages</th>\n",
       "      <th>manufacturer</th>\n",
       "      <th>cover_link</th>\n",
       "    </tr>\n",
       "  </thead>\n",
       "  <tbody>\n",
       "    <tr>\n",
       "      <th>650</th>\n",
       "      <td>201687274</td>\n",
       "      <td>Có Một Nổi Buồn Vừa Ngang Qua Đây</td>\n",
       "      <td>Gã</td>\n",
       "      <td>88000</td>\n",
       "      <td>64900</td>\n",
       "      <td>114.0</td>\n",
       "      <td>Truyện ngắn - Tản văn - Tạp Văn</td>\n",
       "      <td>6</td>\n",
       "      <td>5.0</td>\n",
       "      <td>192000.0</td>\n",
       "      <td>Nhà Xuất Bản Văn Học</td>\n",
       "      <td>https://salt.tikicdn.com/ts/product/08/fd/a5/0...</td>\n",
       "    </tr>\n",
       "  </tbody>\n",
       "</table>\n",
       "</div>"
      ],
      "text/plain": [
       "     product_id                              title authors  original_price  \\\n",
       "650   201687274  Có Một Nổi Buồn Vừa Ngang Qua Đây      Gã           88000   \n",
       "\n",
       "     current_price  quantity                         category  n_review  \\\n",
       "650          64900     114.0  Truyện ngắn - Tản văn - Tạp Văn         6   \n",
       "\n",
       "     avg_rating     pages          manufacturer  \\\n",
       "650         5.0  192000.0  Nhà Xuất Bản Văn Học   \n",
       "\n",
       "                                            cover_link  \n",
       "650  https://salt.tikicdn.com/ts/product/08/fd/a5/0...  "
      ]
     },
     "execution_count": 17,
     "metadata": {},
     "output_type": "execute_result"
    }
   ],
   "source": [
    "book_df[book_df.pages==192000.0]"
   ]
  },
  {
   "cell_type": "markdown",
   "id": "bc334ba6",
   "metadata": {},
   "source": [
    "I checked the webpage, and the information is accurate."
   ]
  },
  {
   "cell_type": "code",
   "execution_count": 18,
   "id": "2070e1f9",
   "metadata": {},
   "outputs": [
    {
     "data": {
      "text/html": [
       "<div>\n",
       "<style scoped>\n",
       "    .dataframe tbody tr th:only-of-type {\n",
       "        vertical-align: middle;\n",
       "    }\n",
       "\n",
       "    .dataframe tbody tr th {\n",
       "        vertical-align: top;\n",
       "    }\n",
       "\n",
       "    .dataframe thead th {\n",
       "        text-align: right;\n",
       "    }\n",
       "</style>\n",
       "<table border=\"1\" class=\"dataframe\">\n",
       "  <thead>\n",
       "    <tr style=\"text-align: right;\">\n",
       "      <th></th>\n",
       "      <th>product_id</th>\n",
       "      <th>title</th>\n",
       "      <th>authors</th>\n",
       "      <th>original_price</th>\n",
       "      <th>current_price</th>\n",
       "      <th>quantity</th>\n",
       "      <th>category</th>\n",
       "      <th>n_review</th>\n",
       "      <th>avg_rating</th>\n",
       "      <th>pages</th>\n",
       "      <th>manufacturer</th>\n",
       "      <th>cover_link</th>\n",
       "    </tr>\n",
       "  </thead>\n",
       "  <tbody>\n",
       "    <tr>\n",
       "      <th>968</th>\n",
       "      <td>203875661</td>\n",
       "      <td>( Khóa Học ) IELTS Fighter Target 6.5 Speaking</td>\n",
       "      <td>NaN</td>\n",
       "      <td>0</td>\n",
       "      <td>0</td>\n",
       "      <td>56.0</td>\n",
       "      <td>Sách Học Tiếng Anh</td>\n",
       "      <td>0</td>\n",
       "      <td>0.0</td>\n",
       "      <td>NaN</td>\n",
       "      <td>Nhà Xuất Bản Thế Giới</td>\n",
       "      <td>https://salt.tikicdn.com/ts/product/11/b3/ec/4...</td>\n",
       "    </tr>\n",
       "  </tbody>\n",
       "</table>\n",
       "</div>"
      ],
      "text/plain": [
       "     product_id                                           title authors  \\\n",
       "968   203875661  ( Khóa Học ) IELTS Fighter Target 6.5 Speaking     NaN   \n",
       "\n",
       "     original_price  current_price  quantity            category  n_review  \\\n",
       "968               0              0      56.0  Sách Học Tiếng Anh         0   \n",
       "\n",
       "     avg_rating  pages           manufacturer  \\\n",
       "968         0.0    NaN  Nhà Xuất Bản Thế Giới   \n",
       "\n",
       "                                            cover_link  \n",
       "968  https://salt.tikicdn.com/ts/product/11/b3/ec/4...  "
      ]
     },
     "execution_count": 18,
     "metadata": {},
     "output_type": "execute_result"
    }
   ],
   "source": [
    "book_df[book_df.original_price==0]"
   ]
  },
  {
   "cell_type": "markdown",
   "id": "6da2ba4b",
   "metadata": {},
   "source": [
    "There is only one row with a price of 0. We can see that it is a course, so perhaps they are just using it as a means of advertising."
   ]
  },
  {
   "cell_type": "markdown",
   "id": "6a731f89",
   "metadata": {},
   "source": [
    "Numerical columns in `comment_df` is `product_id`, `comment_id`, `thank_count`,\t`customer_id`,\t`rating`."
   ]
  },
  {
   "cell_type": "code",
   "execution_count": 19,
   "id": "e95b5f94",
   "metadata": {},
   "outputs": [
    {
     "data": {
      "text/html": [
       "<div>\n",
       "<style scoped>\n",
       "    .dataframe tbody tr th:only-of-type {\n",
       "        vertical-align: middle;\n",
       "    }\n",
       "\n",
       "    .dataframe tbody tr th {\n",
       "        vertical-align: top;\n",
       "    }\n",
       "\n",
       "    .dataframe thead th {\n",
       "        text-align: right;\n",
       "    }\n",
       "</style>\n",
       "<table border=\"1\" class=\"dataframe\">\n",
       "  <thead>\n",
       "    <tr style=\"text-align: right;\">\n",
       "      <th></th>\n",
       "      <th>product_id</th>\n",
       "      <th>comment_id</th>\n",
       "      <th>thank_count</th>\n",
       "      <th>customer_id</th>\n",
       "      <th>rating</th>\n",
       "    </tr>\n",
       "  </thead>\n",
       "  <tbody>\n",
       "    <tr>\n",
       "      <th>missing_percentage</th>\n",
       "      <td>0.0</td>\n",
       "      <td>0.0</td>\n",
       "      <td>0.0</td>\n",
       "      <td>0.0</td>\n",
       "      <td>0.0</td>\n",
       "    </tr>\n",
       "    <tr>\n",
       "      <th>min</th>\n",
       "      <td>335337.0</td>\n",
       "      <td>116197.0</td>\n",
       "      <td>0.0</td>\n",
       "      <td>27.0</td>\n",
       "      <td>1.0</td>\n",
       "    </tr>\n",
       "    <tr>\n",
       "      <th>lower_quartile</th>\n",
       "      <td>42459036.0</td>\n",
       "      <td>11576181.0</td>\n",
       "      <td>0.0</td>\n",
       "      <td>5355417.0</td>\n",
       "      <td>5.0</td>\n",
       "    </tr>\n",
       "    <tr>\n",
       "      <th>median</th>\n",
       "      <td>77105728.0</td>\n",
       "      <td>15459335.0</td>\n",
       "      <td>0.0</td>\n",
       "      <td>11123876.0</td>\n",
       "      <td>5.0</td>\n",
       "    </tr>\n",
       "    <tr>\n",
       "      <th>upper_quartile</th>\n",
       "      <td>147920903.0</td>\n",
       "      <td>17518350.0</td>\n",
       "      <td>0.0</td>\n",
       "      <td>19113314.0</td>\n",
       "      <td>5.0</td>\n",
       "    </tr>\n",
       "    <tr>\n",
       "      <th>max</th>\n",
       "      <td>207852961.0</td>\n",
       "      <td>18392604.0</td>\n",
       "      <td>548.0</td>\n",
       "      <td>28578516.0</td>\n",
       "      <td>5.0</td>\n",
       "    </tr>\n",
       "  </tbody>\n",
       "</table>\n",
       "</div>"
      ],
      "text/plain": [
       "                     product_id  comment_id  thank_count  customer_id  rating\n",
       "missing_percentage          0.0         0.0          0.0          0.0     0.0\n",
       "min                    335337.0    116197.0          0.0         27.0     1.0\n",
       "lower_quartile       42459036.0  11576181.0          0.0    5355417.0     5.0\n",
       "median               77105728.0  15459335.0          0.0   11123876.0     5.0\n",
       "upper_quartile      147920903.0  17518350.0          0.0   19113314.0     5.0\n",
       "max                 207852961.0  18392604.0        548.0   28578516.0     5.0"
      ]
     },
     "execution_count": 19,
     "metadata": {},
     "output_type": "execute_result"
    }
   ],
   "source": [
    "cols = comment_df.select_dtypes([np.number]).columns\n",
    "min = comment_df[cols].min()\n",
    "missing_percentage = comment_df[cols].isnull().sum()/num_rows*100\n",
    "lower_quartile = comment_df[cols].quantile(0.25)\n",
    "median = comment_df[cols].quantile(0.5)\n",
    "upper_quartile = comment_df[cols].quantile(0.75)\n",
    "max = comment_df[cols].max()\n",
    "nume_col_info_df = pd.concat([missing_percentage,min,lower_quartile,median,upper_quartile,max],axis = 1).T\n",
    "nume_col_info_df.index = [ \"missing_percentage\", \"min\", \"lower_quartile\", \"median\", \"upper_quartile\", \"max\"]\n",
    "nume_col_info_df = nume_col_info_df.round(1)\n",
    "nume_col_info_df"
   ]
  },
  {
   "cell_type": "markdown",
   "id": "e1cb7fa9",
   "metadata": {},
   "source": [
    "The information is clear and unambiguous."
   ]
  },
  {
   "cell_type": "markdown",
   "id": "0819ecde",
   "metadata": {},
   "source": [
    "### With each categorical column, how are values distributed?"
   ]
  },
  {
   "cell_type": "markdown",
   "id": "2c17cb9d",
   "metadata": {},
   "source": [
    "Category columns in `book_df` is `category`, `category`, `title`,\t`manufacturer`,\t`authors`."
   ]
  },
  {
   "cell_type": "code",
   "execution_count": 20,
   "id": "b72d0081",
   "metadata": {
    "scrolled": true
   },
   "outputs": [
    {
     "data": {
      "text/html": [
       "<div>\n",
       "<style scoped>\n",
       "    .dataframe tbody tr th:only-of-type {\n",
       "        vertical-align: middle;\n",
       "    }\n",
       "\n",
       "    .dataframe tbody tr th {\n",
       "        vertical-align: top;\n",
       "    }\n",
       "\n",
       "    .dataframe thead th {\n",
       "        text-align: right;\n",
       "    }\n",
       "</style>\n",
       "<table border=\"1\" class=\"dataframe\">\n",
       "  <thead>\n",
       "    <tr style=\"text-align: right;\">\n",
       "      <th></th>\n",
       "      <th>manufacturer</th>\n",
       "      <th>title</th>\n",
       "      <th>authors</th>\n",
       "      <th>category</th>\n",
       "      <th>cover_link</th>\n",
       "    </tr>\n",
       "  </thead>\n",
       "  <tbody>\n",
       "    <tr>\n",
       "      <th>Missing percentage</th>\n",
       "      <td>0.0</td>\n",
       "      <td>0.0</td>\n",
       "      <td>7.878447</td>\n",
       "      <td>0.0</td>\n",
       "      <td>0.0</td>\n",
       "    </tr>\n",
       "    <tr>\n",
       "      <th>Num diff val</th>\n",
       "      <td>42</td>\n",
       "      <td>1769</td>\n",
       "      <td>1083</td>\n",
       "      <td>355</td>\n",
       "      <td>1777</td>\n",
       "    </tr>\n",
       "    <tr>\n",
       "      <th>Diff val</th>\n",
       "      <td>[Nhà Xuất Bản Hội Nhà Văn, Nhà Xuất Bản Thế Gi...</td>\n",
       "      <td>[Cây Cam Ngọt Của Tôi, Hành Tinh Của Một Kẻ Ng...</td>\n",
       "      <td>[José Mauro de Vasconcelos, Nguyễn Đoàn Minh T...</td>\n",
       "      <td>[Tiểu Thuyết, Sách tư duy - Kỹ năng sống, Lĩnh...</td>\n",
       "      <td>[https://salt.tikicdn.com/ts/product/5e/18/24/...</td>\n",
       "    </tr>\n",
       "  </tbody>\n",
       "</table>\n",
       "</div>"
      ],
      "text/plain": [
       "                                                         manufacturer  \\\n",
       "Missing percentage                                                0.0   \n",
       "Num diff val                                                       42   \n",
       "Diff val            [Nhà Xuất Bản Hội Nhà Văn, Nhà Xuất Bản Thế Gi...   \n",
       "\n",
       "                                                                title  \\\n",
       "Missing percentage                                                0.0   \n",
       "Num diff val                                                     1769   \n",
       "Diff val            [Cây Cam Ngọt Của Tôi, Hành Tinh Của Một Kẻ Ng...   \n",
       "\n",
       "                                                              authors  \\\n",
       "Missing percentage                                           7.878447   \n",
       "Num diff val                                                     1083   \n",
       "Diff val            [José Mauro de Vasconcelos, Nguyễn Đoàn Minh T...   \n",
       "\n",
       "                                                             category  \\\n",
       "Missing percentage                                                0.0   \n",
       "Num diff val                                                      355   \n",
       "Diff val            [Tiểu Thuyết, Sách tư duy - Kỹ năng sống, Lĩnh...   \n",
       "\n",
       "                                                           cover_link  \n",
       "Missing percentage                                                0.0  \n",
       "Num diff val                                                     1777  \n",
       "Diff val            [https://salt.tikicdn.com/ts/product/5e/18/24/...  "
      ]
     },
     "execution_count": 20,
     "metadata": {},
     "output_type": "execute_result"
    }
   ],
   "source": [
    "cate_cols = set(book_df.columns) - set(book_df.select_dtypes([np.number]).columns)\n",
    "missing_percentages = np.sum(book_df[cate_cols].isna()) / len(book_df) * 100\n",
    "num_diff_vals = np.array(book_df[cate_cols].nunique())\n",
    "diff_vals = np.array(book_df[cate_cols].apply(lambda col: col.dropna().unique()))\n",
    "\n",
    "cate_cols = pd.DataFrame(data=np.array([missing_percentages, num_diff_vals, diff_vals]),\n",
    "                            index=['Missing percentage', 'Num diff val', 'Diff val'], columns=cate_cols)\n",
    "cate_cols"
   ]
  },
  {
   "cell_type": "markdown",
   "id": "c1a06174",
   "metadata": {},
   "source": [
    "Category columns in `comment_df` is `title`\t, `content`."
   ]
  },
  {
   "cell_type": "code",
   "execution_count": 21,
   "id": "a16b2d8d",
   "metadata": {},
   "outputs": [
    {
     "data": {
      "text/html": [
       "<div>\n",
       "<style scoped>\n",
       "    .dataframe tbody tr th:only-of-type {\n",
       "        vertical-align: middle;\n",
       "    }\n",
       "\n",
       "    .dataframe tbody tr th {\n",
       "        vertical-align: top;\n",
       "    }\n",
       "\n",
       "    .dataframe thead th {\n",
       "        text-align: right;\n",
       "    }\n",
       "</style>\n",
       "<table border=\"1\" class=\"dataframe\">\n",
       "  <thead>\n",
       "    <tr style=\"text-align: right;\">\n",
       "      <th></th>\n",
       "      <th>title</th>\n",
       "      <th>content</th>\n",
       "    </tr>\n",
       "  </thead>\n",
       "  <tbody>\n",
       "    <tr>\n",
       "      <th>Missing percentage</th>\n",
       "      <td>0.0</td>\n",
       "      <td>0.0</td>\n",
       "    </tr>\n",
       "    <tr>\n",
       "      <th>Num diff val</th>\n",
       "      <td>4164</td>\n",
       "      <td>75681</td>\n",
       "    </tr>\n",
       "    <tr>\n",
       "      <th>Diff val</th>\n",
       "      <td>[Cực kì hài lòng, Bình thường, Một cuốn sách đ...</td>\n",
       "      <td>[Có những người bước đến, họ lấp đầy hạnh phúc...</td>\n",
       "    </tr>\n",
       "  </tbody>\n",
       "</table>\n",
       "</div>"
      ],
      "text/plain": [
       "                                                                title  \\\n",
       "Missing percentage                                                0.0   \n",
       "Num diff val                                                     4164   \n",
       "Diff val            [Cực kì hài lòng, Bình thường, Một cuốn sách đ...   \n",
       "\n",
       "                                                              content  \n",
       "Missing percentage                                                0.0  \n",
       "Num diff val                                                    75681  \n",
       "Diff val            [Có những người bước đến, họ lấp đầy hạnh phúc...  "
      ]
     },
     "execution_count": 21,
     "metadata": {},
     "output_type": "execute_result"
    }
   ],
   "source": [
    "cate_cols = set(comment_df.columns) - set(comment_df.select_dtypes([np.number]).columns)\n",
    "missing_percentages = np.sum(comment_df[cate_cols].isna()) / len(comment_df) * 100\n",
    "num_diff_vals = np.array(comment_df[cate_cols].nunique())\n",
    "diff_vals = np.array(comment_df[cate_cols].apply(lambda col: col.dropna().unique()))\n",
    "\n",
    "cate_cols = pd.DataFrame(data=np.array([missing_percentages, num_diff_vals, diff_vals]),\n",
    "                            index=['Missing percentage', 'Num diff val', 'Diff val'], columns=cate_cols)\n",
    "cate_cols"
   ]
  },
  {
   "cell_type": "markdown",
   "id": "c588bdb9",
   "metadata": {},
   "source": [
    "Lets look at `manufacturer` columns. "
   ]
  },
  {
   "cell_type": "code",
   "execution_count": 22,
   "id": "b97e5933",
   "metadata": {
    "scrolled": true
   },
   "outputs": [
    {
     "data": {
      "text/plain": [
       "nan                                              265\n",
       "Nhà Xuất Bản Thế Giới                            249\n",
       "NXB Trẻ                                          145\n",
       "Nhà Xuất Bản Hà Nội                              128\n",
       "Nhà Xuất Bản Dân Trí                             126\n",
       "Nhà Xuất Bản Kim Đồng                            113\n",
       "Nhà Xuất Bản Hội Nhà Văn                         111\n",
       "Nhà Xuất Bản Thanh Niên                           98\n",
       "Nhà Xuất Bản Tổng hợp TP.HCM                      92\n",
       "Nhà Xuất Bản Lao Động                             90\n",
       "Nhà Xuất Bản Văn Học                              77\n",
       "Nhà Xuất Bản Hồng Đức                             57\n",
       "Nhà Xuất Bản Công Thương                          46\n",
       "Nhà Xuất Bản Phụ Nữ Việt Nam                      38\n",
       "Nhà Xuất Bản Phụ Nữ                               30\n",
       "Nhà Xuất Bản Đà Nẵng                              17\n",
       "Nhà Xuất Bản Đại Học Quốc Gia Hà Nội              13\n",
       "Nhà Xuất Bản Mỹ Thuật                              8\n",
       "Nhà Xuất Bản Lao Động Xã Hội                       7\n",
       "Nhà Xuất Bản Tri Thức                              7\n",
       "Nhiều Nhà Xuất Bản                                 6\n",
       "NXB Dân Trí                                        6\n",
       "Nhà Xuất Bản Tài Chính                             5\n",
       "Nhà Xuất Bản Khoa Học Xã Hội                       5\n",
       "Nhà Xuất Bản Chính Trị Quốc Gia Sự Thật            4\n",
       "Nhà Xuất Bản Thông Tin Và Truyền Thông             3\n",
       "NXB Đại học Kinh Tế Quốc Dân                       3\n",
       "Nhà Xuất Bản Văn Hóa - Văn Nghệ TP.HCM             3\n",
       "Nhà Xuất Bản Đồng Nai                              3\n",
       "hong duc                                           3\n",
       "Nhà Xuất Bản Kinh Tế TPHCM                         3\n",
       "Nhà Xuất Bản Đại Học Kinh Tế Quốc Dân              2\n",
       "Forbes Việt Nam                                    2\n",
       "Nhà Xuất Bản Khoa học & kỹ thuật                   2\n",
       "Nhà Xuất Bản Tôn Giáo                              2\n",
       "Nhà Xuất Bản Thông Tấn                             2\n",
       "Nhà Xuất Bản Văn Hoá Dân Tộc                       1\n",
       "Nhà Xuất Bản Hồng Đức - Hội Luật Gia Việt Nam      1\n",
       "Nhà Xuất Bản Thời Đại                              1\n",
       "Nhà Xuất Bản Compass Publishing                    1\n",
       "ĐHQG Hà Nội                                        1\n",
       "Nhà Xuất Bản Giáo Dục Việt Nam                     1\n",
       "Name: manufacturer, dtype: int64"
      ]
     },
     "execution_count": 22,
     "metadata": {},
     "output_type": "execute_result"
    }
   ],
   "source": [
    "book_df.manufacturer.value_counts()"
   ]
  },
  {
   "cell_type": "markdown",
   "id": "77648657",
   "metadata": {},
   "source": [
    "We will replace `NXB` by `Nhà Xuất Bản`, `hong duc` by `Nhà Xuất Bản Hồng Đức` and `ĐHQG`:`Đại Học Quốc Gia`"
   ]
  },
  {
   "cell_type": "code",
   "execution_count": 23,
   "id": "d0027fb1",
   "metadata": {},
   "outputs": [],
   "source": [
    "book_df['manufacturer'] = book_df['manufacturer'].replace({'NXB':'Nhà Xuất Bản','hong duc':'Nhà Xuất Bản Hồng Đức','ĐHQG':'Đại Học Quốc Gia'}, regex=True)"
   ]
  },
  {
   "cell_type": "markdown",
   "id": "200515a2",
   "metadata": {},
   "source": [
    "I checked the website and found that the authors of these books are listed as \".\""
   ]
  },
  {
   "cell_type": "code",
   "execution_count": 24,
   "id": "2d8cff8c",
   "metadata": {
    "scrolled": true
   },
   "outputs": [
    {
     "data": {
      "text/html": [
       "<div>\n",
       "<style scoped>\n",
       "    .dataframe tbody tr th:only-of-type {\n",
       "        vertical-align: middle;\n",
       "    }\n",
       "\n",
       "    .dataframe tbody tr th {\n",
       "        vertical-align: top;\n",
       "    }\n",
       "\n",
       "    .dataframe thead th {\n",
       "        text-align: right;\n",
       "    }\n",
       "</style>\n",
       "<table border=\"1\" class=\"dataframe\">\n",
       "  <thead>\n",
       "    <tr style=\"text-align: right;\">\n",
       "      <th></th>\n",
       "      <th>product_id</th>\n",
       "      <th>title</th>\n",
       "      <th>authors</th>\n",
       "      <th>original_price</th>\n",
       "      <th>current_price</th>\n",
       "      <th>quantity</th>\n",
       "      <th>category</th>\n",
       "      <th>n_review</th>\n",
       "      <th>avg_rating</th>\n",
       "      <th>pages</th>\n",
       "      <th>manufacturer</th>\n",
       "      <th>cover_link</th>\n",
       "    </tr>\n",
       "  </thead>\n",
       "  <tbody>\n",
       "    <tr>\n",
       "      <th>145</th>\n",
       "      <td>73125816</td>\n",
       "      <td>Digital Marketing - Từ Chiến Lược Đến Thực Thi...</td>\n",
       "      <td>.</td>\n",
       "      <td>220000</td>\n",
       "      <td>154000</td>\n",
       "      <td>4487.0</td>\n",
       "      <td>Sách Marketing - Bán hàng</td>\n",
       "      <td>865</td>\n",
       "      <td>4.8</td>\n",
       "      <td>250.0</td>\n",
       "      <td>Nhà Xuất Bản Lao Động</td>\n",
       "      <td>https://salt.tikicdn.com/ts/product/d0/b7/ac/8...</td>\n",
       "    </tr>\n",
       "    <tr>\n",
       "      <th>270</th>\n",
       "      <td>54614797</td>\n",
       "      <td>Có Một Ngày, Bố Mẹ Sẽ Già Đi</td>\n",
       "      <td>.</td>\n",
       "      <td>96000</td>\n",
       "      <td>58520</td>\n",
       "      <td>10530.0</td>\n",
       "      <td>Truyện ngắn - Tản văn - Tạp Văn</td>\n",
       "      <td>2252</td>\n",
       "      <td>4.8</td>\n",
       "      <td>296.0</td>\n",
       "      <td>Nhà Xuất Bản Thế Giới</td>\n",
       "      <td>https://salt.tikicdn.com/ts/product/89/f1/fc/1...</td>\n",
       "    </tr>\n",
       "    <tr>\n",
       "      <th>883</th>\n",
       "      <td>40774181</td>\n",
       "      <td>Combo Sách Tiếng hàn tổng hợp dành cho người V...</td>\n",
       "      <td>.</td>\n",
       "      <td>220000</td>\n",
       "      <td>147400</td>\n",
       "      <td>5295.0</td>\n",
       "      <td>Sách Học Tiếng Hàn</td>\n",
       "      <td>1305</td>\n",
       "      <td>5.0</td>\n",
       "      <td>436.0</td>\n",
       "      <td>nan</td>\n",
       "      <td>https://salt.tikicdn.com/ts/product/6d/97/55/e...</td>\n",
       "    </tr>\n",
       "    <tr>\n",
       "      <th>1194</th>\n",
       "      <td>145977554</td>\n",
       "      <td>Combo 2 Cuốn: Thần Số Học + Thần Số Học Ứng Dụng</td>\n",
       "      <td>.</td>\n",
       "      <td>348000</td>\n",
       "      <td>244000</td>\n",
       "      <td>403.0</td>\n",
       "      <td>Sách Chiêm Tinh - Horoscope</td>\n",
       "      <td>62</td>\n",
       "      <td>4.8</td>\n",
       "      <td>NaN</td>\n",
       "      <td>Nhà Xuất Bản Thanh Niên</td>\n",
       "      <td>https://salt.tikicdn.com/ts/product/e6/21/58/b...</td>\n",
       "    </tr>\n",
       "    <tr>\n",
       "      <th>1239</th>\n",
       "      <td>45349383</td>\n",
       "      <td>Hashtag No.2 Fashion - Kinh Doanh Thời Trang T...</td>\n",
       "      <td>.</td>\n",
       "      <td>200000</td>\n",
       "      <td>140000</td>\n",
       "      <td>1768.0</td>\n",
       "      <td>Sách Marketing - Bán hàng</td>\n",
       "      <td>213</td>\n",
       "      <td>4.8</td>\n",
       "      <td>132.0</td>\n",
       "      <td>Nhà Xuất Bản Dân Trí</td>\n",
       "      <td>https://salt.tikicdn.com/ts/product/a0/fe/92/7...</td>\n",
       "    </tr>\n",
       "  </tbody>\n",
       "</table>\n",
       "</div>"
      ],
      "text/plain": [
       "      product_id                                              title authors  \\\n",
       "145     73125816  Digital Marketing - Từ Chiến Lược Đến Thực Thi...       .   \n",
       "270     54614797                       Có Một Ngày, Bố Mẹ Sẽ Già Đi       .   \n",
       "883     40774181  Combo Sách Tiếng hàn tổng hợp dành cho người V...       .   \n",
       "1194   145977554   Combo 2 Cuốn: Thần Số Học + Thần Số Học Ứng Dụng       .   \n",
       "1239    45349383  Hashtag No.2 Fashion - Kinh Doanh Thời Trang T...       .   \n",
       "\n",
       "      original_price  current_price  quantity  \\\n",
       "145           220000         154000    4487.0   \n",
       "270            96000          58520   10530.0   \n",
       "883           220000         147400    5295.0   \n",
       "1194          348000         244000     403.0   \n",
       "1239          200000         140000    1768.0   \n",
       "\n",
       "                             category  n_review  avg_rating  pages  \\\n",
       "145        Sách Marketing - Bán hàng        865         4.8  250.0   \n",
       "270   Truyện ngắn - Tản văn - Tạp Văn      2252         4.8  296.0   \n",
       "883                Sách Học Tiếng Hàn      1305         5.0  436.0   \n",
       "1194      Sách Chiêm Tinh - Horoscope        62         4.8    NaN   \n",
       "1239       Sách Marketing - Bán hàng        213         4.8  132.0   \n",
       "\n",
       "                 manufacturer  \\\n",
       "145     Nhà Xuất Bản Lao Động   \n",
       "270     Nhà Xuất Bản Thế Giới   \n",
       "883                       nan   \n",
       "1194  Nhà Xuất Bản Thanh Niên   \n",
       "1239     Nhà Xuất Bản Dân Trí   \n",
       "\n",
       "                                             cover_link  \n",
       "145   https://salt.tikicdn.com/ts/product/d0/b7/ac/8...  \n",
       "270   https://salt.tikicdn.com/ts/product/89/f1/fc/1...  \n",
       "883   https://salt.tikicdn.com/ts/product/6d/97/55/e...  \n",
       "1194  https://salt.tikicdn.com/ts/product/e6/21/58/b...  \n",
       "1239  https://salt.tikicdn.com/ts/product/a0/fe/92/7...  "
      ]
     },
     "execution_count": 24,
     "metadata": {},
     "output_type": "execute_result"
    }
   ],
   "source": [
    "book_df[book_df['authors']=='.'][:5]"
   ]
  },
  {
   "cell_type": "markdown",
   "id": "6257a0de",
   "metadata": {},
   "source": [
    "Let's look at `category` field."
   ]
  },
  {
   "cell_type": "code",
   "execution_count": 25,
   "id": "82131ea6",
   "metadata": {},
   "outputs": [
    {
     "data": {
      "text/plain": [
       "Sách tư duy - Kỹ năng sống                                                               295\n",
       "Tiểu Thuyết                                                                              133\n",
       "Truyện ngắn - Tản văn - Tạp Văn                                                          109\n",
       "Sách nghệ thuật sống đẹp                                                                  58\n",
       "Sách kỹ năng làm việc                                                                     56\n",
       "                                                                                        ... \n",
       "Migi & Dali - Tập 4                                                                        1\n",
       "Dragon Quest - Dấu Ấn Roto (Dragon Quest Saga Emblem Of Roto) Perfect Edition - Tập 9      1\n",
       "Thị Trấn Vắng Mình Tôi - 5                                                                 1\n",
       "Combo Người Bà Tài Giỏi Vùng Saga (Tập 1+2+3+4+5+6+7+8)_Tặng Kèm Khóa và Bookmark          1\n",
       "Anh Em Phi Hành Gia - Tập 38                                                               1\n",
       "Name: category, Length: 355, dtype: int64"
      ]
     },
     "execution_count": 25,
     "metadata": {},
     "output_type": "execute_result"
    }
   ],
   "source": [
    "book_df['category'].value_counts()"
   ]
  },
  {
   "cell_type": "markdown",
   "id": "101804ba",
   "metadata": {},
   "source": [
    "The 'category' columns in this dataset may have been taken incorrectly by the author, resulting in some incorrect categories. We looked over the website and gathered data on every category a book might fall under.There are many categories and subcategories, however practically every book in our dataset is \"Sách tiếng việt,\" thus we only focus on its subcategories."
   ]
  },
  {
   "cell_type": "code",
   "execution_count": 26,
   "id": "ed67a6d2",
   "metadata": {
    "scrolled": true
   },
   "outputs": [],
   "source": [
    "cate = {'Sách văn học': ['Du ký','Light novel','Phê Bình - Lý Luận Văn Học', 'Phóng sự - Ký sự - Bút ký', 'Tác phẩm kinh điển','Thơ',\n",
    " 'Tiểu sử - Hồi ký', 'Tiểu Thuyết','Tranh Truyện',\n",
    "  'Truyện cổ tích - Ngụ ngôn','Truyện cười', 'Truyện dài', 'Truyện đam mỹ',\n",
    "  'Truyện Giả tưởng - Huyền Bí - Phiêu Lưu', 'Truyện kiếm hiệp',\n",
    "  'Truyện kinh dị','Truyện ngắn - Tản văn - Tạp Văn',\n",
    "  'Truyện ngôn tình', 'Truyện trinh thám', 'Ca dao - Tục ngữ', 'Sách ảnh'],\n",
    " 'Sách kinh tế': ['Bài học kinh doanh',\n",
    "  'Sách doanh nhân',\n",
    "  'Sách khởi nghiệp',\n",
    "  'Sách kinh tế học',\n",
    "  'Sách kỹ năng làm việc',\n",
    "  'Sách Marketing - Bán hàng',\n",
    "  'Sách quản trị, lãnh đạo',\n",
    "  'Sách quản trị nhân lực',\n",
    "  'Sách tài chính, kế toán',\n",
    "  'Sách tài chính, tiền tệ'],\n",
    " 'Sách thiếu nhi': ['Đạo đức - Kỹ năng sống',\n",
    "  'Kiến thức - Bách khoa',\n",
    "  'Tô màu - Luyện chữ',\n",
    "  'Truyện cổ tích',\n",
    "  'Truyện kể cho bé',\n",
    "  'Truyện tranh Ehon',\n",
    "  'Truyện tranh thiếu nhi',\n",
    "  'Văn học thiếu nhi'],\n",
    " 'Sách kỹ năng sống': ['Sách tư duy - Kỹ năng sống',\n",
    "  'Sách nghệ thuật sống đẹp',\n",
    "  'Sách hướng nghiệp - Kỹ năng mềm'],\n",
    " 'Sách Bà mẹ - Em bé': ['Sách Thai Giáo',\n",
    "  'Sách Kiến Thức - Kỹ Năng Cho Trẻ',\n",
    "  'Sách Làm Cha Mẹ',\n",
    "  'Sách Dinh Dưỡng - Sức Khỏe Cho Bé'],\n",
    " 'Sách Giáo Khoa - Giáo Trình': ['Sách Giáo Khoa Cấp 1',\n",
    "  'Sách Giáo Khoa Cấp 2',\n",
    "  'Sách Giáo Khoa Cấp 3',\n",
    "  'Giáo Trình Đại Học - Cao Đẳng'],\n",
    " 'Sách Học Ngoại Ngữ': ['Sách Học Tiếng Anh',\n",
    "  'Sách Học Tiếng Nhật',\n",
    "  'Sách Học Tiếng Hàn',\n",
    "  'Sách Học Tiếng Hoa',\n",
    "  'Ngoại Ngữ Khác'],\n",
    " 'Sách Tham Khảo': ['Sách tham khảo cấp I',\n",
    "  'Sách tham khảo cấp II',\n",
    "  'Sách tham khảo cấp III',\n",
    "  'Sách Luyện Thi Đại Học - Cao Đẳng',\n",
    "  'Thẻ luyện thi',\n",
    "  'Sách chuyên đề'],\n",
    " 'Từ Điển': ['Từ Điển Tiếng Anh',\n",
    "  'Từ Điển Tiếng Trung',\n",
    "  'Từ Điển Tiếng Hàn',\n",
    "  'Từ Điển Tiếng Nhật',\n",
    "  'Từ Điển Tiếng Pháp',\n",
    "  'Từ Điển Tiếng Việt',\n",
    "  'Từ Điển Ngôn Ngữ Khác'],\n",
    " 'Sách Kiến Thức Tổng Hợp': ['Kiến Thức Bách Khoa',\n",
    "  'Lĩnh vực khác',\n",
    "  'Sách Chiêm Tinh - Horoscope',\n",
    "  'Sách giáo dục',\n",
    "  'Sách Phong Thủy - Kinh Dịch',\n",
    "  'Triết Học'],\n",
    " 'Sách Khoa Học - Kỹ Thuật': ['Sách Khoa Học - Kỹ Thuật'],\n",
    " 'Sách Lịch sử': ['Lịch Sử Việt Nam', 'Lịch Sử Thế Giới'],\n",
    " 'Điện Ảnh - Nhạc - Họa': ['Âm Nhạc - Điện Ảnh',\n",
    "  'Mỹ Thuật - Kiến Trúc',\n",
    "  'Sách Tô Màu Dành Cho Người Lớn'],\n",
    " 'Truyện Tranh, Manga, Comic': ['Truyện Tranh, Manga, Comic'],\n",
    " 'Sách Tôn Giáo - Tâm Linh': ['Sách Tôn Giáo - Tâm Linh'],\n",
    " 'Sách Văn Hóa - Địa Lý - Du Lịch': ['Sách Danh Nhân',\n",
    "  'Sách Địa Danh - Du Lịch',\n",
    "  'Sách Phong Tục - Tập Quán'],\n",
    " 'Sách Chính Trị - Pháp Lý': ['Luật - Văn Bản Luật', 'Lý Luận Chính Trị'],\n",
    " 'Sách Nông - Lâm - Ngư Nghiệp': ['Sách Nông - Lâm - Ngư Nghiệp'],\n",
    " 'Sách Công Nghệ Thông Tin': ['Tin Học Văn Phòng',\n",
    "  'Lập Trình',\n",
    "  'Thiết Kế - Đồ Họa'],\n",
    " 'Thể Dục - Thể Thao': ['Thể Dục - Thể Thao'],\n",
    " 'Sách Y Học': ['Sách Y Học'],\n",
    " 'Tạp Chí - Catalogue': ['Tạp Chí - Catalogue'],\n",
    " 'Sách Tâm lý - Giới tính': ['Sách Tâm Lý Tuổi Teen',\n",
    "  'Sách Hôn Nhân - Giới Tính'],\n",
    " 'Sách Thường Thức - Gia Đình': ['Chăm sóc sức khỏe',\n",
    "  'May - Thêu - Thời Trang',\n",
    "  'Sách Làm Đẹp',\n",
    "  'Sách Nấu ăn']}"
   ]
  },
  {
   "cell_type": "code",
   "execution_count": 27,
   "id": "0f299b17",
   "metadata": {},
   "outputs": [],
   "source": [
    "\n",
    "category = pd.read_csv('Category')\n",
    "category.columns = ['Category','SubCategory']\n",
    "category['SubCategory'] = category['SubCategory'].apply(lambda x: x.split(';'))"
   ]
  },
  {
   "cell_type": "markdown",
   "id": "24077e27",
   "metadata": {},
   "source": [
    "We will gather those books once more, but only in the category field, to fix the inaccurate values."
   ]
  },
  {
   "cell_type": "code",
   "execution_count": 28,
   "id": "43de5d57",
   "metadata": {},
   "outputs": [],
   "source": [
    "cate_list = category['SubCategory'].explode('SubCategory').to_list()\n",
    "index = book_df[~book_df.category.isin(cate_list)].product_id.to_list()"
   ]
  },
  {
   "cell_type": "code",
   "execution_count": 29,
   "id": "61213328",
   "metadata": {},
   "outputs": [
    {
     "data": {
      "text/html": [
       "<div>\n",
       "<style scoped>\n",
       "    .dataframe tbody tr th:only-of-type {\n",
       "        vertical-align: middle;\n",
       "    }\n",
       "\n",
       "    .dataframe tbody tr th {\n",
       "        vertical-align: top;\n",
       "    }\n",
       "\n",
       "    .dataframe thead th {\n",
       "        text-align: right;\n",
       "    }\n",
       "</style>\n",
       "<table border=\"1\" class=\"dataframe\">\n",
       "  <thead>\n",
       "    <tr style=\"text-align: right;\">\n",
       "      <th></th>\n",
       "      <th>Unnamed: 0</th>\n",
       "      <th>Unnamed: 0.1</th>\n",
       "      <th>product_id</th>\n",
       "      <th>title</th>\n",
       "      <th>authors</th>\n",
       "      <th>original_price</th>\n",
       "      <th>current_price</th>\n",
       "      <th>quantity</th>\n",
       "      <th>category</th>\n",
       "      <th>n_review</th>\n",
       "      <th>avg_rating</th>\n",
       "      <th>pages</th>\n",
       "      <th>manufacturer</th>\n",
       "      <th>cover_link</th>\n",
       "    </tr>\n",
       "    <tr>\n",
       "      <th>product_id</th>\n",
       "      <th></th>\n",
       "      <th></th>\n",
       "      <th></th>\n",
       "      <th></th>\n",
       "      <th></th>\n",
       "      <th></th>\n",
       "      <th></th>\n",
       "      <th></th>\n",
       "      <th></th>\n",
       "      <th></th>\n",
       "      <th></th>\n",
       "      <th></th>\n",
       "      <th></th>\n",
       "      <th></th>\n",
       "    </tr>\n",
       "  </thead>\n",
       "  <tbody>\n",
       "    <tr>\n",
       "      <th>69219919</th>\n",
       "      <td>0</td>\n",
       "      <td>23</td>\n",
       "      <td>69219919</td>\n",
       "      <td>Muôn Kiếp Nhân Sinh (Khổ Nhỏ)</td>\n",
       "      <td>Nguyên Phong</td>\n",
       "      <td>98000</td>\n",
       "      <td>72000</td>\n",
       "      <td>12009.0</td>\n",
       "      <td>Sách Tôn Giáo - Tâm Linh</td>\n",
       "      <td>2603</td>\n",
       "      <td>4.8</td>\n",
       "      <td>482.0</td>\n",
       "      <td>Nhà Xuất Bản Tổng hợp TP.HCM</td>\n",
       "      <td>https://salt.tikicdn.com/media/catalog/product...</td>\n",
       "    </tr>\n",
       "    <tr>\n",
       "      <th>95470626</th>\n",
       "      <td>1</td>\n",
       "      <td>61</td>\n",
       "      <td>95470626</td>\n",
       "      <td>Combo 2 Cuốn: Muôn Kiếp Nhân Sinh + Muôn Kiếp ...</td>\n",
       "      <td>Nguyên Phong</td>\n",
       "      <td>436000</td>\n",
       "      <td>248500</td>\n",
       "      <td>5947.0</td>\n",
       "      <td>Sách Tôn Giáo - Tâm Linh</td>\n",
       "      <td>1207</td>\n",
       "      <td>4.8</td>\n",
       "      <td>960.0</td>\n",
       "      <td>Nhà Xuất Bản Tổng hợp TP.HCM</td>\n",
       "      <td>https://salt.tikicdn.com/media/catalog/product...</td>\n",
       "    </tr>\n",
       "    <tr>\n",
       "      <th>188695904</th>\n",
       "      <td>2</td>\n",
       "      <td>73</td>\n",
       "      <td>188695904</td>\n",
       "      <td>GIẬN (TBL22)</td>\n",
       "      <td>Thích Nhất Hạnh</td>\n",
       "      <td>135000</td>\n",
       "      <td>116000</td>\n",
       "      <td>1802.0</td>\n",
       "      <td>Sách Tôn Giáo - Tâm Linh</td>\n",
       "      <td>145</td>\n",
       "      <td>5.0</td>\n",
       "      <td>248.0</td>\n",
       "      <td>Nhà Xuất Bản Thế Giới</td>\n",
       "      <td>https://salt.tikicdn.com/ts/product/56/4a/55/d...</td>\n",
       "    </tr>\n",
       "    <tr>\n",
       "      <th>203957925</th>\n",
       "      <td>3</td>\n",
       "      <td>94</td>\n",
       "      <td>203957925</td>\n",
       "      <td>Monster #8 - Tập 6</td>\n",
       "      <td>Naoya Matsumoto</td>\n",
       "      <td>58000</td>\n",
       "      <td>49200</td>\n",
       "      <td>1438.0</td>\n",
       "      <td>Truyện Tranh, Manga, Comic</td>\n",
       "      <td>132</td>\n",
       "      <td>5.0</td>\n",
       "      <td>188.0</td>\n",
       "      <td>Nhà Xuất Bản Hồng Đức</td>\n",
       "      <td>https://salt.tikicdn.com/ts/product/78/98/79/d...</td>\n",
       "    </tr>\n",
       "    <tr>\n",
       "      <th>207475540</th>\n",
       "      <td>4</td>\n",
       "      <td>97</td>\n",
       "      <td>207475540</td>\n",
       "      <td>Blue Flag Tập 8 [Tặng Kèm Bookmark PVC]</td>\n",
       "      <td>Kaito</td>\n",
       "      <td>45000</td>\n",
       "      <td>45000</td>\n",
       "      <td>143.0</td>\n",
       "      <td>Truyện Tranh, Manga, Comic</td>\n",
       "      <td>15</td>\n",
       "      <td>4.7</td>\n",
       "      <td>244.0</td>\n",
       "      <td>Nhà Xuất Bản Kim Đồng</td>\n",
       "      <td>https://salt.tikicdn.com/ts/product/c5/0d/50/5...</td>\n",
       "    </tr>\n",
       "  </tbody>\n",
       "</table>\n",
       "</div>"
      ],
      "text/plain": [
       "            Unnamed: 0  Unnamed: 0.1  product_id  \\\n",
       "product_id                                         \n",
       "69219919             0            23    69219919   \n",
       "95470626             1            61    95470626   \n",
       "188695904            2            73   188695904   \n",
       "203957925            3            94   203957925   \n",
       "207475540            4            97   207475540   \n",
       "\n",
       "                                                        title  \\\n",
       "product_id                                                      \n",
       "69219919                        Muôn Kiếp Nhân Sinh (Khổ Nhỏ)   \n",
       "95470626    Combo 2 Cuốn: Muôn Kiếp Nhân Sinh + Muôn Kiếp ...   \n",
       "188695904                                        GIẬN (TBL22)   \n",
       "203957925                                  Monster #8 - Tập 6   \n",
       "207475540             Blue Flag Tập 8 [Tặng Kèm Bookmark PVC]   \n",
       "\n",
       "                    authors  original_price  current_price  quantity  \\\n",
       "product_id                                                             \n",
       "69219919       Nguyên Phong           98000          72000   12009.0   \n",
       "95470626       Nguyên Phong          436000         248500    5947.0   \n",
       "188695904   Thích Nhất Hạnh          135000         116000    1802.0   \n",
       "203957925   Naoya Matsumoto           58000          49200    1438.0   \n",
       "207475540             Kaito           45000          45000     143.0   \n",
       "\n",
       "                              category  n_review  avg_rating  pages  \\\n",
       "product_id                                                            \n",
       "69219919      Sách Tôn Giáo - Tâm Linh      2603         4.8  482.0   \n",
       "95470626      Sách Tôn Giáo - Tâm Linh      1207         4.8  960.0   \n",
       "188695904     Sách Tôn Giáo - Tâm Linh       145         5.0  248.0   \n",
       "203957925   Truyện Tranh, Manga, Comic       132         5.0  188.0   \n",
       "207475540   Truyện Tranh, Manga, Comic        15         4.7  244.0   \n",
       "\n",
       "                            manufacturer  \\\n",
       "product_id                                 \n",
       "69219919    Nhà Xuất Bản Tổng hợp TP.HCM   \n",
       "95470626    Nhà Xuất Bản Tổng hợp TP.HCM   \n",
       "188695904          Nhà Xuất Bản Thế Giới   \n",
       "203957925          Nhà Xuất Bản Hồng Đức   \n",
       "207475540          Nhà Xuất Bản Kim Đồng   \n",
       "\n",
       "                                                   cover_link  \n",
       "product_id                                                     \n",
       "69219919    https://salt.tikicdn.com/media/catalog/product...  \n",
       "95470626    https://salt.tikicdn.com/media/catalog/product...  \n",
       "188695904   https://salt.tikicdn.com/ts/product/56/4a/55/d...  \n",
       "203957925   https://salt.tikicdn.com/ts/product/78/98/79/d...  \n",
       "207475540   https://salt.tikicdn.com/ts/product/c5/0d/50/5...  "
      ]
     },
     "execution_count": 29,
     "metadata": {},
     "output_type": "execute_result"
    }
   ],
   "source": [
    "repair_cate = pd.read_csv('RepairCategory')\n",
    "repair_cate.index = repair_cate.product_id\n",
    "repair_cate.head()"
   ]
  },
  {
   "cell_type": "code",
   "execution_count": 30,
   "id": "f7faf05f",
   "metadata": {
    "scrolled": true
   },
   "outputs": [
    {
     "data": {
      "text/plain": [
       "product_id\n",
       "69219919       Sách Tôn Giáo - Tâm Linh\n",
       "95470626       Sách Tôn Giáo - Tâm Linh\n",
       "188695904      Sách Tôn Giáo - Tâm Linh\n",
       "203957925    Truyện Tranh, Manga, Comic\n",
       "207475540    Truyện Tranh, Manga, Comic\n",
       "                        ...            \n",
       "138504802     Sách Marketing - Bán hàng\n",
       "995310                       Sách Y Học\n",
       "190464440    Truyện Tranh, Manga, Comic\n",
       "200619499    Truyện Tranh, Manga, Comic\n",
       "74684484      Sách Marketing - Bán hàng\n",
       "Name: category, Length: 334, dtype: object"
      ]
     },
     "execution_count": 30,
     "metadata": {},
     "output_type": "execute_result"
    }
   ],
   "source": [
    "book_df = book_df.set_index('product_id')\n",
    "book_df.loc[index,'category']  = repair_cate.loc[index,'category'].to_list()\n",
    "book_df.loc[index,'category'] "
   ]
  },
  {
   "cell_type": "markdown",
   "id": "ed3bfdd3",
   "metadata": {},
   "source": [
    "We will check them again, and there are 2 rows where the category is still missing from our list."
   ]
  },
  {
   "cell_type": "code",
   "execution_count": 31,
   "id": "4b9e0809",
   "metadata": {
    "scrolled": true
   },
   "outputs": [
    {
     "data": {
      "text/html": [
       "<div>\n",
       "<style scoped>\n",
       "    .dataframe tbody tr th:only-of-type {\n",
       "        vertical-align: middle;\n",
       "    }\n",
       "\n",
       "    .dataframe tbody tr th {\n",
       "        vertical-align: top;\n",
       "    }\n",
       "\n",
       "    .dataframe thead th {\n",
       "        text-align: right;\n",
       "    }\n",
       "</style>\n",
       "<table border=\"1\" class=\"dataframe\">\n",
       "  <thead>\n",
       "    <tr style=\"text-align: right;\">\n",
       "      <th></th>\n",
       "      <th>title</th>\n",
       "      <th>authors</th>\n",
       "      <th>original_price</th>\n",
       "      <th>current_price</th>\n",
       "      <th>quantity</th>\n",
       "      <th>category</th>\n",
       "      <th>n_review</th>\n",
       "      <th>avg_rating</th>\n",
       "      <th>pages</th>\n",
       "      <th>manufacturer</th>\n",
       "      <th>cover_link</th>\n",
       "    </tr>\n",
       "    <tr>\n",
       "      <th>product_id</th>\n",
       "      <th></th>\n",
       "      <th></th>\n",
       "      <th></th>\n",
       "      <th></th>\n",
       "      <th></th>\n",
       "      <th></th>\n",
       "      <th></th>\n",
       "      <th></th>\n",
       "      <th></th>\n",
       "      <th></th>\n",
       "      <th></th>\n",
       "    </tr>\n",
       "  </thead>\n",
       "  <tbody>\n",
       "    <tr>\n",
       "      <th>161409461</th>\n",
       "      <td>Thùng 48 hộp sữa tươi tiệt trùng có đường TH T...</td>\n",
       "      <td>NaN</td>\n",
       "      <td>406800</td>\n",
       "      <td>386000</td>\n",
       "      <td>1372.0</td>\n",
       "      <td>Sữa tiệt trùng (UHT)</td>\n",
       "      <td>117</td>\n",
       "      <td>5.0</td>\n",
       "      <td>NaN</td>\n",
       "      <td>nan</td>\n",
       "      <td>https://salt.tikicdn.com/ts/product/66/33/87/5...</td>\n",
       "    </tr>\n",
       "    <tr>\n",
       "      <th>204374127</th>\n",
       "      <td>Tạp chí Forbes Việt Nam - Số 111 (Tháng 11.202...</td>\n",
       "      <td>nhieu tac gia</td>\n",
       "      <td>95000</td>\n",
       "      <td>95000</td>\n",
       "      <td>38.0</td>\n",
       "      <td>Sách tiếng Việt</td>\n",
       "      <td>4</td>\n",
       "      <td>5.0</td>\n",
       "      <td>140.0</td>\n",
       "      <td>Forbes Việt Nam</td>\n",
       "      <td>https://salt.tikicdn.com/ts/product/03/f0/8d/4...</td>\n",
       "    </tr>\n",
       "  </tbody>\n",
       "</table>\n",
       "</div>"
      ],
      "text/plain": [
       "                                                        title        authors  \\\n",
       "product_id                                                                     \n",
       "161409461   Thùng 48 hộp sữa tươi tiệt trùng có đường TH T...            NaN   \n",
       "204374127   Tạp chí Forbes Việt Nam - Số 111 (Tháng 11.202...  nhieu tac gia   \n",
       "\n",
       "            original_price  current_price  quantity              category  \\\n",
       "product_id                                                                  \n",
       "161409461           406800         386000    1372.0  Sữa tiệt trùng (UHT)   \n",
       "204374127            95000          95000      38.0       Sách tiếng Việt   \n",
       "\n",
       "            n_review  avg_rating  pages     manufacturer  \\\n",
       "product_id                                                 \n",
       "161409461        117         5.0    NaN              nan   \n",
       "204374127          4         5.0  140.0  Forbes Việt Nam   \n",
       "\n",
       "                                                   cover_link  \n",
       "product_id                                                     \n",
       "161409461   https://salt.tikicdn.com/ts/product/66/33/87/5...  \n",
       "204374127   https://salt.tikicdn.com/ts/product/03/f0/8d/4...  "
      ]
     },
     "execution_count": 31,
     "metadata": {},
     "output_type": "execute_result"
    }
   ],
   "source": [
    " book_df[~book_df.category.isin(cate_list)]"
   ]
  },
  {
   "cell_type": "markdown",
   "id": "93280e04",
   "metadata": {},
   "source": [
    "We can see that `Thùng 48 hộp sữa tươi tiệt trùng có đường TH` is not a book so we just remove it from our dataset "
   ]
  },
  {
   "cell_type": "code",
   "execution_count": 32,
   "id": "e419171e",
   "metadata": {},
   "outputs": [],
   "source": [
    "book_df = book_df.drop(161409461)"
   ]
  },
  {
   "cell_type": "markdown",
   "id": "6d494b51",
   "metadata": {},
   "source": [
    "## **Question 1: Does the current price affect the quantity of a genre in general? If that so, what are the prices and quantities of the top 50 most bought books? What can be inferred from that?**\n",
    "\n",
    "Why do I ask this? A lot of people won't buy books immediately but they will wait for events to buy in a mass. This is because it is cheaper and offers more promotions. For that reason, I will work on these steps:\n",
    "+ Step 1: Grouping the \"category\" into a more generic term. This means change some categories into one genral category for ease of analyzing\n",
    "+ Step 2: Calculate the average price of the \"current_price\" of each grouped category and then plot out\n",
    "+ Step 3: Take out the five categories with the lowest average price. We call each taken-out category low_category\n",
    "    + Step 3.1: For each low_category, we take the 5 lowest books out and choose the quantity.\n",
    "    + Step 3.2: Plot out the relationship between the price and the quantity\n",
    "+ Step 4: After taking them all, we actually compare the quantity of the 20 books with the highest quantity regardless of the categories\n",
    "\n",
    "*Note: The column \"quantity\" in this DataFrame refers to the total amount of sold books, not in-stock books*"
   ]
  },
  {
   "cell_type": "markdown",
   "id": "ddddc870",
   "metadata": {},
   "source": [
    "Step 1: Grouping the category"
   ]
  },
  {
   "cell_type": "code",
   "execution_count": 33,
   "id": "f1579cda",
   "metadata": {},
   "outputs": [
    {
     "name": "stderr",
     "output_type": "stream",
     "text": [
      "/tmp/ipykernel_104/979478078.py:8: SettingWithCopyWarning: \n",
      "A value is trying to be set on a copy of a slice from a DataFrame\n",
      "\n",
      "See the caveats in the documentation: https://pandas.pydata.org/pandas-docs/stable/user_guide/indexing.html#returning-a-view-versus-a-copy\n",
      "  my_book_df['category'][i] = my_book_df['category'][i].replace(my_book_df['category'][i], key)\n"
     ]
    }
   ],
   "source": [
    "my_book_df = book_df.copy()\n",
    "generic_cate = cate.keys()\n",
    "all_cate = cate.values()\n",
    "temp = []\n",
    "for i in my_book_df.index:\n",
    "    for key, value in cate.items():\n",
    "        if my_book_df['category'][i] in value:\n",
    "            my_book_df['category'][i] = my_book_df['category'][i].replace(my_book_df['category'][i], key)            "
   ]
  },
  {
   "cell_type": "markdown",
   "id": "877e02df",
   "metadata": {},
   "source": [
    "Step 2: Calculate the average and plot out the top 5 categories with the lowest price"
   ]
  },
  {
   "cell_type": "code",
   "execution_count": 34,
   "id": "e75728ca",
   "metadata": {},
   "outputs": [
    {
     "data": {
      "image/png": "[encoded data removed]",
      "text/plain": [
       "<Figure size 640x480 with 1 Axes>"
      ]
     },
     "metadata": {},
     "output_type": "display_data"
    }
   ],
   "source": [
    "ave_5_low_cate = my_book_df.groupby('category')['current_price'].mean().sort_values()[:5]\n",
    "plt.barh(ave_5_low_cate.keys(), ave_5_low_cate.values)\n",
    "plt.show()"
   ]
  },
  {
   "cell_type": "markdown",
   "id": "fd2e9bad",
   "metadata": {},
   "source": [
    "As we can see above, there are 5 categories:\n",
    "+ Sách tiếng Việt\n",
    "+ Sách chính trị - pháp lý\n",
    "+ Tạp chí - Catalogue\n",
    "+ Sách khoa học - kỹ thuật\n",
    "+ Truyện tranh manga, comic\n",
    "\n",
    "Step 3 + Step 3.1 + Step 3.2: For each above category, take out their lowest price of a book. We then plot out"
   ]
  },
  {
   "cell_type": "code",
   "execution_count": 35,
   "id": "43748a99",
   "metadata": {},
   "outputs": [
    {
     "data": {
      "text/plain": [
       "category\n",
       "Sách Kiến Thức Tổng Hợp               480226\n",
       "Sách văn học                          832239\n",
       "Sách kỹ năng sống                    3955683\n",
       "Sách Bà mẹ - Em bé                   4080373\n",
       "Sách Khoa Học - Kỹ Thuật            16082945\n",
       "Sách Thường Thức - Gia Đình         32192510\n",
       "Sách kinh tế                        39521136\n",
       "Truyện Tranh, Manga, Comic          83004183\n",
       "Thể Dục - Thể Thao                  85924601\n",
       "Sách Chính Trị - Pháp Lý            94132196\n",
       "Sách Tâm lý - Giới tính            109298270\n",
       "Sách Giáo Khoa - Giáo Trình        113656455\n",
       "Sách Y Học                         160488838\n",
       "Điện Ảnh - Nhạc - Họa              185067342\n",
       "Sách Tôn Giáo - Tâm Linh           186239095\n",
       "Sách Tham Khảo                     189558675\n",
       "Sách Công Nghệ Thông Tin           189765038\n",
       "Sách thiếu nhi                     197588263\n",
       "Sách Văn Hóa - Địa Lý - Du Lịch    197920813\n",
       "Tạp Chí - Catalogue                198587700\n",
       "Sách Học Ngoại Ngữ                 203875661\n",
       "Sách tiếng Việt                    204374127\n",
       "Sách Lịch sử                       205749384\n",
       "Name: current_price, dtype: int64"
      ]
     },
     "execution_count": 35,
     "metadata": {},
     "output_type": "execute_result"
    }
   ],
   "source": [
    "# Step 3 + 3.1\n",
    "lowest_book_price = my_book_df.groupby('category')['current_price'].min().sort_values()\n",
    "lowest_book_quantity = my_book_df.groupby('category')['current_price'].idxmin().sort_values()\n",
    "lowest_book_quantity"
   ]
  },
  {
   "cell_type": "code",
   "execution_count": 36,
   "id": "b1f93ca2",
   "metadata": {},
   "outputs": [
    {
     "data": {
      "image/png": "[encoded data removed]",
      "text/plain": [
       "<Figure size 640x480 with 1 Axes>"
      ]
     },
     "metadata": {},
     "output_type": "display_data"
    }
   ],
   "source": [
    "# Step 3.2\n",
    "x_price = [16400, 66000, 65000, 45000, 95000]\n",
    "y_quantity = [2115, 3591, 15, 291, 38]\n",
    "ind = np.arange(5)\n",
    "\n",
    "plt.barh(ind-0.2, x_price, 0.4, label=\"Price\")\n",
    "plt.barh(ind+0.2, y_quantity, 0.4, label=\"Quantity\")\n",
    "# plt.scatter(x_price[0], y_quantity[0], color='red')\n",
    "# plt.scatter(x_price[1], y_quantity[1], color='green')\n",
    "# plt.scatter(x_price[2], y_quantity[2], color='blue')\n",
    "# plt.scatter(x_price[3], y_quantity[3], color='black')\n",
    "# plt.scatter(x_price[4], y_quantity[4], color='orange')\n",
    "\n",
    "# plt.xlabel('Price')\n",
    "# plt.ylabel('Quantity')\n",
    "plt.title(\"Lowest Price and Quantity\")\n",
    "plt.yticks(ind+0.4/2, ['Truyện Tranh, Manga, Comic', 'Sách Khoa Học - Kỹ Thuật',\n",
    "                       'Tạp chí - Catalogue', 'Sách Chính Trị - Pháp Lý', 'Sách tiếng Việt'])\n",
    "plt.legend()\n",
    "# plt.legend(['Truyện Tranh, Manga, Comic', 'Sách Khoa Học - Kỹ Thuật',\n",
    "#             'Tạp chí - Catalogue', 'Sách Chính Trị - Pháp Lý', 'Sách tiếng Việt'])\n",
    "plt.show()"
   ]
  },
  {
   "cell_type": "markdown",
   "id": "a6b85e1d",
   "metadata": {},
   "source": [
    "As you can see above, the quantity of the books are so small that we can't see them on a graph. But we can see that categories like Manga and Science are higher than the others in term of quantity. Politics-wise, it even though is the second lowest, it amounts to less than a thousand sold books."
   ]
  },
  {
   "cell_type": "markdown",
   "id": "3289d748",
   "metadata": {},
   "source": [
    "Step 4: Choose the 50 most bought items and extract the original price, current price and category"
   ]
  },
  {
   "cell_type": "code",
   "execution_count": 37,
   "id": "c1dc87d3",
   "metadata": {},
   "outputs": [
    {
     "data": {
      "text/html": [
       "<div>\n",
       "<style scoped>\n",
       "    .dataframe tbody tr th:only-of-type {\n",
       "        vertical-align: middle;\n",
       "    }\n",
       "\n",
       "    .dataframe tbody tr th {\n",
       "        vertical-align: top;\n",
       "    }\n",
       "\n",
       "    .dataframe thead th {\n",
       "        text-align: right;\n",
       "    }\n",
       "</style>\n",
       "<table border=\"1\" class=\"dataframe\">\n",
       "  <thead>\n",
       "    <tr style=\"text-align: right;\">\n",
       "      <th></th>\n",
       "      <th>original_price</th>\n",
       "      <th>current_price</th>\n",
       "      <th>quantity</th>\n",
       "      <th>category</th>\n",
       "    </tr>\n",
       "    <tr>\n",
       "      <th>product_id</th>\n",
       "      <th></th>\n",
       "      <th></th>\n",
       "      <th></th>\n",
       "      <th></th>\n",
       "    </tr>\n",
       "  </thead>\n",
       "  <tbody>\n",
       "    <tr>\n",
       "      <th>75307228</th>\n",
       "      <td>168000</td>\n",
       "      <td>110800</td>\n",
       "      <td>671121.0</td>\n",
       "      <td>Sách kỹ năng sống</td>\n",
       "    </tr>\n",
       "    <tr>\n",
       "      <th>26114399</th>\n",
       "      <td>89000</td>\n",
       "      <td>57001</td>\n",
       "      <td>65623.0</td>\n",
       "      <td>Sách kỹ năng sống</td>\n",
       "    </tr>\n",
       "    <tr>\n",
       "      <th>750578</th>\n",
       "      <td>109000</td>\n",
       "      <td>68670</td>\n",
       "      <td>59734.0</td>\n",
       "      <td>Sách văn học</td>\n",
       "    </tr>\n",
       "    <tr>\n",
       "      <th>74021317</th>\n",
       "      <td>108000</td>\n",
       "      <td>64800</td>\n",
       "      <td>53075.0</td>\n",
       "      <td>Sách văn học</td>\n",
       "    </tr>\n",
       "    <tr>\n",
       "      <th>10005245</th>\n",
       "      <td>188000</td>\n",
       "      <td>135300</td>\n",
       "      <td>48419.0</td>\n",
       "      <td>Sách kỹ năng sống</td>\n",
       "    </tr>\n",
       "  </tbody>\n",
       "</table>\n",
       "</div>"
      ],
      "text/plain": [
       "            original_price  current_price  quantity           category\n",
       "product_id                                                            \n",
       "75307228            168000         110800  671121.0  Sách kỹ năng sống\n",
       "26114399             89000          57001   65623.0  Sách kỹ năng sống\n",
       "750578              109000          68670   59734.0       Sách văn học\n",
       "74021317            108000          64800   53075.0       Sách văn học\n",
       "10005245            188000         135300   48419.0  Sách kỹ năng sống"
      ]
     },
     "execution_count": 37,
     "metadata": {},
     "output_type": "execute_result"
    }
   ],
   "source": [
    "# Step 4\n",
    "highest_quantity_book = my_book_df.sort_values(by='quantity', ascending=False)[['original_price', 'current_price', 'quantity', 'category']][: 50]\n",
    "highest_quantity_book.head()"
   ]
  },
  {
   "cell_type": "code",
   "execution_count": 38,
   "id": "e8cc866f",
   "metadata": {},
   "outputs": [
    {
     "data": {
      "image/png": "[encoded data removed]",
      "text/plain": [
       "<Figure size 640x480 with 1 Axes>"
      ]
     },
     "metadata": {},
     "output_type": "display_data"
    }
   ],
   "source": [
    "plt.scatter(x_price, y_quantity)\n",
    "plt.scatter(highest_quantity_book['current_price'].to_numpy(), highest_quantity_book['quantity'].to_numpy(), color='red')\n",
    "plt.xlabel('Price')\n",
    "plt.ylabel('Quantity')\n",
    "plt.title(\"Price vs. Quantity\")\n",
    "plt.legend(['Books from 5-lowest Avg Category', '50 highest-quantity books'])\n",
    "plt.show()"
   ]
  },
  {
   "cell_type": "markdown",
   "id": "8e59255d",
   "metadata": {},
   "source": [
    "**Conclusion for Question 1:**\n",
    "\n",
    "5 books we choose from the 5 cheapest categories/genres are not a good representation of the current book market and cannot answer our questions. But when we compare them to 50 highest-quantity books, we have a good overview of how the book market functions.\n",
    "\n",
    "People tend to buy books in between 50.000 to 100.000 VND. We also notice that the original price of these books are mostly over 100.000 VND so when there is a sale season, it is time that people will spend more money on books they think:\n",
    "+ The sale price (or current_price as the author states) is around 150.000 VND or less\n",
    "+ The product includes a bundle/combo of presents and/or books\n",
    "+ Cheaper than going to an actual bookstore\n",
    "+ Popularity of a book\n",
    "+ ...\n",
    "\n",
    "Still, even though the comic category has the lowest quantity among all categories, in reality, most book publishers tend to exclusively release them with a very small amount on online platforms. That is why even though it has the cheapest price, it also shares a similarity with the quantity. The \"camping for a new release\" culture is relatively new in Vietnam but it is slowly surging in many aspects, including the release of a new phone, new comic from a famous series... We can find them if we follow on the official page on social media about their schedule and releasing date."
   ]
  },
  {
   "cell_type": "code",
   "execution_count": 39,
   "id": "78b57075",
   "metadata": {},
   "outputs": [
    {
     "data": {
      "image/png": "[encoded data removed]",
      "text/plain": [
       "<Figure size 640x480 with 1 Axes>"
      ]
     },
     "metadata": {},
     "output_type": "display_data"
    }
   ],
   "source": [
    "# This is for comic category\n",
    "comic_df = my_book_df[my_book_df['category']=='Truyện Tranh, Manga, Comic'][['current_price', 'quantity']]\n",
    "plt.scatter(comic_df.iloc[:, 0].to_numpy(), comic_df.iloc[:, 1].to_numpy())\n",
    "plt.ylabel(\"Quantity/Sold books\")\n",
    "plt.xlabel(\"Price (after sale)\")\n",
    "plt.show()"
   ]
  },
  {
   "cell_type": "markdown",
   "id": "45c81d96",
   "metadata": {},
   "source": [
    "For the Comic one, I have dedicated a graph to explain why the average price is low but still cannot have a high amount of total sold books. I have come up with a few reasons:\n",
    "+ Mangas are usually cheap, if we buy them online, we have to pay the shipping fee which could be as high as half the price of a manga, which is not economic at all.\n",
    "+ They are released exclusively, meaning that some mangas series only release for a certain amount of time or with a limited quantity hence causing them to be low in the total sold books. This is also because buying them in that time is cheaper than waiting for them to be publicliy release around bookstores and so on. \n",
    "+ After market is also a reason to the low selling rate. Some books when they pass throught the highest \"hot\" peak (most anticipated time), they can be sold to be as low as half of the original price so buying online is not a very wise option."
   ]
  }
 ],
 "metadata": {
  "kernelspec": {
   "display_name": "Python 3 (ipykernel)",
   "language": "python",
   "name": "python3"
  },
  "language_info": {
   "codemirror_mode": {
    "name": "ipython",
    "version": 3
   },
   "file_extension": ".py",
   "mimetype": "text/x-python",
   "name": "python",
   "nbconvert_exporter": "python",
   "pygments_lexer": "ipython3",
   "version": "3.8.8"
  }
 },
 "nbformat": 4,
 "nbformat_minor": 5
}
