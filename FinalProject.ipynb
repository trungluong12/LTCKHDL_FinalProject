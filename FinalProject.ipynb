{
 "cells": [
  {
   "cell_type": "code",
   "execution_count": null,
   "id": "ce358f2a",
   "metadata": {},
   "outputs": [],
   "source": []
  },
  {
   "cell_type": "markdown",
   "id": "ac0c90fd",
   "metadata": {},
   "source": [
    "# 2. Exploring data (often interleaved with preprocessing)"
   ]
  },
  {
   "cell_type": "code",
   "execution_count": 1,
   "id": "f4ff0d31",
   "metadata": {},
   "outputs": [],
   "source": [
    "import matplotlib.pyplot as plt\n",
    "import numpy as np\n",
    "import pandas as pd "
   ]
  },
  {
   "cell_type": "code",
   "execution_count": 4,
   "id": "7f5717e7",
   "metadata": {
    "scrolled": true
   },
   "outputs": [
    {
     "data": {
      "text/html": [
       "<div>\n",
       "<style scoped>\n",
       "    .dataframe tbody tr th:only-of-type {\n",
       "        vertical-align: middle;\n",
       "    }\n",
       "\n",
       "    .dataframe tbody tr th {\n",
       "        vertical-align: top;\n",
       "    }\n",
       "\n",
       "    .dataframe thead th {\n",
       "        text-align: right;\n",
       "    }\n",
       "</style>\n",
       "<table border=\"1\" class=\"dataframe\">\n",
       "  <thead>\n",
       "    <tr style=\"text-align: right;\">\n",
       "      <th></th>\n",
       "      <th>product_id</th>\n",
       "      <th>title</th>\n",
       "      <th>authors</th>\n",
       "      <th>original_price</th>\n",
       "      <th>current_price</th>\n",
       "      <th>quantity</th>\n",
       "      <th>category</th>\n",
       "      <th>n_review</th>\n",
       "      <th>avg_rating</th>\n",
       "      <th>pages</th>\n",
       "      <th>manufacturer</th>\n",
       "      <th>cover_link</th>\n",
       "    </tr>\n",
       "  </thead>\n",
       "  <tbody>\n",
       "    <tr>\n",
       "      <th>0</th>\n",
       "      <td>74021317</td>\n",
       "      <td>Cây Cam Ngọt Của Tôi</td>\n",
       "      <td>José Mauro de Vasconcelos</td>\n",
       "      <td>108000</td>\n",
       "      <td>64800</td>\n",
       "      <td>53075.0</td>\n",
       "      <td>Tiểu Thuyết</td>\n",
       "      <td>11481</td>\n",
       "      <td>5.0</td>\n",
       "      <td>244</td>\n",
       "      <td>Nhà Xuất Bản Hội Nhà Văn</td>\n",
       "      <td>https://salt.tikicdn.com/ts/product/5e/18/24/2...</td>\n",
       "    </tr>\n",
       "    <tr>\n",
       "      <th>1</th>\n",
       "      <td>74021317</td>\n",
       "      <td>Cây Cam Ngọt Của Tôi</td>\n",
       "      <td>José Mauro de Vasconcelos</td>\n",
       "      <td>108000</td>\n",
       "      <td>64800</td>\n",
       "      <td>53075.0</td>\n",
       "      <td>Tiểu Thuyết</td>\n",
       "      <td>11481</td>\n",
       "      <td>5.0</td>\n",
       "      <td>244</td>\n",
       "      <td>Nhà Xuất Bản Hội Nhà Văn</td>\n",
       "      <td>https://salt.tikicdn.com/ts/product/5e/18/24/2...</td>\n",
       "    </tr>\n",
       "    <tr>\n",
       "      <th>2</th>\n",
       "      <td>184466860</td>\n",
       "      <td>Hành Tinh Của Một Kẻ Nghĩ Nhiều</td>\n",
       "      <td>Nguyễn Đoàn Minh Thư</td>\n",
       "      <td>86000</td>\n",
       "      <td>59900</td>\n",
       "      <td>7929.0</td>\n",
       "      <td>Sách tư duy - Kỹ năng sống</td>\n",
       "      <td>780</td>\n",
       "      <td>4.8</td>\n",
       "      <td>184</td>\n",
       "      <td>Nhà Xuất Bản Thế Giới</td>\n",
       "      <td>https://salt.tikicdn.com/ts/product/d7/99/24/1...</td>\n",
       "    </tr>\n",
       "    <tr>\n",
       "      <th>3</th>\n",
       "      <td>73787185</td>\n",
       "      <td>Những Tù Nhân Của Địa Lý</td>\n",
       "      <td>Tim Marshall</td>\n",
       "      <td>210000</td>\n",
       "      <td>126000</td>\n",
       "      <td>17896.0</td>\n",
       "      <td>Lĩnh vực khác</td>\n",
       "      <td>3623</td>\n",
       "      <td>4.8</td>\n",
       "      <td>430</td>\n",
       "      <td>Nhà Xuất Bản Hội Nhà Văn</td>\n",
       "      <td>https://salt.tikicdn.com/ts/product/8d/96/9e/c...</td>\n",
       "    </tr>\n",
       "    <tr>\n",
       "      <th>4</th>\n",
       "      <td>52789367</td>\n",
       "      <td>Nhà Giả Kim (Tái Bản 2020)</td>\n",
       "      <td>Paulo Coelho</td>\n",
       "      <td>79000</td>\n",
       "      <td>47400</td>\n",
       "      <td>24668.0</td>\n",
       "      <td>Tác phẩm kinh điển</td>\n",
       "      <td>5131</td>\n",
       "      <td>5.0</td>\n",
       "      <td>228</td>\n",
       "      <td>Nhà Xuất Bản Hà Nội</td>\n",
       "      <td>https://salt.tikicdn.com/ts/product/45/3b/fc/a...</td>\n",
       "    </tr>\n",
       "  </tbody>\n",
       "</table>\n",
       "</div>"
      ],
      "text/plain": [
       "   product_id                            title                    authors  \\\n",
       "0    74021317             Cây Cam Ngọt Của Tôi  José Mauro de Vasconcelos   \n",
       "1    74021317             Cây Cam Ngọt Của Tôi  José Mauro de Vasconcelos   \n",
       "2   184466860  Hành Tinh Của Một Kẻ Nghĩ Nhiều       Nguyễn Đoàn Minh Thư   \n",
       "3    73787185         Những Tù Nhân Của Địa Lý               Tim Marshall   \n",
       "4    52789367       Nhà Giả Kim (Tái Bản 2020)               Paulo Coelho   \n",
       "\n",
       "   original_price  current_price  quantity                    category  \\\n",
       "0          108000          64800   53075.0                 Tiểu Thuyết   \n",
       "1          108000          64800   53075.0                 Tiểu Thuyết   \n",
       "2           86000          59900    7929.0  Sách tư duy - Kỹ năng sống   \n",
       "3          210000         126000   17896.0               Lĩnh vực khác   \n",
       "4           79000          47400   24668.0          Tác phẩm kinh điển   \n",
       "\n",
       "   n_review  avg_rating pages              manufacturer  \\\n",
       "0     11481         5.0   244  Nhà Xuất Bản Hội Nhà Văn   \n",
       "1     11481         5.0   244  Nhà Xuất Bản Hội Nhà Văn   \n",
       "2       780         4.8   184     Nhà Xuất Bản Thế Giới   \n",
       "3      3623         4.8   430  Nhà Xuất Bản Hội Nhà Văn   \n",
       "4      5131         5.0   228       Nhà Xuất Bản Hà Nội   \n",
       "\n",
       "                                          cover_link  \n",
       "0  https://salt.tikicdn.com/ts/product/5e/18/24/2...  \n",
       "1  https://salt.tikicdn.com/ts/product/5e/18/24/2...  \n",
       "2  https://salt.tikicdn.com/ts/product/d7/99/24/1...  \n",
       "3  https://salt.tikicdn.com/ts/product/8d/96/9e/c...  \n",
       "4  https://salt.tikicdn.com/ts/product/45/3b/fc/a...  "
      ]
     },
     "execution_count": 4,
     "metadata": {},
     "output_type": "execute_result"
    }
   ],
   "source": [
    "book_df = pd.read_csv('data/book_data.csv')\n",
    "book_df.head()"
   ]
  },
  {
   "cell_type": "code",
   "execution_count": 8,
   "id": "de38e4c0",
   "metadata": {},
   "outputs": [
    {
     "data": {
      "text/html": [
       "<div>\n",
       "<style scoped>\n",
       "    .dataframe tbody tr th:only-of-type {\n",
       "        vertical-align: middle;\n",
       "    }\n",
       "\n",
       "    .dataframe tbody tr th {\n",
       "        vertical-align: top;\n",
       "    }\n",
       "\n",
       "    .dataframe thead th {\n",
       "        text-align: right;\n",
       "    }\n",
       "</style>\n",
       "<table border=\"1\" class=\"dataframe\">\n",
       "  <thead>\n",
       "    <tr style=\"text-align: right;\">\n",
       "      <th></th>\n",
       "      <th>product_id</th>\n",
       "      <th>comment_id</th>\n",
       "      <th>title</th>\n",
       "      <th>thank_count</th>\n",
       "      <th>customer_id</th>\n",
       "      <th>rating</th>\n",
       "      <th>content</th>\n",
       "    </tr>\n",
       "  </thead>\n",
       "  <tbody>\n",
       "    <tr>\n",
       "      <th>0</th>\n",
       "      <td>74021317</td>\n",
       "      <td>12559756</td>\n",
       "      <td>Cực kì hài lòng</td>\n",
       "      <td>313</td>\n",
       "      <td>22051463</td>\n",
       "      <td>5</td>\n",
       "      <td>Có những người bước đến, họ lấp đầy hạnh phúc ...</td>\n",
       "    </tr>\n",
       "    <tr>\n",
       "      <th>1</th>\n",
       "      <td>74021317</td>\n",
       "      <td>16979365</td>\n",
       "      <td>Cực kì hài lòng</td>\n",
       "      <td>6</td>\n",
       "      <td>27791831</td>\n",
       "      <td>5</td>\n",
       "      <td>Thấy nhiều bạn chê tiki gói hàng quá, may sao ...</td>\n",
       "    </tr>\n",
       "    <tr>\n",
       "      <th>2</th>\n",
       "      <td>74021317</td>\n",
       "      <td>14069617</td>\n",
       "      <td>Cực kì hài lòng</td>\n",
       "      <td>25</td>\n",
       "      <td>17748750</td>\n",
       "      <td>5</td>\n",
       "      <td>Bìa cực xinh, tiki giao hàng nhanh, sách không...</td>\n",
       "    </tr>\n",
       "    <tr>\n",
       "      <th>3</th>\n",
       "      <td>74021317</td>\n",
       "      <td>8569824</td>\n",
       "      <td>Cực kì hài lòng</td>\n",
       "      <td>57</td>\n",
       "      <td>410797</td>\n",
       "      <td>5</td>\n",
       "      <td>Sách lúc nhận hình thức rất ổn, không cong vên...</td>\n",
       "    </tr>\n",
       "    <tr>\n",
       "      <th>4</th>\n",
       "      <td>74021317</td>\n",
       "      <td>18368714</td>\n",
       "      <td>Cực kì hài lòng</td>\n",
       "      <td>0</td>\n",
       "      <td>28545286</td>\n",
       "      <td>5</td>\n",
       "      <td>Một cuốn sách rất đáng đọc về tình yêu thương ...</td>\n",
       "    </tr>\n",
       "  </tbody>\n",
       "</table>\n",
       "</div>"
      ],
      "text/plain": [
       "   product_id  comment_id            title  thank_count  customer_id  rating  \\\n",
       "0    74021317    12559756  Cực kì hài lòng          313     22051463       5   \n",
       "1    74021317    16979365  Cực kì hài lòng            6     27791831       5   \n",
       "2    74021317    14069617  Cực kì hài lòng           25     17748750       5   \n",
       "3    74021317     8569824  Cực kì hài lòng           57       410797       5   \n",
       "4    74021317    18368714  Cực kì hài lòng            0     28545286       5   \n",
       "\n",
       "                                             content  \n",
       "0  Có những người bước đến, họ lấp đầy hạnh phúc ...  \n",
       "1  Thấy nhiều bạn chê tiki gói hàng quá, may sao ...  \n",
       "2  Bìa cực xinh, tiki giao hàng nhanh, sách không...  \n",
       "3  Sách lúc nhận hình thức rất ổn, không cong vên...  \n",
       "4  Một cuốn sách rất đáng đọc về tình yêu thương ...  "
      ]
     },
     "execution_count": 8,
     "metadata": {},
     "output_type": "execute_result"
    }
   ],
   "source": [
    "comment_df = pd.read_csv('data/comments.csv')\n",
    "comment_df.head()"
   ]
  },
  {
   "cell_type": "markdown",
   "id": "415deb62",
   "metadata": {},
   "source": [
    "### 2.1 How many rows and how many columns?"
   ]
  },
  {
   "cell_type": "code",
   "execution_count": 6,
   "id": "68295977",
   "metadata": {},
   "outputs": [
    {
     "name": "stdout",
     "output_type": "stream",
     "text": [
      "Number of rows:  1796\n",
      "Number of cols:  12\n"
     ]
    }
   ],
   "source": [
    "num_rows = book_df.shape[0]\n",
    "num_cols = book_df.shape[1]\n",
    "print(f'Number of rows: ',num_rows)\n",
    "print(f'Number of cols: ',num_cols)"
   ]
  },
  {
   "cell_type": "code",
   "execution_count": 9,
   "id": "29bbc570",
   "metadata": {},
   "outputs": [
    {
     "name": "stdout",
     "output_type": "stream",
     "text": [
      "Number of rows:  141281\n",
      "Number of cols:  7\n"
     ]
    }
   ],
   "source": [
    "num_rows = comment_df.shape[0]\n",
    "num_cols = comment_df.shape[1]\n",
    "print(f'Number of rows: ',num_rows)\n",
    "print(f'Number of cols: ',num_cols)"
   ]
  },
  {
   "cell_type": "markdown",
   "id": "fce6c598",
   "metadata": {},
   "source": [
    "### 2.2 What is the meaning of each row?"
   ]
  },
  {
   "cell_type": "markdown",
   "id": "e86f7897",
   "metadata": {},
   "source": [
    "| Column      | Description |\n",
    "| :---        |    :----   |    \n",
    "| `product_id`      | Id of the product in the Tiki database (unique)      | \n",
    "| `title`   |  Name of the book, maybe contain republish time       | \n",
    "| `authors`    |    same with it's name              |\n",
    "| `original_price`    |      price at the first time             |\n",
    "| `current_price`    |  price at present if having a discount                 |\n",
    "| `quantity`    |  \ttotal number of books sold of all time                 |\n",
    "| `category`    |  \tkind of book                 |\n",
    "| `n_review`    |   number of reviews               |\n",
    "| `avg_rating`    |  average rating (max 5.0)                 |\n",
    "| `pages`    |     total pages of each book              |\n"
   ]
  }
 ],
 "metadata": {
  "kernelspec": {
   "display_name": "Python 3 (ipykernel)",
   "language": "python",
   "name": "python3"
  },
  "language_info": {
   "codemirror_mode": {
    "name": "ipython",
    "version": 3
   },
   "file_extension": ".py",
   "mimetype": "text/x-python",
   "name": "python",
   "nbconvert_exporter": "python",
   "pygments_lexer": "ipython3",
   "version": "3.8.8"
  }
 },
 "nbformat": 4,
 "nbformat_minor": 5
}
