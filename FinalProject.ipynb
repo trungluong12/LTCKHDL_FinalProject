{
 "cells": [
  {
   "cell_type": "markdown",
   "id": "632d9f52",
   "metadata": {},
   "source": [
    "Import important libraries"
   ]
  },
  {
   "cell_type": "code",
   "execution_count": 1,
   "id": "f4ff0d31",
   "metadata": {},
   "outputs": [],
   "source": [
    "import matplotlib.pyplot as plt\n",
    "import numpy as np\n",
    "import pandas as pd "
   ]
  },
  {
   "cell_type": "markdown",
   "id": "ac0c90fd",
   "metadata": {},
   "source": [
    "# 2. Exploring data (often interleaved with preprocessing)"
   ]
  },
  {
   "cell_type": "markdown",
   "id": "8e260bc3",
   "metadata": {},
   "source": [
    "Read all .csv files and perform exploration.\n",
    "\n",
    "We decide that we wouldn't use the book_id.csv file since it is redundant"
   ]
  },
  {
   "cell_type": "markdown",
   "id": "b4eafb73",
   "metadata": {},
   "source": [
    "First, we will read data file \"book_data.csv\" and save to DataFrame `book_df`. "
   ]
  },
  {
   "cell_type": "code",
   "execution_count": 2,
   "id": "7f5717e7",
   "metadata": {
    "scrolled": true
   },
   "outputs": [
    {
     "data": {
      "text/html": [
       "<div>\n",
       "<style scoped>\n",
       "    .dataframe tbody tr th:only-of-type {\n",
       "        vertical-align: middle;\n",
       "    }\n",
       "\n",
       "    .dataframe tbody tr th {\n",
       "        vertical-align: top;\n",
       "    }\n",
       "\n",
       "    .dataframe thead th {\n",
       "        text-align: right;\n",
       "    }\n",
       "</style>\n",
       "<table border=\"1\" class=\"dataframe\">\n",
       "  <thead>\n",
       "    <tr style=\"text-align: right;\">\n",
       "      <th></th>\n",
       "      <th>product_id</th>\n",
       "      <th>title</th>\n",
       "      <th>authors</th>\n",
       "      <th>original_price</th>\n",
       "      <th>current_price</th>\n",
       "      <th>quantity</th>\n",
       "      <th>category</th>\n",
       "      <th>n_review</th>\n",
       "      <th>avg_rating</th>\n",
       "      <th>pages</th>\n",
       "      <th>manufacturer</th>\n",
       "      <th>cover_link</th>\n",
       "    </tr>\n",
       "  </thead>\n",
       "  <tbody>\n",
       "    <tr>\n",
       "      <th>0</th>\n",
       "      <td>74021317</td>\n",
       "      <td>Cây Cam Ngọt Của Tôi</td>\n",
       "      <td>José Mauro de Vasconcelos</td>\n",
       "      <td>108000</td>\n",
       "      <td>64800</td>\n",
       "      <td>53075.0</td>\n",
       "      <td>Tiểu Thuyết</td>\n",
       "      <td>11481</td>\n",
       "      <td>5.0</td>\n",
       "      <td>244</td>\n",
       "      <td>Nhà Xuất Bản Hội Nhà Văn</td>\n",
       "      <td>https://salt.tikicdn.com/ts/product/5e/18/24/2...</td>\n",
       "    </tr>\n",
       "    <tr>\n",
       "      <th>1</th>\n",
       "      <td>74021317</td>\n",
       "      <td>Cây Cam Ngọt Của Tôi</td>\n",
       "      <td>José Mauro de Vasconcelos</td>\n",
       "      <td>108000</td>\n",
       "      <td>64800</td>\n",
       "      <td>53075.0</td>\n",
       "      <td>Tiểu Thuyết</td>\n",
       "      <td>11481</td>\n",
       "      <td>5.0</td>\n",
       "      <td>244</td>\n",
       "      <td>Nhà Xuất Bản Hội Nhà Văn</td>\n",
       "      <td>https://salt.tikicdn.com/ts/product/5e/18/24/2...</td>\n",
       "    </tr>\n",
       "    <tr>\n",
       "      <th>2</th>\n",
       "      <td>184466860</td>\n",
       "      <td>Hành Tinh Của Một Kẻ Nghĩ Nhiều</td>\n",
       "      <td>Nguyễn Đoàn Minh Thư</td>\n",
       "      <td>86000</td>\n",
       "      <td>59900</td>\n",
       "      <td>7929.0</td>\n",
       "      <td>Sách tư duy - Kỹ năng sống</td>\n",
       "      <td>780</td>\n",
       "      <td>4.8</td>\n",
       "      <td>184</td>\n",
       "      <td>Nhà Xuất Bản Thế Giới</td>\n",
       "      <td>https://salt.tikicdn.com/ts/product/d7/99/24/1...</td>\n",
       "    </tr>\n",
       "    <tr>\n",
       "      <th>3</th>\n",
       "      <td>73787185</td>\n",
       "      <td>Những Tù Nhân Của Địa Lý</td>\n",
       "      <td>Tim Marshall</td>\n",
       "      <td>210000</td>\n",
       "      <td>126000</td>\n",
       "      <td>17896.0</td>\n",
       "      <td>Lĩnh vực khác</td>\n",
       "      <td>3623</td>\n",
       "      <td>4.8</td>\n",
       "      <td>430</td>\n",
       "      <td>Nhà Xuất Bản Hội Nhà Văn</td>\n",
       "      <td>https://salt.tikicdn.com/ts/product/8d/96/9e/c...</td>\n",
       "    </tr>\n",
       "    <tr>\n",
       "      <th>4</th>\n",
       "      <td>52789367</td>\n",
       "      <td>Nhà Giả Kim (Tái Bản 2020)</td>\n",
       "      <td>Paulo Coelho</td>\n",
       "      <td>79000</td>\n",
       "      <td>47400</td>\n",
       "      <td>24668.0</td>\n",
       "      <td>Tác phẩm kinh điển</td>\n",
       "      <td>5131</td>\n",
       "      <td>5.0</td>\n",
       "      <td>228</td>\n",
       "      <td>Nhà Xuất Bản Hà Nội</td>\n",
       "      <td>https://salt.tikicdn.com/ts/product/45/3b/fc/a...</td>\n",
       "    </tr>\n",
       "  </tbody>\n",
       "</table>\n",
       "</div>"
      ],
      "text/plain": [
       "   product_id                            title                    authors  \\\n",
       "0    74021317             Cây Cam Ngọt Của Tôi  José Mauro de Vasconcelos   \n",
       "1    74021317             Cây Cam Ngọt Của Tôi  José Mauro de Vasconcelos   \n",
       "2   184466860  Hành Tinh Của Một Kẻ Nghĩ Nhiều       Nguyễn Đoàn Minh Thư   \n",
       "3    73787185         Những Tù Nhân Của Địa Lý               Tim Marshall   \n",
       "4    52789367       Nhà Giả Kim (Tái Bản 2020)               Paulo Coelho   \n",
       "\n",
       "   original_price  current_price  quantity                    category  \\\n",
       "0          108000          64800   53075.0                 Tiểu Thuyết   \n",
       "1          108000          64800   53075.0                 Tiểu Thuyết   \n",
       "2           86000          59900    7929.0  Sách tư duy - Kỹ năng sống   \n",
       "3          210000         126000   17896.0               Lĩnh vực khác   \n",
       "4           79000          47400   24668.0          Tác phẩm kinh điển   \n",
       "\n",
       "   n_review  avg_rating pages              manufacturer  \\\n",
       "0     11481         5.0   244  Nhà Xuất Bản Hội Nhà Văn   \n",
       "1     11481         5.0   244  Nhà Xuất Bản Hội Nhà Văn   \n",
       "2       780         4.8   184     Nhà Xuất Bản Thế Giới   \n",
       "3      3623         4.8   430  Nhà Xuất Bản Hội Nhà Văn   \n",
       "4      5131         5.0   228       Nhà Xuất Bản Hà Nội   \n",
       "\n",
       "                                          cover_link  \n",
       "0  https://salt.tikicdn.com/ts/product/5e/18/24/2...  \n",
       "1  https://salt.tikicdn.com/ts/product/5e/18/24/2...  \n",
       "2  https://salt.tikicdn.com/ts/product/d7/99/24/1...  \n",
       "3  https://salt.tikicdn.com/ts/product/8d/96/9e/c...  \n",
       "4  https://salt.tikicdn.com/ts/product/45/3b/fc/a...  "
      ]
     },
     "execution_count": 2,
     "metadata": {},
     "output_type": "execute_result"
    }
   ],
   "source": [
    "book_df = pd.read_csv('data/book_data.csv')\n",
    "book_df.head()"
   ]
  },
  {
   "cell_type": "markdown",
   "id": "f1e5634a",
   "metadata": {},
   "source": [
    "Second, we will read data file \"comment_data.csv\" and save to DataFrame `comment_df`. "
   ]
  },
  {
   "cell_type": "code",
   "execution_count": 3,
   "id": "6968c096",
   "metadata": {
    "scrolled": true
   },
   "outputs": [
    {
     "data": {
      "text/html": [
       "<div>\n",
       "<style scoped>\n",
       "    .dataframe tbody tr th:only-of-type {\n",
       "        vertical-align: middle;\n",
       "    }\n",
       "\n",
       "    .dataframe tbody tr th {\n",
       "        vertical-align: top;\n",
       "    }\n",
       "\n",
       "    .dataframe thead th {\n",
       "        text-align: right;\n",
       "    }\n",
       "</style>\n",
       "<table border=\"1\" class=\"dataframe\">\n",
       "  <thead>\n",
       "    <tr style=\"text-align: right;\">\n",
       "      <th></th>\n",
       "      <th>product_id</th>\n",
       "      <th>comment_id</th>\n",
       "      <th>title</th>\n",
       "      <th>thank_count</th>\n",
       "      <th>customer_id</th>\n",
       "      <th>rating</th>\n",
       "      <th>content</th>\n",
       "    </tr>\n",
       "  </thead>\n",
       "  <tbody>\n",
       "    <tr>\n",
       "      <th>0</th>\n",
       "      <td>74021317</td>\n",
       "      <td>12559756</td>\n",
       "      <td>Cực kì hài lòng</td>\n",
       "      <td>313</td>\n",
       "      <td>22051463</td>\n",
       "      <td>5</td>\n",
       "      <td>Có những người bước đến, họ lấp đầy hạnh phúc ...</td>\n",
       "    </tr>\n",
       "    <tr>\n",
       "      <th>1</th>\n",
       "      <td>74021317</td>\n",
       "      <td>16979365</td>\n",
       "      <td>Cực kì hài lòng</td>\n",
       "      <td>6</td>\n",
       "      <td>27791831</td>\n",
       "      <td>5</td>\n",
       "      <td>Thấy nhiều bạn chê tiki gói hàng quá, may sao ...</td>\n",
       "    </tr>\n",
       "    <tr>\n",
       "      <th>2</th>\n",
       "      <td>74021317</td>\n",
       "      <td>14069617</td>\n",
       "      <td>Cực kì hài lòng</td>\n",
       "      <td>25</td>\n",
       "      <td>17748750</td>\n",
       "      <td>5</td>\n",
       "      <td>Bìa cực xinh, tiki giao hàng nhanh, sách không...</td>\n",
       "    </tr>\n",
       "    <tr>\n",
       "      <th>3</th>\n",
       "      <td>74021317</td>\n",
       "      <td>8569824</td>\n",
       "      <td>Cực kì hài lòng</td>\n",
       "      <td>57</td>\n",
       "      <td>410797</td>\n",
       "      <td>5</td>\n",
       "      <td>Sách lúc nhận hình thức rất ổn, không cong vên...</td>\n",
       "    </tr>\n",
       "    <tr>\n",
       "      <th>4</th>\n",
       "      <td>74021317</td>\n",
       "      <td>18368714</td>\n",
       "      <td>Cực kì hài lòng</td>\n",
       "      <td>0</td>\n",
       "      <td>28545286</td>\n",
       "      <td>5</td>\n",
       "      <td>Một cuốn sách rất đáng đọc về tình yêu thương ...</td>\n",
       "    </tr>\n",
       "  </tbody>\n",
       "</table>\n",
       "</div>"
      ],
      "text/plain": [
       "   product_id  comment_id            title  thank_count  customer_id  rating  \\\n",
       "0    74021317    12559756  Cực kì hài lòng          313     22051463       5   \n",
       "1    74021317    16979365  Cực kì hài lòng            6     27791831       5   \n",
       "2    74021317    14069617  Cực kì hài lòng           25     17748750       5   \n",
       "3    74021317     8569824  Cực kì hài lòng           57       410797       5   \n",
       "4    74021317    18368714  Cực kì hài lòng            0     28545286       5   \n",
       "\n",
       "                                             content  \n",
       "0  Có những người bước đến, họ lấp đầy hạnh phúc ...  \n",
       "1  Thấy nhiều bạn chê tiki gói hàng quá, may sao ...  \n",
       "2  Bìa cực xinh, tiki giao hàng nhanh, sách không...  \n",
       "3  Sách lúc nhận hình thức rất ổn, không cong vên...  \n",
       "4  Một cuốn sách rất đáng đọc về tình yêu thương ...  "
      ]
     },
     "execution_count": 3,
     "metadata": {},
     "output_type": "execute_result"
    }
   ],
   "source": [
    "comment_df = pd.read_csv('data/comments.csv')\n",
    "comment_df.head()"
   ]
  },
  {
   "cell_type": "markdown",
   "id": "415deb62",
   "metadata": {},
   "source": [
    "### 2.1 How many rows and how many columns?"
   ]
  },
  {
   "cell_type": "markdown",
   "id": "43792ddd",
   "metadata": {},
   "source": [
    "We get the number of rows and columns of the DataFrame `book_df` and store it in `num_rows` and `num_cols` variables."
   ]
  },
  {
   "cell_type": "code",
   "execution_count": 4,
   "id": "68295977",
   "metadata": {},
   "outputs": [
    {
     "name": "stdout",
     "output_type": "stream",
     "text": [
      "Number of rows:  1796\n",
      "Number of cols:  12\n"
     ]
    }
   ],
   "source": [
    "num_rows = book_df.shape[0]\n",
    "num_cols = book_df.shape[1]\n",
    "print(f'Number of rows: ',num_rows)\n",
    "print(f'Number of cols: ',num_cols)"
   ]
  },
  {
   "cell_type": "markdown",
   "id": "328bec74",
   "metadata": {},
   "source": [
    "We get the number of rows and columns of the DataFrame `comment_df` and store it in `num_rows` and `num_cols` variables."
   ]
  },
  {
   "cell_type": "code",
   "execution_count": 5,
   "id": "ff5e9544",
   "metadata": {},
   "outputs": [
    {
     "name": "stdout",
     "output_type": "stream",
     "text": [
      "Number of rows:  141281\n",
      "Number of cols:  7\n"
     ]
    }
   ],
   "source": [
    "num_rows = comment_df.shape[0]\n",
    "num_cols = comment_df.shape[1]\n",
    "print(f'Number of rows: ',num_rows)\n",
    "print(f'Number of cols: ',num_cols)"
   ]
  },
  {
   "cell_type": "markdown",
   "id": "fce6c598",
   "metadata": {},
   "source": [
    "### 2.2 What is the meaning of each column?"
   ]
  },
  {
   "cell_type": "markdown",
   "id": "a2ac5fd0",
   "metadata": {},
   "source": [
    "Meaning of each column in `book_df` describle below"
   ]
  },
  {
   "cell_type": "markdown",
   "id": "e86f7897",
   "metadata": {},
   "source": [
    "| Column      | Description |\n",
    "| :---        |    :----   |    \n",
    "| `product_id`      | Id of the product in the Tiki database (unique)      | \n",
    "| `title`   |  Name of the book, maybe contain republish time       | \n",
    "| `authors`    |    same with it's name              |\n",
    "| `original_price`    |      price at the first time             |\n",
    "| `current_price`    |  price at present if having a discount                 |\n",
    "| `quantity`    |  \ttotal number of books sold of all time                 |\n",
    "| `category`    |  \tkind of book                 |\n",
    "| `n_review`    |   number of reviews               |\n",
    "| `avg_rating`    |  average rating (max 5.0)                 |\n",
    "| `pages`    |     total pages of each book              |\n"
   ]
  },
  {
   "cell_type": "markdown",
   "id": "3996a189",
   "metadata": {},
   "source": [
    "Meaning of each column in `comment_df` describle below"
   ]
  },
  {
   "cell_type": "markdown",
   "id": "395f5557",
   "metadata": {},
   "source": [
    "| Column      | Description |\n",
    "| :---        |    :----   |    \n",
    "| `product_id`      | same with book_data file      | \n",
    "| `title`   |  keywork of comment       | \n",
    "| `comment_id`    |   each comment has individual id        |\n",
    "| `thank_count`    |     number of like of other people            |\n",
    "| `customer_id`    |  price at present if having a discount                 |\n",
    "| `rating`    |  average rating of the comment             |\n",
    "| `category`    |  \tkind of book                 |\n",
    "| `content`    |  same with it's name             |\n"
   ]
  },
  {
   "cell_type": "markdown",
   "id": "144c0d29",
   "metadata": {},
   "source": [
    "### 2.3 Are there duplicated rows?"
   ]
  },
  {
   "cell_type": "code",
   "execution_count": 6,
   "id": "a4a8ce8a",
   "metadata": {},
   "outputs": [
    {
     "data": {
      "text/plain": [
       "35"
      ]
     },
     "execution_count": 6,
     "metadata": {},
     "output_type": "execute_result"
    }
   ],
   "source": [
    "num_duplicated_rows = book_df[book_df.duplicated(keep=False)].shape[0]\n",
    "num_duplicated_rows"
   ]
  },
  {
   "cell_type": "markdown",
   "id": "aca6805b",
   "metadata": {},
   "source": [
    "In `book_df` there are 35 duplicated rows. So we will remove it"
   ]
  },
  {
   "cell_type": "code",
   "execution_count": 7,
   "id": "d29a2934",
   "metadata": {},
   "outputs": [
    {
     "data": {
      "text/plain": [
       "1777"
      ]
     },
     "execution_count": 7,
     "metadata": {},
     "output_type": "execute_result"
    }
   ],
   "source": [
    "book_df = book_df.drop_duplicates()\n",
    "num_rows = book_df.shape[0]\n",
    "num_rows"
   ]
  },
  {
   "cell_type": "markdown",
   "id": "83d5c7d2",
   "metadata": {},
   "source": [
    "After remove duplicated rows, `book_df` has 1777 rows"
   ]
  },
  {
   "cell_type": "code",
   "execution_count": 8,
   "id": "9ee4c463",
   "metadata": {},
   "outputs": [
    {
     "data": {
      "text/plain": [
       "39299"
      ]
     },
     "execution_count": 8,
     "metadata": {},
     "output_type": "execute_result"
    }
   ],
   "source": [
    "num_duplicated_rows = comment_df[comment_df.duplicated(keep=False)].shape[0]\n",
    "num_duplicated_rows"
   ]
  },
  {
   "cell_type": "markdown",
   "id": "e51f6e85",
   "metadata": {},
   "source": [
    "In `comment_df` there are 39299 duplicated rows. So we will remove it"
   ]
  },
  {
   "cell_type": "code",
   "execution_count": 9,
   "id": "7882f4bb",
   "metadata": {},
   "outputs": [
    {
     "data": {
      "text/plain": [
       "121393"
      ]
     },
     "execution_count": 9,
     "metadata": {},
     "output_type": "execute_result"
    }
   ],
   "source": [
    "comment_df = comment_df.drop_duplicates()\n",
    "num_rows = comment_df.shape[0]\n",
    "num_rows"
   ]
  },
  {
   "cell_type": "markdown",
   "id": "d137453a",
   "metadata": {},
   "source": [
    "After remove duplicated rows, `comment_df` has 121393 rows"
   ]
  },
  {
   "cell_type": "markdown",
   "id": "238d7e66",
   "metadata": {},
   "source": [
    "### 2.4 What is the current data type of each column? Are there columns having inappropriate data types?"
   ]
  },
  {
   "cell_type": "code",
   "execution_count": 10,
   "id": "e6db0507",
   "metadata": {},
   "outputs": [
    {
     "data": {
      "text/plain": [
       "product_id          int64\n",
       "title              object\n",
       "authors            object\n",
       "original_price      int64\n",
       "current_price       int64\n",
       "quantity          float64\n",
       "category           object\n",
       "n_review            int64\n",
       "avg_rating        float64\n",
       "pages              object\n",
       "manufacturer       object\n",
       "cover_link         object\n",
       "dtype: object"
      ]
     },
     "execution_count": 10,
     "metadata": {},
     "output_type": "execute_result"
    }
   ],
   "source": [
    "dtypes = pd.Series(dict(book_df.dtypes))\n",
    "dtypes"
   ]
  },
  {
   "cell_type": "markdown",
   "id": "91bc570d",
   "metadata": {},
   "source": [
    "We can see some of data type of the column has appropriate type. Some of them in object type like `pages`,`manufacturer`, `category`, `title`, `authors`,... We will explore and convert pages into integer and the remain will be string"
   ]
  },
  {
   "cell_type": "code",
   "execution_count": 11,
   "id": "7d297300",
   "metadata": {},
   "outputs": [],
   "source": [
    "# book_df.astype({'pages': np.float32})\n",
    "book_df['pages'] = pd.to_numeric(book_df['pages'] , errors='coerce')"
   ]
  },
  {
   "cell_type": "code",
   "execution_count": 12,
   "id": "70deb9e7",
   "metadata": {},
   "outputs": [
    {
     "name": "stdout",
     "output_type": "stream",
     "text": [
      "category {<class 'str'>}\n",
      "manufacturer {<class 'str'>, <class 'float'>}\n"
     ]
    }
   ],
   "source": [
    "def open_object_dtype(s):\n",
    "    dtypes = set()\n",
    "    s.apply(lambda x: dtypes.add(type(x)))\n",
    "    return dtypes\n",
    "print('category',open_object_dtype(book_df.category) )\n",
    "print('manufacturer',open_object_dtype(book_df.manufacturer) )\n",
    "book_df.loc[book_df['category'].str.strip() == '','category'] = np.nan\n",
    "book_df.loc[book_df['manufacturer'].str.strip() == '','manufacturer'] = np.nan\n",
    "book_df = book_df.astype({'manufacturer': str,'category':str})"
   ]
  },
  {
   "cell_type": "markdown",
   "id": "9520cdd0",
   "metadata": {},
   "source": [
    "We will replace which rows has zero characters by `np.nan` and cast them into str"
   ]
  },
  {
   "cell_type": "code",
   "execution_count": 13,
   "id": "6ef5a39e",
   "metadata": {
    "scrolled": true
   },
   "outputs": [
    {
     "data": {
      "text/plain": [
       "product_id      int64\n",
       "comment_id      int64\n",
       "title          object\n",
       "thank_count     int64\n",
       "customer_id     int64\n",
       "rating          int64\n",
       "content        object\n",
       "dtype: object"
      ]
     },
     "execution_count": 13,
     "metadata": {},
     "output_type": "execute_result"
    }
   ],
   "source": [
    "dtypes = pd.Series(dict(comment_df.dtypes))\n",
    "dtypes"
   ]
  },
  {
   "cell_type": "markdown",
   "id": "a73bddbf",
   "metadata": {},
   "source": [
    "With `comment_df` we also see some of data type of the column has appropriate type. Some of them in object type like `title`,`content`. We will explore and convert them into string"
   ]
  },
  {
   "cell_type": "code",
   "execution_count": 14,
   "id": "23c2c6b6",
   "metadata": {},
   "outputs": [
    {
     "name": "stdout",
     "output_type": "stream",
     "text": [
      "title {<class 'str'>, <class 'float'>}\n",
      "content {<class 'str'>, <class 'float'>}\n"
     ]
    }
   ],
   "source": [
    "print('title',open_object_dtype(comment_df.title ) )\n",
    "print('content',open_object_dtype(comment_df.content ) )\n",
    "comment_df.loc[comment_df['title'].str.strip() == '','title'] = np.nan\n",
    "comment_df.loc[comment_df['content'].str.strip() == '','content'] = np.nan\n",
    "comment_df = comment_df.astype({'title': str,'content':str})"
   ]
  },
  {
   "cell_type": "markdown",
   "id": "abb9d7b8",
   "metadata": {},
   "source": [
    "### With each numerical column, how are values distributed?\n"
   ]
  },
  {
   "cell_type": "markdown",
   "id": "2a1bb179",
   "metadata": {},
   "source": [
    "Numerical columns in `book_df` is `product_id`,\t`original_price`,\t`current_price`,\t`quantity`,\t`n_review`,\t`avg_rating`,\t`pages`."
   ]
  },
  {
   "cell_type": "code",
   "execution_count": 15,
   "id": "e287b834",
   "metadata": {
    "scrolled": false
   },
   "outputs": [
    {
     "data": {
      "text/html": [
       "<div>\n",
       "<style scoped>\n",
       "    .dataframe tbody tr th:only-of-type {\n",
       "        vertical-align: middle;\n",
       "    }\n",
       "\n",
       "    .dataframe tbody tr th {\n",
       "        vertical-align: top;\n",
       "    }\n",
       "\n",
       "    .dataframe thead th {\n",
       "        text-align: right;\n",
       "    }\n",
       "</style>\n",
       "<table border=\"1\" class=\"dataframe\">\n",
       "  <thead>\n",
       "    <tr style=\"text-align: right;\">\n",
       "      <th></th>\n",
       "      <th>product_id</th>\n",
       "      <th>original_price</th>\n",
       "      <th>current_price</th>\n",
       "      <th>quantity</th>\n",
       "      <th>n_review</th>\n",
       "      <th>avg_rating</th>\n",
       "      <th>pages</th>\n",
       "    </tr>\n",
       "  </thead>\n",
       "  <tbody>\n",
       "    <tr>\n",
       "      <th>missing_percentage</th>\n",
       "      <td>0.0</td>\n",
       "      <td>0.0</td>\n",
       "      <td>0.0</td>\n",
       "      <td>0.0</td>\n",
       "      <td>0.0</td>\n",
       "      <td>0.0</td>\n",
       "      <td>0.2</td>\n",
       "    </tr>\n",
       "    <tr>\n",
       "      <th>min</th>\n",
       "      <td>335337.0</td>\n",
       "      <td>0.0</td>\n",
       "      <td>0.0</td>\n",
       "      <td>1.0</td>\n",
       "      <td>0.0</td>\n",
       "      <td>0.0</td>\n",
       "      <td>10.0</td>\n",
       "    </tr>\n",
       "    <tr>\n",
       "      <th>lower_quartile</th>\n",
       "      <td>52785564.0</td>\n",
       "      <td>89000.0</td>\n",
       "      <td>60000.0</td>\n",
       "      <td>173.0</td>\n",
       "      <td>16.0</td>\n",
       "      <td>4.8</td>\n",
       "      <td>208.0</td>\n",
       "    </tr>\n",
       "    <tr>\n",
       "      <th>median</th>\n",
       "      <td>115078649.0</td>\n",
       "      <td>129000.0</td>\n",
       "      <td>88800.0</td>\n",
       "      <td>565.5</td>\n",
       "      <td>74.0</td>\n",
       "      <td>4.8</td>\n",
       "      <td>300.0</td>\n",
       "    </tr>\n",
       "    <tr>\n",
       "      <th>upper_quartile</th>\n",
       "      <td>192908778.0</td>\n",
       "      <td>190000.0</td>\n",
       "      <td>136600.0</td>\n",
       "      <td>2127.8</td>\n",
       "      <td>303.0</td>\n",
       "      <td>5.0</td>\n",
       "      <td>408.0</td>\n",
       "    </tr>\n",
       "    <tr>\n",
       "      <th>max</th>\n",
       "      <td>207909812.0</td>\n",
       "      <td>1550000.0</td>\n",
       "      <td>1200000.0</td>\n",
       "      <td>671121.0</td>\n",
       "      <td>11481.0</td>\n",
       "      <td>5.0</td>\n",
       "      <td>192000.0</td>\n",
       "    </tr>\n",
       "  </tbody>\n",
       "</table>\n",
       "</div>"
      ],
      "text/plain": [
       "                     product_id  original_price  current_price  quantity  \\\n",
       "missing_percentage          0.0             0.0            0.0       0.0   \n",
       "min                    335337.0             0.0            0.0       1.0   \n",
       "lower_quartile       52785564.0         89000.0        60000.0     173.0   \n",
       "median              115078649.0        129000.0        88800.0     565.5   \n",
       "upper_quartile      192908778.0        190000.0       136600.0    2127.8   \n",
       "max                 207909812.0       1550000.0      1200000.0  671121.0   \n",
       "\n",
       "                    n_review  avg_rating     pages  \n",
       "missing_percentage       0.0         0.0       0.2  \n",
       "min                      0.0         0.0      10.0  \n",
       "lower_quartile          16.0         4.8     208.0  \n",
       "median                  74.0         4.8     300.0  \n",
       "upper_quartile         303.0         5.0     408.0  \n",
       "max                  11481.0         5.0  192000.0  "
      ]
     },
     "execution_count": 15,
     "metadata": {},
     "output_type": "execute_result"
    }
   ],
   "source": [
    "cols = book_df.select_dtypes([np.number]).columns\n",
    "min = book_df[cols].min()\n",
    "missing_percentage = book_df[cols].isnull().sum()/num_rows*100\n",
    "lower_quartile = book_df[cols].quantile(0.25)\n",
    "median = book_df[cols].quantile(0.5)\n",
    "upper_quartile = book_df[cols].quantile(0.75)\n",
    "max = book_df[cols].max()\n",
    "nume_col_info_df = pd.concat([missing_percentage,min,lower_quartile,median,upper_quartile,max],axis = 1).T\n",
    "nume_col_info_df.index = [ \"missing_percentage\", \"min\", \"lower_quartile\", \"median\", \"upper_quartile\", \"max\"]\n",
    "nume_col_info_df = nume_col_info_df.round(1)\n",
    "nume_col_info_df"
   ]
  },
  {
   "cell_type": "markdown",
   "id": "288839c8",
   "metadata": {},
   "source": [
    "The maximum row for columns \"pages\" and \"n review\" is 192000 and 11481, respectively. Since it's very big, we'll have a look."
   ]
  },
  {
   "cell_type": "code",
   "execution_count": 16,
   "id": "154747dd",
   "metadata": {},
   "outputs": [
    {
     "data": {
      "text/html": [
       "<div>\n",
       "<style scoped>\n",
       "    .dataframe tbody tr th:only-of-type {\n",
       "        vertical-align: middle;\n",
       "    }\n",
       "\n",
       "    .dataframe tbody tr th {\n",
       "        vertical-align: top;\n",
       "    }\n",
       "\n",
       "    .dataframe thead th {\n",
       "        text-align: right;\n",
       "    }\n",
       "</style>\n",
       "<table border=\"1\" class=\"dataframe\">\n",
       "  <thead>\n",
       "    <tr style=\"text-align: right;\">\n",
       "      <th></th>\n",
       "      <th>product_id</th>\n",
       "      <th>title</th>\n",
       "      <th>authors</th>\n",
       "      <th>original_price</th>\n",
       "      <th>current_price</th>\n",
       "      <th>quantity</th>\n",
       "      <th>category</th>\n",
       "      <th>n_review</th>\n",
       "      <th>avg_rating</th>\n",
       "      <th>pages</th>\n",
       "      <th>manufacturer</th>\n",
       "      <th>cover_link</th>\n",
       "    </tr>\n",
       "  </thead>\n",
       "  <tbody>\n",
       "    <tr>\n",
       "      <th>0</th>\n",
       "      <td>74021317</td>\n",
       "      <td>Cây Cam Ngọt Của Tôi</td>\n",
       "      <td>José Mauro de Vasconcelos</td>\n",
       "      <td>108000</td>\n",
       "      <td>64800</td>\n",
       "      <td>53075.0</td>\n",
       "      <td>Tiểu Thuyết</td>\n",
       "      <td>11481</td>\n",
       "      <td>5.0</td>\n",
       "      <td>244.0</td>\n",
       "      <td>Nhà Xuất Bản Hội Nhà Văn</td>\n",
       "      <td>https://salt.tikicdn.com/ts/product/5e/18/24/2...</td>\n",
       "    </tr>\n",
       "  </tbody>\n",
       "</table>\n",
       "</div>"
      ],
      "text/plain": [
       "   product_id                 title                    authors  \\\n",
       "0    74021317  Cây Cam Ngọt Của Tôi  José Mauro de Vasconcelos   \n",
       "\n",
       "   original_price  current_price  quantity     category  n_review  avg_rating  \\\n",
       "0          108000          64800   53075.0  Tiểu Thuyết     11481         5.0   \n",
       "\n",
       "   pages              manufacturer  \\\n",
       "0  244.0  Nhà Xuất Bản Hội Nhà Văn   \n",
       "\n",
       "                                          cover_link  \n",
       "0  https://salt.tikicdn.com/ts/product/5e/18/24/2...  "
      ]
     },
     "execution_count": 16,
     "metadata": {},
     "output_type": "execute_result"
    }
   ],
   "source": [
    "book_df[book_df.n_review==11481.0]"
   ]
  },
  {
   "cell_type": "code",
   "execution_count": 17,
   "id": "e2982560",
   "metadata": {},
   "outputs": [
    {
     "data": {
      "text/html": [
       "<div>\n",
       "<style scoped>\n",
       "    .dataframe tbody tr th:only-of-type {\n",
       "        vertical-align: middle;\n",
       "    }\n",
       "\n",
       "    .dataframe tbody tr th {\n",
       "        vertical-align: top;\n",
       "    }\n",
       "\n",
       "    .dataframe thead th {\n",
       "        text-align: right;\n",
       "    }\n",
       "</style>\n",
       "<table border=\"1\" class=\"dataframe\">\n",
       "  <thead>\n",
       "    <tr style=\"text-align: right;\">\n",
       "      <th></th>\n",
       "      <th>product_id</th>\n",
       "      <th>title</th>\n",
       "      <th>authors</th>\n",
       "      <th>original_price</th>\n",
       "      <th>current_price</th>\n",
       "      <th>quantity</th>\n",
       "      <th>category</th>\n",
       "      <th>n_review</th>\n",
       "      <th>avg_rating</th>\n",
       "      <th>pages</th>\n",
       "      <th>manufacturer</th>\n",
       "      <th>cover_link</th>\n",
       "    </tr>\n",
       "  </thead>\n",
       "  <tbody>\n",
       "    <tr>\n",
       "      <th>650</th>\n",
       "      <td>201687274</td>\n",
       "      <td>Có Một Nổi Buồn Vừa Ngang Qua Đây</td>\n",
       "      <td>Gã</td>\n",
       "      <td>88000</td>\n",
       "      <td>64900</td>\n",
       "      <td>114.0</td>\n",
       "      <td>Truyện ngắn - Tản văn - Tạp Văn</td>\n",
       "      <td>6</td>\n",
       "      <td>5.0</td>\n",
       "      <td>192000.0</td>\n",
       "      <td>Nhà Xuất Bản Văn Học</td>\n",
       "      <td>https://salt.tikicdn.com/ts/product/08/fd/a5/0...</td>\n",
       "    </tr>\n",
       "  </tbody>\n",
       "</table>\n",
       "</div>"
      ],
      "text/plain": [
       "     product_id                              title authors  original_price  \\\n",
       "650   201687274  Có Một Nổi Buồn Vừa Ngang Qua Đây      Gã           88000   \n",
       "\n",
       "     current_price  quantity                         category  n_review  \\\n",
       "650          64900     114.0  Truyện ngắn - Tản văn - Tạp Văn         6   \n",
       "\n",
       "     avg_rating     pages          manufacturer  \\\n",
       "650         5.0  192000.0  Nhà Xuất Bản Văn Học   \n",
       "\n",
       "                                            cover_link  \n",
       "650  https://salt.tikicdn.com/ts/product/08/fd/a5/0...  "
      ]
     },
     "execution_count": 17,
     "metadata": {},
     "output_type": "execute_result"
    }
   ],
   "source": [
    "book_df[book_df.pages==192000.0]"
   ]
  },
  {
   "cell_type": "markdown",
   "id": "bc334ba6",
   "metadata": {},
   "source": [
    "I checked the webpage, and the information is accurate."
   ]
  },
  {
   "cell_type": "code",
   "execution_count": 18,
   "id": "2070e1f9",
   "metadata": {},
   "outputs": [
    {
     "data": {
      "text/html": [
       "<div>\n",
       "<style scoped>\n",
       "    .dataframe tbody tr th:only-of-type {\n",
       "        vertical-align: middle;\n",
       "    }\n",
       "\n",
       "    .dataframe tbody tr th {\n",
       "        vertical-align: top;\n",
       "    }\n",
       "\n",
       "    .dataframe thead th {\n",
       "        text-align: right;\n",
       "    }\n",
       "</style>\n",
       "<table border=\"1\" class=\"dataframe\">\n",
       "  <thead>\n",
       "    <tr style=\"text-align: right;\">\n",
       "      <th></th>\n",
       "      <th>product_id</th>\n",
       "      <th>title</th>\n",
       "      <th>authors</th>\n",
       "      <th>original_price</th>\n",
       "      <th>current_price</th>\n",
       "      <th>quantity</th>\n",
       "      <th>category</th>\n",
       "      <th>n_review</th>\n",
       "      <th>avg_rating</th>\n",
       "      <th>pages</th>\n",
       "      <th>manufacturer</th>\n",
       "      <th>cover_link</th>\n",
       "    </tr>\n",
       "  </thead>\n",
       "  <tbody>\n",
       "    <tr>\n",
       "      <th>968</th>\n",
       "      <td>203875661</td>\n",
       "      <td>( Khóa Học ) IELTS Fighter Target 6.5 Speaking</td>\n",
       "      <td>NaN</td>\n",
       "      <td>0</td>\n",
       "      <td>0</td>\n",
       "      <td>56.0</td>\n",
       "      <td>Sách Học Tiếng Anh</td>\n",
       "      <td>0</td>\n",
       "      <td>0.0</td>\n",
       "      <td>NaN</td>\n",
       "      <td>Nhà Xuất Bản Thế Giới</td>\n",
       "      <td>https://salt.tikicdn.com/ts/product/11/b3/ec/4...</td>\n",
       "    </tr>\n",
       "  </tbody>\n",
       "</table>\n",
       "</div>"
      ],
      "text/plain": [
       "     product_id                                           title authors  \\\n",
       "968   203875661  ( Khóa Học ) IELTS Fighter Target 6.5 Speaking     NaN   \n",
       "\n",
       "     original_price  current_price  quantity            category  n_review  \\\n",
       "968               0              0      56.0  Sách Học Tiếng Anh         0   \n",
       "\n",
       "     avg_rating  pages           manufacturer  \\\n",
       "968         0.0    NaN  Nhà Xuất Bản Thế Giới   \n",
       "\n",
       "                                            cover_link  \n",
       "968  https://salt.tikicdn.com/ts/product/11/b3/ec/4...  "
      ]
     },
     "execution_count": 18,
     "metadata": {},
     "output_type": "execute_result"
    }
   ],
   "source": [
    "book_df[book_df.original_price==0]"
   ]
  },
  {
   "cell_type": "markdown",
   "id": "6da2ba4b",
   "metadata": {},
   "source": [
    "There is only one row with a price of 0. We can see that it is a course, so perhaps they are just using it as a means of advertising."
   ]
  },
  {
   "cell_type": "markdown",
   "id": "6a731f89",
   "metadata": {},
   "source": [
    "Numerical columns in `comment_df` is `product_id`, `comment_id`, `thank_count`,\t`customer_id`,\t`rating`."
   ]
  },
  {
   "cell_type": "code",
   "execution_count": 19,
   "id": "e95b5f94",
   "metadata": {},
   "outputs": [
    {
     "data": {
      "text/html": [
       "<div>\n",
       "<style scoped>\n",
       "    .dataframe tbody tr th:only-of-type {\n",
       "        vertical-align: middle;\n",
       "    }\n",
       "\n",
       "    .dataframe tbody tr th {\n",
       "        vertical-align: top;\n",
       "    }\n",
       "\n",
       "    .dataframe thead th {\n",
       "        text-align: right;\n",
       "    }\n",
       "</style>\n",
       "<table border=\"1\" class=\"dataframe\">\n",
       "  <thead>\n",
       "    <tr style=\"text-align: right;\">\n",
       "      <th></th>\n",
       "      <th>product_id</th>\n",
       "      <th>comment_id</th>\n",
       "      <th>thank_count</th>\n",
       "      <th>customer_id</th>\n",
       "      <th>rating</th>\n",
       "    </tr>\n",
       "  </thead>\n",
       "  <tbody>\n",
       "    <tr>\n",
       "      <th>missing_percentage</th>\n",
       "      <td>0.0</td>\n",
       "      <td>0.0</td>\n",
       "      <td>0.0</td>\n",
       "      <td>0.0</td>\n",
       "      <td>0.0</td>\n",
       "    </tr>\n",
       "    <tr>\n",
       "      <th>min</th>\n",
       "      <td>335337.0</td>\n",
       "      <td>116197.0</td>\n",
       "      <td>0.0</td>\n",
       "      <td>27.0</td>\n",
       "      <td>1.0</td>\n",
       "    </tr>\n",
       "    <tr>\n",
       "      <th>lower_quartile</th>\n",
       "      <td>42459036.0</td>\n",
       "      <td>11576181.0</td>\n",
       "      <td>0.0</td>\n",
       "      <td>5355417.0</td>\n",
       "      <td>5.0</td>\n",
       "    </tr>\n",
       "    <tr>\n",
       "      <th>median</th>\n",
       "      <td>77105728.0</td>\n",
       "      <td>15459335.0</td>\n",
       "      <td>0.0</td>\n",
       "      <td>11123876.0</td>\n",
       "      <td>5.0</td>\n",
       "    </tr>\n",
       "    <tr>\n",
       "      <th>upper_quartile</th>\n",
       "      <td>147920903.0</td>\n",
       "      <td>17518350.0</td>\n",
       "      <td>0.0</td>\n",
       "      <td>19113314.0</td>\n",
       "      <td>5.0</td>\n",
       "    </tr>\n",
       "    <tr>\n",
       "      <th>max</th>\n",
       "      <td>207852961.0</td>\n",
       "      <td>18392604.0</td>\n",
       "      <td>548.0</td>\n",
       "      <td>28578516.0</td>\n",
       "      <td>5.0</td>\n",
       "    </tr>\n",
       "  </tbody>\n",
       "</table>\n",
       "</div>"
      ],
      "text/plain": [
       "                     product_id  comment_id  thank_count  customer_id  rating\n",
       "missing_percentage          0.0         0.0          0.0          0.0     0.0\n",
       "min                    335337.0    116197.0          0.0         27.0     1.0\n",
       "lower_quartile       42459036.0  11576181.0          0.0    5355417.0     5.0\n",
       "median               77105728.0  15459335.0          0.0   11123876.0     5.0\n",
       "upper_quartile      147920903.0  17518350.0          0.0   19113314.0     5.0\n",
       "max                 207852961.0  18392604.0        548.0   28578516.0     5.0"
      ]
     },
     "execution_count": 19,
     "metadata": {},
     "output_type": "execute_result"
    }
   ],
   "source": [
    "cols = comment_df.select_dtypes([np.number]).columns\n",
    "min = comment_df[cols].min()\n",
    "missing_percentage = comment_df[cols].isnull().sum()/num_rows*100\n",
    "lower_quartile = comment_df[cols].quantile(0.25)\n",
    "median = comment_df[cols].quantile(0.5)\n",
    "upper_quartile = comment_df[cols].quantile(0.75)\n",
    "max = comment_df[cols].max()\n",
    "nume_col_info_df = pd.concat([missing_percentage,min,lower_quartile,median,upper_quartile,max],axis = 1).T\n",
    "nume_col_info_df.index = [ \"missing_percentage\", \"min\", \"lower_quartile\", \"median\", \"upper_quartile\", \"max\"]\n",
    "nume_col_info_df = nume_col_info_df.round(1)\n",
    "nume_col_info_df"
   ]
  },
  {
   "cell_type": "markdown",
   "id": "e1cb7fa9",
   "metadata": {},
   "source": [
    "The information is clear and unambiguous."
   ]
  },
  {
   "cell_type": "markdown",
   "id": "0819ecde",
   "metadata": {},
   "source": [
    "### With each categorical column, how are values distributed?"
   ]
  },
  {
   "cell_type": "markdown",
   "id": "2c17cb9d",
   "metadata": {},
   "source": [
    "Category columns in `book_df` is `category`, `category`, `title`,\t`manufacturer`,\t`authors`."
   ]
  },
  {
   "cell_type": "code",
   "execution_count": 20,
   "id": "b72d0081",
   "metadata": {
    "scrolled": true
   },
   "outputs": [
    {
     "data": {
      "text/html": [
       "<div>\n",
       "<style scoped>\n",
       "    .dataframe tbody tr th:only-of-type {\n",
       "        vertical-align: middle;\n",
       "    }\n",
       "\n",
       "    .dataframe tbody tr th {\n",
       "        vertical-align: top;\n",
       "    }\n",
       "\n",
       "    .dataframe thead th {\n",
       "        text-align: right;\n",
       "    }\n",
       "</style>\n",
       "<table border=\"1\" class=\"dataframe\">\n",
       "  <thead>\n",
       "    <tr style=\"text-align: right;\">\n",
       "      <th></th>\n",
       "      <th>authors</th>\n",
       "      <th>cover_link</th>\n",
       "      <th>category</th>\n",
       "      <th>manufacturer</th>\n",
       "      <th>title</th>\n",
       "    </tr>\n",
       "  </thead>\n",
       "  <tbody>\n",
       "    <tr>\n",
       "      <th>Missing percentage</th>\n",
       "      <td>7.878447</td>\n",
       "      <td>0.0</td>\n",
       "      <td>0.0</td>\n",
       "      <td>0.0</td>\n",
       "      <td>0.0</td>\n",
       "    </tr>\n",
       "    <tr>\n",
       "      <th>Num diff val</th>\n",
       "      <td>1083</td>\n",
       "      <td>1777</td>\n",
       "      <td>355</td>\n",
       "      <td>42</td>\n",
       "      <td>1769</td>\n",
       "    </tr>\n",
       "    <tr>\n",
       "      <th>Diff val</th>\n",
       "      <td>[José Mauro de Vasconcelos, Nguyễn Đoàn Minh T...</td>\n",
       "      <td>[https://salt.tikicdn.com/ts/product/5e/18/24/...</td>\n",
       "      <td>[Tiểu Thuyết, Sách tư duy - Kỹ năng sống, Lĩnh...</td>\n",
       "      <td>[Nhà Xuất Bản Hội Nhà Văn, Nhà Xuất Bản Thế Gi...</td>\n",
       "      <td>[Cây Cam Ngọt Của Tôi, Hành Tinh Của Một Kẻ Ng...</td>\n",
       "    </tr>\n",
       "  </tbody>\n",
       "</table>\n",
       "</div>"
      ],
      "text/plain": [
       "                                                              authors  \\\n",
       "Missing percentage                                           7.878447   \n",
       "Num diff val                                                     1083   \n",
       "Diff val            [José Mauro de Vasconcelos, Nguyễn Đoàn Minh T...   \n",
       "\n",
       "                                                           cover_link  \\\n",
       "Missing percentage                                                0.0   \n",
       "Num diff val                                                     1777   \n",
       "Diff val            [https://salt.tikicdn.com/ts/product/5e/18/24/...   \n",
       "\n",
       "                                                             category  \\\n",
       "Missing percentage                                                0.0   \n",
       "Num diff val                                                      355   \n",
       "Diff val            [Tiểu Thuyết, Sách tư duy - Kỹ năng sống, Lĩnh...   \n",
       "\n",
       "                                                         manufacturer  \\\n",
       "Missing percentage                                                0.0   \n",
       "Num diff val                                                       42   \n",
       "Diff val            [Nhà Xuất Bản Hội Nhà Văn, Nhà Xuất Bản Thế Gi...   \n",
       "\n",
       "                                                                title  \n",
       "Missing percentage                                                0.0  \n",
       "Num diff val                                                     1769  \n",
       "Diff val            [Cây Cam Ngọt Của Tôi, Hành Tinh Của Một Kẻ Ng...  "
      ]
     },
     "execution_count": 20,
     "metadata": {},
     "output_type": "execute_result"
    }
   ],
   "source": [
    "cate_cols = set(book_df.columns) - set(book_df.select_dtypes([np.number]).columns)\n",
    "missing_percentages = np.sum(book_df[cate_cols].isna()) / len(book_df) * 100\n",
    "num_diff_vals = np.array(book_df[cate_cols].nunique())\n",
    "diff_vals = np.array(book_df[cate_cols].apply(lambda col: col.dropna().unique()))\n",
    "\n",
    "cate_cols = pd.DataFrame(data=np.array([missing_percentages, num_diff_vals, diff_vals]),\n",
    "                            index=['Missing percentage', 'Num diff val', 'Diff val'], columns=cate_cols)\n",
    "cate_cols"
   ]
  },
  {
   "cell_type": "markdown",
   "id": "c1a06174",
   "metadata": {},
   "source": [
    "Category columns in `comment_df` is `title`\t, `content`."
   ]
  },
  {
   "cell_type": "code",
   "execution_count": 21,
   "id": "a16b2d8d",
   "metadata": {},
   "outputs": [
    {
     "data": {
      "text/html": [
       "<div>\n",
       "<style scoped>\n",
       "    .dataframe tbody tr th:only-of-type {\n",
       "        vertical-align: middle;\n",
       "    }\n",
       "\n",
       "    .dataframe tbody tr th {\n",
       "        vertical-align: top;\n",
       "    }\n",
       "\n",
       "    .dataframe thead th {\n",
       "        text-align: right;\n",
       "    }\n",
       "</style>\n",
       "<table border=\"1\" class=\"dataframe\">\n",
       "  <thead>\n",
       "    <tr style=\"text-align: right;\">\n",
       "      <th></th>\n",
       "      <th>title</th>\n",
       "      <th>content</th>\n",
       "    </tr>\n",
       "  </thead>\n",
       "  <tbody>\n",
       "    <tr>\n",
       "      <th>Missing percentage</th>\n",
       "      <td>0.0</td>\n",
       "      <td>0.0</td>\n",
       "    </tr>\n",
       "    <tr>\n",
       "      <th>Num diff val</th>\n",
       "      <td>4164</td>\n",
       "      <td>75681</td>\n",
       "    </tr>\n",
       "    <tr>\n",
       "      <th>Diff val</th>\n",
       "      <td>[Cực kì hài lòng, Bình thường, Một cuốn sách đ...</td>\n",
       "      <td>[Có những người bước đến, họ lấp đầy hạnh phúc...</td>\n",
       "    </tr>\n",
       "  </tbody>\n",
       "</table>\n",
       "</div>"
      ],
      "text/plain": [
       "                                                                title  \\\n",
       "Missing percentage                                                0.0   \n",
       "Num diff val                                                     4164   \n",
       "Diff val            [Cực kì hài lòng, Bình thường, Một cuốn sách đ...   \n",
       "\n",
       "                                                              content  \n",
       "Missing percentage                                                0.0  \n",
       "Num diff val                                                    75681  \n",
       "Diff val            [Có những người bước đến, họ lấp đầy hạnh phúc...  "
      ]
     },
     "execution_count": 21,
     "metadata": {},
     "output_type": "execute_result"
    }
   ],
   "source": [
    "cate_cols = set(comment_df.columns) - set(comment_df.select_dtypes([np.number]).columns)\n",
    "missing_percentages = np.sum(comment_df[cate_cols].isna()) / len(comment_df) * 100\n",
    "num_diff_vals = np.array(comment_df[cate_cols].nunique())\n",
    "diff_vals = np.array(comment_df[cate_cols].apply(lambda col: col.dropna().unique()))\n",
    "\n",
    "cate_cols = pd.DataFrame(data=np.array([missing_percentages, num_diff_vals, diff_vals]),\n",
    "                            index=['Missing percentage', 'Num diff val', 'Diff val'], columns=cate_cols)\n",
    "cate_cols"
   ]
  },
  {
   "cell_type": "markdown",
   "id": "c588bdb9",
   "metadata": {},
   "source": [
    "Lets look at `manufacturer` columns. "
   ]
  },
  {
   "cell_type": "code",
   "execution_count": 22,
   "id": "b97e5933",
   "metadata": {
    "scrolled": true
   },
   "outputs": [
    {
     "data": {
      "text/plain": [
       "nan                                              265\n",
       "Nhà Xuất Bản Thế Giới                            249\n",
       "NXB Trẻ                                          145\n",
       "Nhà Xuất Bản Hà Nội                              128\n",
       "Nhà Xuất Bản Dân Trí                             126\n",
       "Nhà Xuất Bản Kim Đồng                            113\n",
       "Nhà Xuất Bản Hội Nhà Văn                         111\n",
       "Nhà Xuất Bản Thanh Niên                           98\n",
       "Nhà Xuất Bản Tổng hợp TP.HCM                      92\n",
       "Nhà Xuất Bản Lao Động                             90\n",
       "Nhà Xuất Bản Văn Học                              77\n",
       "Nhà Xuất Bản Hồng Đức                             57\n",
       "Nhà Xuất Bản Công Thương                          46\n",
       "Nhà Xuất Bản Phụ Nữ Việt Nam                      38\n",
       "Nhà Xuất Bản Phụ Nữ                               30\n",
       "Nhà Xuất Bản Đà Nẵng                              17\n",
       "Nhà Xuất Bản Đại Học Quốc Gia Hà Nội              13\n",
       "Nhà Xuất Bản Mỹ Thuật                              8\n",
       "Nhà Xuất Bản Tri Thức                              7\n",
       "Nhà Xuất Bản Lao Động Xã Hội                       7\n",
       "Nhiều Nhà Xuất Bản                                 6\n",
       "NXB Dân Trí                                        6\n",
       "Nhà Xuất Bản Khoa Học Xã Hội                       5\n",
       "Nhà Xuất Bản Tài Chính                             5\n",
       "Nhà Xuất Bản Chính Trị Quốc Gia Sự Thật            4\n",
       "hong duc                                           3\n",
       "Nhà Xuất Bản Đồng Nai                              3\n",
       "NXB Đại học Kinh Tế Quốc Dân                       3\n",
       "Nhà Xuất Bản Thông Tin Và Truyền Thông             3\n",
       "Nhà Xuất Bản Văn Hóa - Văn Nghệ TP.HCM             3\n",
       "Nhà Xuất Bản Kinh Tế TPHCM                         3\n",
       "Nhà Xuất Bản Thông Tấn                             2\n",
       "Nhà Xuất Bản Khoa học & kỹ thuật                   2\n",
       "Nhà Xuất Bản Đại Học Kinh Tế Quốc Dân              2\n",
       "Forbes Việt Nam                                    2\n",
       "Nhà Xuất Bản Tôn Giáo                              2\n",
       "Nhà Xuất Bản Compass Publishing                    1\n",
       "Nhà Xuất Bản Hồng Đức - Hội Luật Gia Việt Nam      1\n",
       "Nhà Xuất Bản Thời Đại                              1\n",
       "Nhà Xuất Bản Giáo Dục Việt Nam                     1\n",
       "ĐHQG Hà Nội                                        1\n",
       "Nhà Xuất Bản Văn Hoá Dân Tộc                       1\n",
       "Name: manufacturer, dtype: int64"
      ]
     },
     "execution_count": 22,
     "metadata": {},
     "output_type": "execute_result"
    }
   ],
   "source": [
    "book_df.manufacturer.value_counts()"
   ]
  },
  {
   "cell_type": "markdown",
   "id": "77648657",
   "metadata": {},
   "source": [
    "We will replace `NXB` by `Nhà Xuất Bản`, `hong duc` by `Nhà Xuất Bản Hồng Đức` and `ĐHQG`:`Đại Học Quốc Gia`"
   ]
  },
  {
   "cell_type": "code",
   "execution_count": 23,
   "id": "d0027fb1",
   "metadata": {},
   "outputs": [],
   "source": [
    "book_df['manufacturer'] = book_df['manufacturer'].replace({'NXB':'Nhà Xuất Bản','hong duc':'Nhà Xuất Bản Hồng Đức','ĐHQG':'Đại Học Quốc Gia'}, regex=True)"
   ]
  },
  {
   "cell_type": "markdown",
   "id": "200515a2",
   "metadata": {},
   "source": [
    "I checked the website and found that the authors of these books are listed as \".\""
   ]
  },
  {
   "cell_type": "code",
   "execution_count": 24,
   "id": "2d8cff8c",
   "metadata": {
    "scrolled": true
   },
   "outputs": [
    {
     "data": {
      "text/html": [
       "<div>\n",
       "<style scoped>\n",
       "    .dataframe tbody tr th:only-of-type {\n",
       "        vertical-align: middle;\n",
       "    }\n",
       "\n",
       "    .dataframe tbody tr th {\n",
       "        vertical-align: top;\n",
       "    }\n",
       "\n",
       "    .dataframe thead th {\n",
       "        text-align: right;\n",
       "    }\n",
       "</style>\n",
       "<table border=\"1\" class=\"dataframe\">\n",
       "  <thead>\n",
       "    <tr style=\"text-align: right;\">\n",
       "      <th></th>\n",
       "      <th>product_id</th>\n",
       "      <th>title</th>\n",
       "      <th>authors</th>\n",
       "      <th>original_price</th>\n",
       "      <th>current_price</th>\n",
       "      <th>quantity</th>\n",
       "      <th>category</th>\n",
       "      <th>n_review</th>\n",
       "      <th>avg_rating</th>\n",
       "      <th>pages</th>\n",
       "      <th>manufacturer</th>\n",
       "      <th>cover_link</th>\n",
       "    </tr>\n",
       "  </thead>\n",
       "  <tbody>\n",
       "    <tr>\n",
       "      <th>145</th>\n",
       "      <td>73125816</td>\n",
       "      <td>Digital Marketing - Từ Chiến Lược Đến Thực Thi...</td>\n",
       "      <td>.</td>\n",
       "      <td>220000</td>\n",
       "      <td>154000</td>\n",
       "      <td>4487.0</td>\n",
       "      <td>Sách Marketing - Bán hàng</td>\n",
       "      <td>865</td>\n",
       "      <td>4.8</td>\n",
       "      <td>250.0</td>\n",
       "      <td>Nhà Xuất Bản Lao Động</td>\n",
       "      <td>https://salt.tikicdn.com/ts/product/d0/b7/ac/8...</td>\n",
       "    </tr>\n",
       "    <tr>\n",
       "      <th>270</th>\n",
       "      <td>54614797</td>\n",
       "      <td>Có Một Ngày, Bố Mẹ Sẽ Già Đi</td>\n",
       "      <td>.</td>\n",
       "      <td>96000</td>\n",
       "      <td>58520</td>\n",
       "      <td>10530.0</td>\n",
       "      <td>Truyện ngắn - Tản văn - Tạp Văn</td>\n",
       "      <td>2252</td>\n",
       "      <td>4.8</td>\n",
       "      <td>296.0</td>\n",
       "      <td>Nhà Xuất Bản Thế Giới</td>\n",
       "      <td>https://salt.tikicdn.com/ts/product/89/f1/fc/1...</td>\n",
       "    </tr>\n",
       "    <tr>\n",
       "      <th>883</th>\n",
       "      <td>40774181</td>\n",
       "      <td>Combo Sách Tiếng hàn tổng hợp dành cho người V...</td>\n",
       "      <td>.</td>\n",
       "      <td>220000</td>\n",
       "      <td>147400</td>\n",
       "      <td>5295.0</td>\n",
       "      <td>Sách Học Tiếng Hàn</td>\n",
       "      <td>1305</td>\n",
       "      <td>5.0</td>\n",
       "      <td>436.0</td>\n",
       "      <td>nan</td>\n",
       "      <td>https://salt.tikicdn.com/ts/product/6d/97/55/e...</td>\n",
       "    </tr>\n",
       "    <tr>\n",
       "      <th>1194</th>\n",
       "      <td>145977554</td>\n",
       "      <td>Combo 2 Cuốn: Thần Số Học + Thần Số Học Ứng Dụng</td>\n",
       "      <td>.</td>\n",
       "      <td>348000</td>\n",
       "      <td>244000</td>\n",
       "      <td>403.0</td>\n",
       "      <td>Sách Chiêm Tinh - Horoscope</td>\n",
       "      <td>62</td>\n",
       "      <td>4.8</td>\n",
       "      <td>NaN</td>\n",
       "      <td>Nhà Xuất Bản Thanh Niên</td>\n",
       "      <td>https://salt.tikicdn.com/ts/product/e6/21/58/b...</td>\n",
       "    </tr>\n",
       "    <tr>\n",
       "      <th>1239</th>\n",
       "      <td>45349383</td>\n",
       "      <td>Hashtag No.2 Fashion - Kinh Doanh Thời Trang T...</td>\n",
       "      <td>.</td>\n",
       "      <td>200000</td>\n",
       "      <td>140000</td>\n",
       "      <td>1768.0</td>\n",
       "      <td>Sách Marketing - Bán hàng</td>\n",
       "      <td>213</td>\n",
       "      <td>4.8</td>\n",
       "      <td>132.0</td>\n",
       "      <td>Nhà Xuất Bản Dân Trí</td>\n",
       "      <td>https://salt.tikicdn.com/ts/product/a0/fe/92/7...</td>\n",
       "    </tr>\n",
       "  </tbody>\n",
       "</table>\n",
       "</div>"
      ],
      "text/plain": [
       "      product_id                                              title authors  \\\n",
       "145     73125816  Digital Marketing - Từ Chiến Lược Đến Thực Thi...       .   \n",
       "270     54614797                       Có Một Ngày, Bố Mẹ Sẽ Già Đi       .   \n",
       "883     40774181  Combo Sách Tiếng hàn tổng hợp dành cho người V...       .   \n",
       "1194   145977554   Combo 2 Cuốn: Thần Số Học + Thần Số Học Ứng Dụng       .   \n",
       "1239    45349383  Hashtag No.2 Fashion - Kinh Doanh Thời Trang T...       .   \n",
       "\n",
       "      original_price  current_price  quantity  \\\n",
       "145           220000         154000    4487.0   \n",
       "270            96000          58520   10530.0   \n",
       "883           220000         147400    5295.0   \n",
       "1194          348000         244000     403.0   \n",
       "1239          200000         140000    1768.0   \n",
       "\n",
       "                             category  n_review  avg_rating  pages  \\\n",
       "145        Sách Marketing - Bán hàng        865         4.8  250.0   \n",
       "270   Truyện ngắn - Tản văn - Tạp Văn      2252         4.8  296.0   \n",
       "883                Sách Học Tiếng Hàn      1305         5.0  436.0   \n",
       "1194      Sách Chiêm Tinh - Horoscope        62         4.8    NaN   \n",
       "1239       Sách Marketing - Bán hàng        213         4.8  132.0   \n",
       "\n",
       "                 manufacturer  \\\n",
       "145     Nhà Xuất Bản Lao Động   \n",
       "270     Nhà Xuất Bản Thế Giới   \n",
       "883                       nan   \n",
       "1194  Nhà Xuất Bản Thanh Niên   \n",
       "1239     Nhà Xuất Bản Dân Trí   \n",
       "\n",
       "                                             cover_link  \n",
       "145   https://salt.tikicdn.com/ts/product/d0/b7/ac/8...  \n",
       "270   https://salt.tikicdn.com/ts/product/89/f1/fc/1...  \n",
       "883   https://salt.tikicdn.com/ts/product/6d/97/55/e...  \n",
       "1194  https://salt.tikicdn.com/ts/product/e6/21/58/b...  \n",
       "1239  https://salt.tikicdn.com/ts/product/a0/fe/92/7...  "
      ]
     },
     "execution_count": 24,
     "metadata": {},
     "output_type": "execute_result"
    }
   ],
   "source": [
    "book_df[book_df['authors']=='.'][:5]"
   ]
  },
  {
   "cell_type": "markdown",
   "id": "6257a0de",
   "metadata": {},
   "source": [
    "Let's look at `category` field."
   ]
  },
  {
   "cell_type": "code",
   "execution_count": 25,
   "id": "82131ea6",
   "metadata": {},
   "outputs": [
    {
     "data": {
      "text/plain": [
       "Sách tư duy - Kỹ năng sống                                                                295\n",
       "Tiểu Thuyết                                                                               133\n",
       "Truyện ngắn - Tản văn - Tạp Văn                                                           109\n",
       "Sách nghệ thuật sống đẹp                                                                   58\n",
       "Sách kỹ năng làm việc                                                                      56\n",
       "                                                                                         ... \n",
       "Thiên Sứ Nhà Bên – Tập 4                                                                    1\n",
       "Axit Và Kiềm Trong Thực Dưỡng (Tái Bản)                                                     1\n",
       "Tri Kỷ Của Bụt (TBL5)                                                                       1\n",
       "Ajin - Boxset Số 2 (Tập 7 - 12) - Tặng Kèm Bookmark 3D                                      1\n",
       "Doraemon Movie Story: Tân Nobita Và Chuyến Phiêu Lưu Vào Xứ Quỷ - 7 Dũng Sĩ Phép Thuật      1\n",
       "Name: category, Length: 355, dtype: int64"
      ]
     },
     "execution_count": 25,
     "metadata": {},
     "output_type": "execute_result"
    }
   ],
   "source": [
    "book_df['category'].value_counts()"
   ]
  },
  {
   "cell_type": "markdown",
   "id": "101804ba",
   "metadata": {},
   "source": [
    "The 'category' columns in this dataset may have been taken incorrectly by the author, resulting in some incorrect categories. We looked over the website and gathered data on every category a book might fall under.There are many categories and subcategories, however practically every book in our dataset is \"Sách tiếng việt,\" thus we only focus on its subcategories."
   ]
  },
  {
   "cell_type": "code",
   "execution_count": 26,
   "id": "ed67a6d2",
   "metadata": {
    "scrolled": true
   },
   "outputs": [],
   "source": [
    "cate = {'Sách văn học': ['Du ký','Light novel','Phê Bình - Lý Luận Văn Học', 'Phóng sự - Ký sự - Bút ký', 'Tác phẩm kinh điển','Thơ',\n",
    " 'Tiểu sử - Hồi ký', 'Tiểu Thuyết','Tranh Truyện',\n",
    "  'Truyện cổ tích - Ngụ ngôn','Truyện cười', 'Truyện dài', 'Truyện đam mỹ',\n",
    "  'Truyện Giả tưởng - Huyền Bí - Phiêu Lưu', 'Truyện kiếm hiệp',\n",
    "  'Truyện kinh dị','Truyện ngắn - Tản văn - Tạp Văn',\n",
    "  'Truyện ngôn tình', 'Truyện trinh thám', 'Ca dao - Tục ngữ', 'Sách ảnh'],\n",
    " 'Sách kinh tế': ['Bài học kinh doanh',\n",
    "  'Sách doanh nhân',\n",
    "  'Sách khởi nghiệp',\n",
    "  'Sách kinh tế học',\n",
    "  'Sách kỹ năng làm việc',\n",
    "  'Sách Marketing - Bán hàng',\n",
    "  'Sách quản trị, lãnh đạo',\n",
    "  'Sách quản trị nhân lực',\n",
    "  'Sách tài chính, kế toán',\n",
    "  'Sách tài chính, tiền tệ'],\n",
    " 'Sách thiếu nhi': ['Đạo đức - Kỹ năng sống',\n",
    "  'Kiến thức - Bách khoa',\n",
    "  'Tô màu - Luyện chữ',\n",
    "  'Truyện cổ tích',\n",
    "  'Truyện kể cho bé',\n",
    "  'Truyện tranh Ehon',\n",
    "  'Truyện tranh thiếu nhi',\n",
    "  'Văn học thiếu nhi'],\n",
    " 'Sách kỹ năng sống': ['Sách tư duy - Kỹ năng sống',\n",
    "  'Sách nghệ thuật sống đẹp',\n",
    "  'Sách hướng nghiệp - Kỹ năng mềm'],\n",
    " 'Sách Bà mẹ - Em bé': ['Sách Thai Giáo',\n",
    "  'Sách Kiến Thức - Kỹ Năng Cho Trẻ',\n",
    "  'Sách Làm Cha Mẹ',\n",
    "  'Sách Dinh Dưỡng - Sức Khỏe Cho Bé'],\n",
    " 'Sách Giáo Khoa - Giáo Trình': ['Sách Giáo Khoa Cấp 1',\n",
    "  'Sách Giáo Khoa Cấp 2',\n",
    "  'Sách Giáo Khoa Cấp 3',\n",
    "  'Giáo Trình Đại Học - Cao Đẳng'],\n",
    " 'Sách Học Ngoại Ngữ': ['Sách Học Tiếng Anh',\n",
    "  'Sách Học Tiếng Nhật',\n",
    "  'Sách Học Tiếng Hàn',\n",
    "  'Sách Học Tiếng Hoa',\n",
    "  'Ngoại Ngữ Khác'],\n",
    " 'Sách Tham Khảo': ['Sách tham khảo cấp I',\n",
    "  'Sách tham khảo cấp II',\n",
    "  'Sách tham khảo cấp III',\n",
    "  'Sách Luyện Thi Đại Học - Cao Đẳng',\n",
    "  'Thẻ luyện thi',\n",
    "  'Sách chuyên đề'],\n",
    " 'Từ Điển': ['Từ Điển Tiếng Anh',\n",
    "  'Từ Điển Tiếng Trung',\n",
    "  'Từ Điển Tiếng Hàn',\n",
    "  'Từ Điển Tiếng Nhật',\n",
    "  'Từ Điển Tiếng Pháp',\n",
    "  'Từ Điển Tiếng Việt',\n",
    "  'Từ Điển Ngôn Ngữ Khác'],\n",
    " 'Sách Kiến Thức Tổng Hợp': ['Kiến Thức Bách Khoa',\n",
    "  'Lĩnh vực khác',\n",
    "  'Sách Chiêm Tinh - Horoscope',\n",
    "  'Sách giáo dục',\n",
    "  'Sách Phong Thủy - Kinh Dịch',\n",
    "  'Triết Học'],\n",
    " 'Sách Khoa Học - Kỹ Thuật': ['Sách Khoa Học - Kỹ Thuật'],\n",
    " 'Sách Lịch sử': ['Lịch Sử Việt Nam', 'Lịch Sử Thế Giới'],\n",
    " 'Điện Ảnh - Nhạc - Họa': ['Âm Nhạc - Điện Ảnh',\n",
    "  'Mỹ Thuật - Kiến Trúc',\n",
    "  'Sách Tô Màu Dành Cho Người Lớn'],\n",
    " 'Truyện Tranh, Manga, Comic': ['Truyện Tranh, Manga, Comic'],\n",
    " 'Sách Tôn Giáo - Tâm Linh': ['Sách Tôn Giáo - Tâm Linh'],\n",
    " 'Sách Văn Hóa - Địa Lý - Du Lịch': ['Sách Danh Nhân',\n",
    "  'Sách Địa Danh - Du Lịch',\n",
    "  'Sách Phong Tục - Tập Quán'],\n",
    " 'Sách Chính Trị - Pháp Lý': ['Luật - Văn Bản Luật', 'Lý Luận Chính Trị'],\n",
    " 'Sách Nông - Lâm - Ngư Nghiệp': ['Sách Nông - Lâm - Ngư Nghiệp'],\n",
    " 'Sách Công Nghệ Thông Tin': ['Tin Học Văn Phòng',\n",
    "  'Lập Trình',\n",
    "  'Thiết Kế - Đồ Họa'],\n",
    " 'Thể Dục - Thể Thao': ['Thể Dục - Thể Thao'],\n",
    " 'Sách Y Học': ['Sách Y Học'],\n",
    " 'Tạp Chí - Catalogue': ['Tạp Chí - Catalogue'],\n",
    " 'Sách Tâm lý - Giới tính': ['Sách Tâm Lý Tuổi Teen',\n",
    "  'Sách Hôn Nhân - Giới Tính'],\n",
    " 'Sách Thường Thức - Gia Đình': ['Chăm sóc sức khỏe',\n",
    "  'May - Thêu - Thời Trang',\n",
    "  'Sách Làm Đẹp',\n",
    "  'Sách Nấu ăn']}"
   ]
  },
  {
   "cell_type": "code",
   "execution_count": 27,
   "id": "0f299b17",
   "metadata": {},
   "outputs": [],
   "source": [
    "\n",
    "category = pd.read_csv('Category')\n",
    "category.columns = ['Category','SubCategory']\n",
    "category['SubCategory'] = category['SubCategory'].apply(lambda x: x.split(';'))"
   ]
  },
  {
   "cell_type": "markdown",
   "id": "24077e27",
   "metadata": {},
   "source": [
    "We will gather those books once more, but only in the category field, to fix the inaccurate values."
   ]
  },
  {
   "cell_type": "code",
   "execution_count": 28,
   "id": "43de5d57",
   "metadata": {},
   "outputs": [],
   "source": [
    "cate_list = category['SubCategory'].explode('SubCategory').to_list()\n",
    "index = book_df[~book_df.category.isin(cate_list)].product_id.to_list()"
   ]
  },
  {
   "cell_type": "code",
   "execution_count": 29,
   "id": "61213328",
   "metadata": {},
   "outputs": [
    {
     "data": {
      "text/html": [
       "<div>\n",
       "<style scoped>\n",
       "    .dataframe tbody tr th:only-of-type {\n",
       "        vertical-align: middle;\n",
       "    }\n",
       "\n",
       "    .dataframe tbody tr th {\n",
       "        vertical-align: top;\n",
       "    }\n",
       "\n",
       "    .dataframe thead th {\n",
       "        text-align: right;\n",
       "    }\n",
       "</style>\n",
       "<table border=\"1\" class=\"dataframe\">\n",
       "  <thead>\n",
       "    <tr style=\"text-align: right;\">\n",
       "      <th></th>\n",
       "      <th>Unnamed: 0</th>\n",
       "      <th>Unnamed: 0.1</th>\n",
       "      <th>product_id</th>\n",
       "      <th>title</th>\n",
       "      <th>authors</th>\n",
       "      <th>original_price</th>\n",
       "      <th>current_price</th>\n",
       "      <th>quantity</th>\n",
       "      <th>category</th>\n",
       "      <th>n_review</th>\n",
       "      <th>avg_rating</th>\n",
       "      <th>pages</th>\n",
       "      <th>manufacturer</th>\n",
       "      <th>cover_link</th>\n",
       "    </tr>\n",
       "    <tr>\n",
       "      <th>product_id</th>\n",
       "      <th></th>\n",
       "      <th></th>\n",
       "      <th></th>\n",
       "      <th></th>\n",
       "      <th></th>\n",
       "      <th></th>\n",
       "      <th></th>\n",
       "      <th></th>\n",
       "      <th></th>\n",
       "      <th></th>\n",
       "      <th></th>\n",
       "      <th></th>\n",
       "      <th></th>\n",
       "      <th></th>\n",
       "    </tr>\n",
       "  </thead>\n",
       "  <tbody>\n",
       "    <tr>\n",
       "      <th>69219919</th>\n",
       "      <td>0</td>\n",
       "      <td>23</td>\n",
       "      <td>69219919</td>\n",
       "      <td>Muôn Kiếp Nhân Sinh (Khổ Nhỏ)</td>\n",
       "      <td>Nguyên Phong</td>\n",
       "      <td>98000</td>\n",
       "      <td>72000</td>\n",
       "      <td>12009.0</td>\n",
       "      <td>Sách Tôn Giáo - Tâm Linh</td>\n",
       "      <td>2603</td>\n",
       "      <td>4.8</td>\n",
       "      <td>482.0</td>\n",
       "      <td>Nhà Xuất Bản Tổng hợp TP.HCM</td>\n",
       "      <td>https://salt.tikicdn.com/media/catalog/product...</td>\n",
       "    </tr>\n",
       "    <tr>\n",
       "      <th>95470626</th>\n",
       "      <td>1</td>\n",
       "      <td>61</td>\n",
       "      <td>95470626</td>\n",
       "      <td>Combo 2 Cuốn: Muôn Kiếp Nhân Sinh + Muôn Kiếp ...</td>\n",
       "      <td>Nguyên Phong</td>\n",
       "      <td>436000</td>\n",
       "      <td>248500</td>\n",
       "      <td>5947.0</td>\n",
       "      <td>Sách Tôn Giáo - Tâm Linh</td>\n",
       "      <td>1207</td>\n",
       "      <td>4.8</td>\n",
       "      <td>960.0</td>\n",
       "      <td>Nhà Xuất Bản Tổng hợp TP.HCM</td>\n",
       "      <td>https://salt.tikicdn.com/media/catalog/product...</td>\n",
       "    </tr>\n",
       "    <tr>\n",
       "      <th>188695904</th>\n",
       "      <td>2</td>\n",
       "      <td>73</td>\n",
       "      <td>188695904</td>\n",
       "      <td>GIẬN (TBL22)</td>\n",
       "      <td>Thích Nhất Hạnh</td>\n",
       "      <td>135000</td>\n",
       "      <td>116000</td>\n",
       "      <td>1802.0</td>\n",
       "      <td>Sách Tôn Giáo - Tâm Linh</td>\n",
       "      <td>145</td>\n",
       "      <td>5.0</td>\n",
       "      <td>248.0</td>\n",
       "      <td>Nhà Xuất Bản Thế Giới</td>\n",
       "      <td>https://salt.tikicdn.com/ts/product/56/4a/55/d...</td>\n",
       "    </tr>\n",
       "    <tr>\n",
       "      <th>203957925</th>\n",
       "      <td>3</td>\n",
       "      <td>94</td>\n",
       "      <td>203957925</td>\n",
       "      <td>Monster #8 - Tập 6</td>\n",
       "      <td>Naoya Matsumoto</td>\n",
       "      <td>58000</td>\n",
       "      <td>49200</td>\n",
       "      <td>1438.0</td>\n",
       "      <td>Truyện Tranh, Manga, Comic</td>\n",
       "      <td>132</td>\n",
       "      <td>5.0</td>\n",
       "      <td>188.0</td>\n",
       "      <td>Nhà Xuất Bản Hồng Đức</td>\n",
       "      <td>https://salt.tikicdn.com/ts/product/78/98/79/d...</td>\n",
       "    </tr>\n",
       "    <tr>\n",
       "      <th>207475540</th>\n",
       "      <td>4</td>\n",
       "      <td>97</td>\n",
       "      <td>207475540</td>\n",
       "      <td>Blue Flag Tập 8 [Tặng Kèm Bookmark PVC]</td>\n",
       "      <td>Kaito</td>\n",
       "      <td>45000</td>\n",
       "      <td>45000</td>\n",
       "      <td>143.0</td>\n",
       "      <td>Truyện Tranh, Manga, Comic</td>\n",
       "      <td>15</td>\n",
       "      <td>4.7</td>\n",
       "      <td>244.0</td>\n",
       "      <td>Nhà Xuất Bản Kim Đồng</td>\n",
       "      <td>https://salt.tikicdn.com/ts/product/c5/0d/50/5...</td>\n",
       "    </tr>\n",
       "  </tbody>\n",
       "</table>\n",
       "</div>"
      ],
      "text/plain": [
       "            Unnamed: 0  Unnamed: 0.1  product_id  \\\n",
       "product_id                                         \n",
       "69219919             0            23    69219919   \n",
       "95470626             1            61    95470626   \n",
       "188695904            2            73   188695904   \n",
       "203957925            3            94   203957925   \n",
       "207475540            4            97   207475540   \n",
       "\n",
       "                                                        title  \\\n",
       "product_id                                                      \n",
       "69219919                        Muôn Kiếp Nhân Sinh (Khổ Nhỏ)   \n",
       "95470626    Combo 2 Cuốn: Muôn Kiếp Nhân Sinh + Muôn Kiếp ...   \n",
       "188695904                                        GIẬN (TBL22)   \n",
       "203957925                                  Monster #8 - Tập 6   \n",
       "207475540             Blue Flag Tập 8 [Tặng Kèm Bookmark PVC]   \n",
       "\n",
       "                    authors  original_price  current_price  quantity  \\\n",
       "product_id                                                             \n",
       "69219919       Nguyên Phong           98000          72000   12009.0   \n",
       "95470626       Nguyên Phong          436000         248500    5947.0   \n",
       "188695904   Thích Nhất Hạnh          135000         116000    1802.0   \n",
       "203957925   Naoya Matsumoto           58000          49200    1438.0   \n",
       "207475540             Kaito           45000          45000     143.0   \n",
       "\n",
       "                              category  n_review  avg_rating  pages  \\\n",
       "product_id                                                            \n",
       "69219919      Sách Tôn Giáo - Tâm Linh      2603         4.8  482.0   \n",
       "95470626      Sách Tôn Giáo - Tâm Linh      1207         4.8  960.0   \n",
       "188695904     Sách Tôn Giáo - Tâm Linh       145         5.0  248.0   \n",
       "203957925   Truyện Tranh, Manga, Comic       132         5.0  188.0   \n",
       "207475540   Truyện Tranh, Manga, Comic        15         4.7  244.0   \n",
       "\n",
       "                            manufacturer  \\\n",
       "product_id                                 \n",
       "69219919    Nhà Xuất Bản Tổng hợp TP.HCM   \n",
       "95470626    Nhà Xuất Bản Tổng hợp TP.HCM   \n",
       "188695904          Nhà Xuất Bản Thế Giới   \n",
       "203957925          Nhà Xuất Bản Hồng Đức   \n",
       "207475540          Nhà Xuất Bản Kim Đồng   \n",
       "\n",
       "                                                   cover_link  \n",
       "product_id                                                     \n",
       "69219919    https://salt.tikicdn.com/media/catalog/product...  \n",
       "95470626    https://salt.tikicdn.com/media/catalog/product...  \n",
       "188695904   https://salt.tikicdn.com/ts/product/56/4a/55/d...  \n",
       "203957925   https://salt.tikicdn.com/ts/product/78/98/79/d...  \n",
       "207475540   https://salt.tikicdn.com/ts/product/c5/0d/50/5...  "
      ]
     },
     "execution_count": 29,
     "metadata": {},
     "output_type": "execute_result"
    }
   ],
   "source": [
    "repair_cate = pd.read_csv('RepairCategory')\n",
    "repair_cate.index = repair_cate.product_id\n",
    "repair_cate.head()"
   ]
  },
  {
   "cell_type": "code",
   "execution_count": 30,
   "id": "f7faf05f",
   "metadata": {
    "scrolled": true
   },
   "outputs": [
    {
     "data": {
      "text/plain": [
       "product_id\n",
       "69219919       Sách Tôn Giáo - Tâm Linh\n",
       "95470626       Sách Tôn Giáo - Tâm Linh\n",
       "188695904      Sách Tôn Giáo - Tâm Linh\n",
       "203957925    Truyện Tranh, Manga, Comic\n",
       "207475540    Truyện Tranh, Manga, Comic\n",
       "                        ...            \n",
       "138504802     Sách Marketing - Bán hàng\n",
       "995310                       Sách Y Học\n",
       "190464440    Truyện Tranh, Manga, Comic\n",
       "200619499    Truyện Tranh, Manga, Comic\n",
       "74684484      Sách Marketing - Bán hàng\n",
       "Name: category, Length: 334, dtype: object"
      ]
     },
     "execution_count": 30,
     "metadata": {},
     "output_type": "execute_result"
    }
   ],
   "source": [
    "book_df = book_df.set_index('product_id')\n",
    "book_df.loc[index,'category']  = repair_cate.loc[index,'category'].to_list()\n",
    "book_df.loc[index,'category'] "
   ]
  },
  {
   "cell_type": "markdown",
   "id": "ed3bfdd3",
   "metadata": {},
   "source": [
    "We will check them again, and there are 2 rows where the category is still missing from our list."
   ]
  },
  {
   "cell_type": "code",
   "execution_count": 31,
   "id": "4b9e0809",
   "metadata": {
    "scrolled": true
   },
   "outputs": [
    {
     "data": {
      "text/html": [
       "<div>\n",
       "<style scoped>\n",
       "    .dataframe tbody tr th:only-of-type {\n",
       "        vertical-align: middle;\n",
       "    }\n",
       "\n",
       "    .dataframe tbody tr th {\n",
       "        vertical-align: top;\n",
       "    }\n",
       "\n",
       "    .dataframe thead th {\n",
       "        text-align: right;\n",
       "    }\n",
       "</style>\n",
       "<table border=\"1\" class=\"dataframe\">\n",
       "  <thead>\n",
       "    <tr style=\"text-align: right;\">\n",
       "      <th></th>\n",
       "      <th>title</th>\n",
       "      <th>authors</th>\n",
       "      <th>original_price</th>\n",
       "      <th>current_price</th>\n",
       "      <th>quantity</th>\n",
       "      <th>category</th>\n",
       "      <th>n_review</th>\n",
       "      <th>avg_rating</th>\n",
       "      <th>pages</th>\n",
       "      <th>manufacturer</th>\n",
       "      <th>cover_link</th>\n",
       "    </tr>\n",
       "    <tr>\n",
       "      <th>product_id</th>\n",
       "      <th></th>\n",
       "      <th></th>\n",
       "      <th></th>\n",
       "      <th></th>\n",
       "      <th></th>\n",
       "      <th></th>\n",
       "      <th></th>\n",
       "      <th></th>\n",
       "      <th></th>\n",
       "      <th></th>\n",
       "      <th></th>\n",
       "    </tr>\n",
       "  </thead>\n",
       "  <tbody>\n",
       "    <tr>\n",
       "      <th>161409461</th>\n",
       "      <td>Thùng 48 hộp sữa tươi tiệt trùng có đường TH T...</td>\n",
       "      <td>NaN</td>\n",
       "      <td>406800</td>\n",
       "      <td>386000</td>\n",
       "      <td>1372.0</td>\n",
       "      <td>Sữa tiệt trùng (UHT)</td>\n",
       "      <td>117</td>\n",
       "      <td>5.0</td>\n",
       "      <td>NaN</td>\n",
       "      <td>nan</td>\n",
       "      <td>https://salt.tikicdn.com/ts/product/66/33/87/5...</td>\n",
       "    </tr>\n",
       "    <tr>\n",
       "      <th>204374127</th>\n",
       "      <td>Tạp chí Forbes Việt Nam - Số 111 (Tháng 11.202...</td>\n",
       "      <td>nhieu tac gia</td>\n",
       "      <td>95000</td>\n",
       "      <td>95000</td>\n",
       "      <td>38.0</td>\n",
       "      <td>Sách tiếng Việt</td>\n",
       "      <td>4</td>\n",
       "      <td>5.0</td>\n",
       "      <td>140.0</td>\n",
       "      <td>Forbes Việt Nam</td>\n",
       "      <td>https://salt.tikicdn.com/ts/product/03/f0/8d/4...</td>\n",
       "    </tr>\n",
       "  </tbody>\n",
       "</table>\n",
       "</div>"
      ],
      "text/plain": [
       "                                                        title        authors  \\\n",
       "product_id                                                                     \n",
       "161409461   Thùng 48 hộp sữa tươi tiệt trùng có đường TH T...            NaN   \n",
       "204374127   Tạp chí Forbes Việt Nam - Số 111 (Tháng 11.202...  nhieu tac gia   \n",
       "\n",
       "            original_price  current_price  quantity              category  \\\n",
       "product_id                                                                  \n",
       "161409461           406800         386000    1372.0  Sữa tiệt trùng (UHT)   \n",
       "204374127            95000          95000      38.0       Sách tiếng Việt   \n",
       "\n",
       "            n_review  avg_rating  pages     manufacturer  \\\n",
       "product_id                                                 \n",
       "161409461        117         5.0    NaN              nan   \n",
       "204374127          4         5.0  140.0  Forbes Việt Nam   \n",
       "\n",
       "                                                   cover_link  \n",
       "product_id                                                     \n",
       "161409461   https://salt.tikicdn.com/ts/product/66/33/87/5...  \n",
       "204374127   https://salt.tikicdn.com/ts/product/03/f0/8d/4...  "
      ]
     },
     "execution_count": 31,
     "metadata": {},
     "output_type": "execute_result"
    }
   ],
   "source": [
    " book_df[~book_df.category.isin(cate_list)]"
   ]
  },
  {
   "cell_type": "markdown",
   "id": "93280e04",
   "metadata": {},
   "source": [
    "We can see that `Thùng 48 hộp sữa tươi tiệt trùng có đường TH` and `Tạp chí Forbes Việt Nam` is not a book so we just remove it from our dataset "
   ]
  },
  {
   "cell_type": "code",
   "execution_count": 32,
   "id": "e419171e",
   "metadata": {},
   "outputs": [],
   "source": [
    "book_df = book_df.drop(161409461)"
   ]
  },
  {
   "cell_type": "markdown",
   "id": "6d494b51",
   "metadata": {},
   "source": [
    "## **Question 1: What makes a category become a best-selling category?**\n",
    "\n",
    "Why do I ask this? A lot of people buy books for many reasons: it's cheap; it has a lot of promotions; it is reader-friendly or it receives a lot of positive review score? To answer this, we will follow these steps:\n",
    "+ Step 1: Grouping the \"category\" into a more generic term. This means changing some categories into one genral category for ease of analyzing\n",
    "+ Step 2: Calculate the sum of \"quantity\", the mean of the current price of each grouped category and plot\n",
    "+ Step 3: Select the top three most purchased categories and compute the following: percentage of price before (original price) and after (current price) promotions; average review ratings.\n",
    "+ Step 4: We then calculate that again for the rest of the categories and plot out\n",
    "\n",
    "*Note: The column \"quantity\" in this DataFrame refers to the total amount of sold books, not in-stock books*"
   ]
  },
  {
   "cell_type": "markdown",
   "id": "ddddc870",
   "metadata": {},
   "source": [
    "Step 1: Grouping the category and create a new column called \"bigger_cate\""
   ]
  },
  {
   "cell_type": "code",
   "execution_count": 33,
   "id": "f1579cda",
   "metadata": {
    "scrolled": true
   },
   "outputs": [
    {
     "data": {
      "text/html": [
       "<div>\n",
       "<style scoped>\n",
       "    .dataframe tbody tr th:only-of-type {\n",
       "        vertical-align: middle;\n",
       "    }\n",
       "\n",
       "    .dataframe tbody tr th {\n",
       "        vertical-align: top;\n",
       "    }\n",
       "\n",
       "    .dataframe thead th {\n",
       "        text-align: right;\n",
       "    }\n",
       "</style>\n",
       "<table border=\"1\" class=\"dataframe\">\n",
       "  <thead>\n",
       "    <tr style=\"text-align: right;\">\n",
       "      <th></th>\n",
       "      <th>title</th>\n",
       "      <th>authors</th>\n",
       "      <th>original_price</th>\n",
       "      <th>current_price</th>\n",
       "      <th>quantity</th>\n",
       "      <th>category</th>\n",
       "      <th>n_review</th>\n",
       "      <th>avg_rating</th>\n",
       "      <th>pages</th>\n",
       "      <th>manufacturer</th>\n",
       "      <th>cover_link</th>\n",
       "      <th>bigger_cate</th>\n",
       "    </tr>\n",
       "    <tr>\n",
       "      <th>product_id</th>\n",
       "      <th></th>\n",
       "      <th></th>\n",
       "      <th></th>\n",
       "      <th></th>\n",
       "      <th></th>\n",
       "      <th></th>\n",
       "      <th></th>\n",
       "      <th></th>\n",
       "      <th></th>\n",
       "      <th></th>\n",
       "      <th></th>\n",
       "      <th></th>\n",
       "    </tr>\n",
       "  </thead>\n",
       "  <tbody>\n",
       "    <tr>\n",
       "      <th>74021317</th>\n",
       "      <td>Cây Cam Ngọt Của Tôi</td>\n",
       "      <td>José Mauro de Vasconcelos</td>\n",
       "      <td>108000</td>\n",
       "      <td>64800</td>\n",
       "      <td>53075.0</td>\n",
       "      <td>Tiểu Thuyết</td>\n",
       "      <td>11481</td>\n",
       "      <td>5.0</td>\n",
       "      <td>244.0</td>\n",
       "      <td>Nhà Xuất Bản Hội Nhà Văn</td>\n",
       "      <td>https://salt.tikicdn.com/ts/product/5e/18/24/2...</td>\n",
       "      <td>Sách văn học</td>\n",
       "    </tr>\n",
       "    <tr>\n",
       "      <th>184466860</th>\n",
       "      <td>Hành Tinh Của Một Kẻ Nghĩ Nhiều</td>\n",
       "      <td>Nguyễn Đoàn Minh Thư</td>\n",
       "      <td>86000</td>\n",
       "      <td>59900</td>\n",
       "      <td>7929.0</td>\n",
       "      <td>Sách tư duy - Kỹ năng sống</td>\n",
       "      <td>780</td>\n",
       "      <td>4.8</td>\n",
       "      <td>184.0</td>\n",
       "      <td>Nhà Xuất Bản Thế Giới</td>\n",
       "      <td>https://salt.tikicdn.com/ts/product/d7/99/24/1...</td>\n",
       "      <td>Sách kỹ năng sống</td>\n",
       "    </tr>\n",
       "    <tr>\n",
       "      <th>73787185</th>\n",
       "      <td>Những Tù Nhân Của Địa Lý</td>\n",
       "      <td>Tim Marshall</td>\n",
       "      <td>210000</td>\n",
       "      <td>126000</td>\n",
       "      <td>17896.0</td>\n",
       "      <td>Lĩnh vực khác</td>\n",
       "      <td>3623</td>\n",
       "      <td>4.8</td>\n",
       "      <td>430.0</td>\n",
       "      <td>Nhà Xuất Bản Hội Nhà Văn</td>\n",
       "      <td>https://salt.tikicdn.com/ts/product/8d/96/9e/c...</td>\n",
       "      <td>Sách Kiến Thức Tổng Hợp</td>\n",
       "    </tr>\n",
       "    <tr>\n",
       "      <th>52789367</th>\n",
       "      <td>Nhà Giả Kim (Tái Bản 2020)</td>\n",
       "      <td>Paulo Coelho</td>\n",
       "      <td>79000</td>\n",
       "      <td>47400</td>\n",
       "      <td>24668.0</td>\n",
       "      <td>Tác phẩm kinh điển</td>\n",
       "      <td>5131</td>\n",
       "      <td>5.0</td>\n",
       "      <td>228.0</td>\n",
       "      <td>Nhà Xuất Bản Hà Nội</td>\n",
       "      <td>https://salt.tikicdn.com/ts/product/45/3b/fc/a...</td>\n",
       "      <td>Sách văn học</td>\n",
       "    </tr>\n",
       "    <tr>\n",
       "      <th>147920903</th>\n",
       "      <td>Một Thoáng Ta Rực Rỡ Ở Nhân Gian</td>\n",
       "      <td>NaN</td>\n",
       "      <td>135000</td>\n",
       "      <td>81000</td>\n",
       "      <td>10000.0</td>\n",
       "      <td>Tiểu Thuyết</td>\n",
       "      <td>1636</td>\n",
       "      <td>4.8</td>\n",
       "      <td>304.0</td>\n",
       "      <td>Nhà Xuất Bản Hội Nhà Văn</td>\n",
       "      <td>https://salt.tikicdn.com/ts/product/2f/b5/4e/a...</td>\n",
       "      <td>Sách văn học</td>\n",
       "    </tr>\n",
       "  </tbody>\n",
       "</table>\n",
       "</div>"
      ],
      "text/plain": [
       "                                       title                    authors  \\\n",
       "product_id                                                                \n",
       "74021317                Cây Cam Ngọt Của Tôi  José Mauro de Vasconcelos   \n",
       "184466860    Hành Tinh Của Một Kẻ Nghĩ Nhiều       Nguyễn Đoàn Minh Thư   \n",
       "73787185            Những Tù Nhân Của Địa Lý               Tim Marshall   \n",
       "52789367          Nhà Giả Kim (Tái Bản 2020)               Paulo Coelho   \n",
       "147920903   Một Thoáng Ta Rực Rỡ Ở Nhân Gian                        NaN   \n",
       "\n",
       "            original_price  current_price  quantity  \\\n",
       "product_id                                            \n",
       "74021317            108000          64800   53075.0   \n",
       "184466860            86000          59900    7929.0   \n",
       "73787185            210000         126000   17896.0   \n",
       "52789367             79000          47400   24668.0   \n",
       "147920903           135000          81000   10000.0   \n",
       "\n",
       "                              category  n_review  avg_rating  pages  \\\n",
       "product_id                                                            \n",
       "74021317                   Tiểu Thuyết     11481         5.0  244.0   \n",
       "184466860   Sách tư duy - Kỹ năng sống       780         4.8  184.0   \n",
       "73787185                 Lĩnh vực khác      3623         4.8  430.0   \n",
       "52789367            Tác phẩm kinh điển      5131         5.0  228.0   \n",
       "147920903                  Tiểu Thuyết      1636         4.8  304.0   \n",
       "\n",
       "                        manufacturer  \\\n",
       "product_id                             \n",
       "74021317    Nhà Xuất Bản Hội Nhà Văn   \n",
       "184466860      Nhà Xuất Bản Thế Giới   \n",
       "73787185    Nhà Xuất Bản Hội Nhà Văn   \n",
       "52789367         Nhà Xuất Bản Hà Nội   \n",
       "147920903   Nhà Xuất Bản Hội Nhà Văn   \n",
       "\n",
       "                                                   cover_link  \\\n",
       "product_id                                                      \n",
       "74021317    https://salt.tikicdn.com/ts/product/5e/18/24/2...   \n",
       "184466860   https://salt.tikicdn.com/ts/product/d7/99/24/1...   \n",
       "73787185    https://salt.tikicdn.com/ts/product/8d/96/9e/c...   \n",
       "52789367    https://salt.tikicdn.com/ts/product/45/3b/fc/a...   \n",
       "147920903   https://salt.tikicdn.com/ts/product/2f/b5/4e/a...   \n",
       "\n",
       "                        bigger_cate  \n",
       "product_id                           \n",
       "74021317               Sách văn học  \n",
       "184466860         Sách kỹ năng sống  \n",
       "73787185    Sách Kiến Thức Tổng Hợp  \n",
       "52789367               Sách văn học  \n",
       "147920903              Sách văn học  "
      ]
     },
     "execution_count": 33,
     "metadata": {},
     "output_type": "execute_result"
    }
   ],
   "source": [
    "my_book_df = book_df.copy()\n",
    "my_book_df = my_book_df.drop(204374127) # remove Sach tieng Viet since this doesn't fit to our dataset\n",
    "generic_cate = cate.keys()\n",
    "all_cate = cate.values()\n",
    "added_bigger_cate = []\n",
    "for i in my_book_df.index:\n",
    "    for key, value in cate.items():\n",
    "        if my_book_df['category'][i] in value:\n",
    "            added_bigger_cate.append(key)\n",
    "my_book_df['bigger_cate'] = added_bigger_cate\n",
    "my_book_df.head()"
   ]
  },
  {
   "cell_type": "markdown",
   "id": "877e02df",
   "metadata": {},
   "source": [
    "Step 2: Calculate the quantity, average price. We then plot out the relationship between the average price and quantity"
   ]
  },
  {
   "cell_type": "code",
   "execution_count": 34,
   "id": "e75728ca",
   "metadata": {},
   "outputs": [
    {
     "name": "stdout",
     "output_type": "stream",
     "text": [
      "bigger_cate\n",
      "Tạp Chí - Catalogue                     29.0\n",
      "Sách Công Nghệ Thông Tin               773.0\n",
      "Thể Dục - Thể Thao                    1033.0\n",
      "Sách Giáo Khoa - Giáo Trình           2116.0\n",
      "Sách Khoa Học - Kỹ Thuật              3591.0\n",
      "Sách Chính Trị - Pháp Lý              4419.0\n",
      "Sách Văn Hóa - Địa Lý - Du Lịch      11159.0\n",
      "Điện Ảnh - Nhạc - Họa                12783.0\n",
      "Sách Tham Khảo                       13420.0\n",
      "Sách Tâm lý - Giới tính              18422.0\n",
      "Sách Lịch sử                         34699.0\n",
      "Sách Thường Thức - Gia Đình          41171.0\n",
      "Sách Y Học                           71484.0\n",
      "Truyện Tranh, Manga, Comic           87401.0\n",
      "Sách Bà mẹ - Em bé                  110879.0\n",
      "Sách Học Ngoại Ngữ                  139491.0\n",
      "Sách Tôn Giáo - Tâm Linh            139702.0\n",
      "Sách Kiến Thức Tổng Hợp             164652.0\n",
      "Sách thiếu nhi                      184552.0\n",
      "Sách kinh tế                        701919.0\n",
      "Sách văn học                       1301220.0\n",
      "Sách kỹ năng sống                  1797791.0\n",
      "Name: quantity, dtype: float64\n"
     ]
    },
    {
     "data": {
      "image/png": "[encoded data removed]",
      "text/plain": [
       "<Figure size 640x480 with 1 Axes>"
      ]
     },
     "metadata": {},
     "output_type": "display_data"
    },
    {
     "data": {
      "image/png": "[encoded data removed]",
      "text/plain": [
       "<Figure size 640x480 with 1 Axes>"
      ]
     },
     "metadata": {},
     "output_type": "display_data"
    },
    {
     "data": {
      "image/png": "[encoded data removed]",
      "text/plain": [
       "<Figure size 640x480 with 1 Axes>"
      ]
     },
     "metadata": {},
     "output_type": "display_data"
    }
   ],
   "source": [
    "cate_quantity_sum = my_book_df.groupby('bigger_cate')['quantity'].sum().sort_values()\n",
    "cate_currentprice_mean = my_book_df.groupby('bigger_cate')['current_price'].mean().sort_values()\n",
    "print(cate_quantity_sum)\n",
    "plt.barh(cate_quantity_sum.keys(), cate_quantity_sum.values)\n",
    "plt.title(\"Total Quantity of a Genre\")\n",
    "plt.show()\n",
    "\n",
    "plt.barh(cate_currentprice_mean.keys(), cate_currentprice_mean.values)\n",
    "plt.title(\"Average price of a Genre\")\n",
    "plt.show()\n",
    "\n",
    "# scatter plot\n",
    "# get index from cate_quantity_sum\n",
    "index_quantity = list(cate_quantity_sum.index)\n",
    "result_mean_price = list(map(cate_currentprice_mean.get, index_quantity))\n",
    "plt.scatter(result_mean_price, cate_quantity_sum.values)\n",
    "plt.xlabel(\"Price\")\n",
    "plt.ylabel(\"Quantity\")\n",
    "plt.title(\"Average Price vs. Quantity\")\n",
    "plt.show()"
   ]
  },
  {
   "cell_type": "markdown",
   "id": "36c56adb",
   "metadata": {},
   "source": [
    "As we see 3 plots above, the most bought categories are: \n",
    "+ Sách kỹ năng sống\n",
    "+ Sách văn học\n",
    "+ Sách kinh tế\n",
    "\n",
    "Based on the scatter plot, we will also the price range into 3 groups:\n",
    "+ Low: price < 120K\n",
    "+ Medium: 120K <= price < 180K\n",
    "+ High: price >= 180K\n",
    "\n",
    "We will have a deep look at how these categories receive a lot of attention."
   ]
  },
  {
   "cell_type": "code",
   "execution_count": 35,
   "id": "366c01a6",
   "metadata": {},
   "outputs": [
    {
     "name": "stdout",
     "output_type": "stream",
     "text": [
      "['Sách kỹ năng sống', 'Sách văn học', 'Sách kinh tế']\n",
      "[4.498891966758994, 4.649999999999998, 4.51646090534979]\n",
      "[28.057174515235456, 32.66434959349591, 25.203909465020573]\n"
     ]
    }
   ],
   "source": [
    "top_category = [\"Sách kỹ năng sống\", \"Sách văn học\", \"Sách kinh tế\"]\n",
    "# For rating\n",
    "ave_rating_cate = my_book_df.groupby('bigger_cate')['avg_rating'].mean()\n",
    "print(top_category)\n",
    "rating_top_category = list(map(ave_rating_cate.get, top_category))\n",
    "print(rating_top_category)\n",
    "# For percentage after promotion sale\n",
    "# Create a new column \"percentage_sale\"\n",
    "my_book_df['percentage_sale'] = 100 - round((my_book_df['current_price'] / my_book_df['original_price'] * 100), 2)\n",
    "ave_sale_cate = my_book_df.groupby('bigger_cate')['percentage_sale'].mean()\n",
    "sale_top_category = list(map(ave_sale_cate.get, top_category))\n",
    "print(sale_top_category)"
   ]
  },
  {
   "cell_type": "code",
   "execution_count": 36,
   "id": "6e07e92a",
   "metadata": {},
   "outputs": [
    {
     "data": {
      "image/png": "[encoded data removed]",
      "text/plain": [
       "<Figure size 640x480 with 1 Axes>"
      ]
     },
     "metadata": {},
     "output_type": "display_data"
    }
   ],
   "source": [
    "ind = np.arange(3)\n",
    "plt.barh(ind-0.2, rating_top_category, 0.4, label=\"rating\")\n",
    "plt.barh(ind+0.2, sale_top_category, 0.4, label=\"average sale\")\n",
    "plt.yticks(ind, top_category)\n",
    "plt.legend()\n",
    "plt.show()"
   ]
  },
  {
   "cell_type": "markdown",
   "id": "0be0b41b",
   "metadata": {},
   "source": [
    "The plot above tells us that the average rating is at around 4.5 and the average sale ranges from 25% to more than just more than 30%. Still, we cannot conclude that this is the factor for their increased amount of quantity in comparison to other groups. We must look for other categories as well."
   ]
  },
  {
   "cell_type": "code",
   "execution_count": 37,
   "id": "7b80f414",
   "metadata": {},
   "outputs": [
    {
     "data": {
      "image/png": "[encoded data removed]",
      "text/plain": [
       "<Figure size 640x480 with 1 Axes>"
      ]
     },
     "metadata": {},
     "output_type": "display_data"
    }
   ],
   "source": [
    "other_category = [x for x in cate_quantity_sum.index if (x not in top_category)]\n",
    "other_category.remove(\"Tạp Chí - Catalogue\")\n",
    "# For rating\n",
    "rating_other_category = list(map(ave_rating_cate.get, other_category))\n",
    "# For percentage after promotion sale\n",
    "sale_other_category = list(map(ave_sale_cate.get, other_category))\n",
    "\n",
    "ind = np.arange(len(other_category))\n",
    "plt.barh(ind-0.2, rating_other_category, 0.4, label=\"rating\")\n",
    "plt.barh(ind+0.2, sale_other_category, 0.4, label=\"average sale\")\n",
    "plt.yticks(ind, other_category)\n",
    "plt.legend()\n",
    "plt.show()"
   ]
  },
  {
   "cell_type": "markdown",
   "id": "8e59255d",
   "metadata": {},
   "source": [
    "**Conclusion for Question 1:**\n",
    "\n",
    "3 categories in the top surprise me. The fact that there exist two completely price points but still somehow in the top 3 most bought categories. And I think after looking at the graph above, I am able to draw some interesting insights when readers buying books on Tiki:\n",
    "+ For *Sách văn học* and *Kỹ năng sống*:\n",
    "    + The sale percentage really hits a lot of readers' mind as they usually sale around 30%\n",
    "    + Tiki is known for having a lot of promotions for these types of genre\n",
    "    + Most of the books are quite easy to read for a person who are new to books. Especially with Kỹ năng sống, most of which don't require pre-requisite knowledge.\n",
    "+ For *Sách kinh tế*:\n",
    "    + This is an interesting one because even though the average price is in the top high, they still get into the top 3 most-bought books. This might be the topic is quite generic for most people. \n",
    "    + Some books can be used as a reference for self-learning\n",
    "    + A lot of famous economists publish them. Readers follow the authors, buy the books as way to support and learn their point of view in a scenario\n",
    "    \n",
    "+ The product includes a bundle/combo of presents and/or books (e.g. Mắt biếc includes a small notebook if you buy since releasing of the movie version)\n",
    "+ Cheaper than going to an actual bookstore\n",
    "+ Popularity of a book\n",
    "+ ...\n",
    "\n",
    "In my opinion, comic should be the category that enjoys the support from their fan base. But when looking at the plot, it is only in the mid-tier of total sales volume which tradicts my initial guess, which is that the comic category should be at least in the top 5 of most-bought category. I decide to give a careful analysis. I have concluded that:\n",
    "\n",
    "**Even though the comic category has the quantity among all the middle categories, in reality, most book publishers tend to exclusively release them with a very small amount on online platforms. That is why even though it has the cheapest average price, it also shares a similarity with the quantity. The \"camping-to-buy-a-new-release\" culture is relatively new in Vietnam but it is slowly appearing in many aspects, including the release of a new phone, new comic from a famous series... We can find them if we follow on the official page on social media about their schedule and releasing date.**"
   ]
  },
  {
   "cell_type": "code",
   "execution_count": 38,
   "id": "fc13b984",
   "metadata": {},
   "outputs": [
    {
     "data": {
      "image/png": "[encoded data removed]",
      "text/plain": [
       "<Figure size 640x480 with 1 Axes>"
      ]
     },
     "metadata": {},
     "output_type": "display_data"
    }
   ],
   "source": [
    "# This is for comic category\n",
    "comic_df = my_book_df[my_book_df['category']=='Truyện Tranh, Manga, Comic'][['current_price', 'quantity']]\n",
    "plt.scatter(comic_df.iloc[:, 0].to_numpy(), comic_df.iloc[:, 1].to_numpy())\n",
    "plt.ylabel(\"Quantity/Sold books\")\n",
    "plt.xlabel(\"Price (after sale)\")\n",
    "plt.show()"
   ]
  },
  {
   "cell_type": "markdown",
   "id": "5700e0c5",
   "metadata": {},
   "source": [
    "For the Comic one, I have dedicated a graph to explain why the average price is low but still cannot have a high amount of total sold books. I have come up with a few reasons:\n",
    "+ Mangas are usually cheap, if we buy them online, we have to pay the shipping fee which could be as high as half the price of a manga, which is not economic at all.\n",
    "+ They are released exclusively, meaning that some mangas series only release for a certain amount of time or with a limited quantity hence causing them to be low in the total sold books. This is also because buying them in that time is although a bit more expensive but they include bundles, which is the key point for readers to buy, rather than waiting for them to be publicliy release around bookstores but without additional gifts and a reduced price. \n",
    "+ After market is also a reason to the low selling rate. Some books when they pass throught the highest \"hot\" peak (most anticipated time), they can be sold to be as low as half of the original price so buying online is not a very wise option."
   ]
  },
  {
   "cell_type": "markdown",
   "id": "1efcd5fc",
   "metadata": {},
   "source": [
    "## Question 2: Do readers prefer foreign over Vietnamese authors? And on which categories do the foreign outnumber in terms of quantity and vice versa?\n",
    "\n",
    "Authors play an important role in users buying books. Many readers buy books because of the authors. It is indeed that foreign authors are much popular among readers than that of Vietnamese authors. We want to know whether foreign authors attract more readers or Vietnamses authors will attract more based on their popularity.\n",
    "\n",
    "Here are the steps:\n",
    "+ Step 1: Classifiy language based on the author's birth country\n",
    "+ Step 2: Group the language by the total amount and sum of quantity\n",
    "+ Step 3: Choose the 5 categories with high amount of quantity and compare"
   ]
  },
  {
   "cell_type": "code",
   "execution_count": 39,
   "id": "6f7016dc",
   "metadata": {},
   "outputs": [
    {
     "name": "stdout",
     "output_type": "stream",
     "text": [
      "Requirement already satisfied: langdetect in /home/numkiki/miniconda3/envs/min_ds-env/lib/python3.8/site-packages (1.0.9)\r\n",
      "Requirement already satisfied: six in /home/numkiki/miniconda3/envs/min_ds-env/lib/python3.8/site-packages (from langdetect) (1.16.0)\r\n"
     ]
    }
   ],
   "source": [
    "!pip install langdetect"
   ]
  },
  {
   "cell_type": "code",
   "execution_count": 40,
   "id": "41851bc4",
   "metadata": {},
   "outputs": [],
   "source": [
    "from langdetect import detect\n",
    "author_origin = []\n",
    "for i in my_book_df.index:\n",
    "    if (type(my_book_df['authors'][i]) == float or my_book_df['authors'][i] == \".\" or my_book_df['authors'][i] == \"..\" or my_book_df['authors'][i] == \" \"):\n",
    "        author_origin.append('None')\n",
    "    elif detect(my_book_df['authors'][i]) == \"vi\":\n",
    "        author_origin.append('vi')\n",
    "    else:\n",
    "        author_origin.append('other')\n",
    "my_book_df['author_origin'] = author_origin"
   ]
  },
  {
   "cell_type": "markdown",
   "id": "6e8b1e41",
   "metadata": {},
   "source": [
    "Now we group the `author_origin` and `category` and count the amount of books + sum of total books sold of each category "
   ]
  },
  {
   "cell_type": "code",
   "execution_count": 41,
   "id": "ad474fbc",
   "metadata": {},
   "outputs": [
    {
     "data": {
      "text/html": [
       "<div>\n",
       "<style scoped>\n",
       "    .dataframe tbody tr th:only-of-type {\n",
       "        vertical-align: middle;\n",
       "    }\n",
       "\n",
       "    .dataframe tbody tr th {\n",
       "        vertical-align: top;\n",
       "    }\n",
       "\n",
       "    .dataframe thead th {\n",
       "        text-align: right;\n",
       "    }\n",
       "</style>\n",
       "<table border=\"1\" class=\"dataframe\">\n",
       "  <thead>\n",
       "    <tr style=\"text-align: right;\">\n",
       "      <th></th>\n",
       "      <th>title</th>\n",
       "      <th>authors</th>\n",
       "      <th>original_price</th>\n",
       "      <th>current_price</th>\n",
       "      <th>quantity</th>\n",
       "      <th>category</th>\n",
       "      <th>n_review</th>\n",
       "      <th>avg_rating</th>\n",
       "      <th>pages</th>\n",
       "      <th>manufacturer</th>\n",
       "      <th>cover_link</th>\n",
       "      <th>bigger_cate</th>\n",
       "      <th>percentage_sale</th>\n",
       "    </tr>\n",
       "    <tr>\n",
       "      <th>author_origin</th>\n",
       "      <th></th>\n",
       "      <th></th>\n",
       "      <th></th>\n",
       "      <th></th>\n",
       "      <th></th>\n",
       "      <th></th>\n",
       "      <th></th>\n",
       "      <th></th>\n",
       "      <th></th>\n",
       "      <th></th>\n",
       "      <th></th>\n",
       "      <th></th>\n",
       "      <th></th>\n",
       "    </tr>\n",
       "  </thead>\n",
       "  <tbody>\n",
       "    <tr>\n",
       "      <th>None</th>\n",
       "      <td>159</td>\n",
       "      <td>20</td>\n",
       "      <td>159</td>\n",
       "      <td>159</td>\n",
       "      <td>144</td>\n",
       "      <td>159</td>\n",
       "      <td>159</td>\n",
       "      <td>159</td>\n",
       "      <td>97</td>\n",
       "      <td>159</td>\n",
       "      <td>159</td>\n",
       "      <td>159</td>\n",
       "      <td>158</td>\n",
       "    </tr>\n",
       "    <tr>\n",
       "      <th>other</th>\n",
       "      <td>1154</td>\n",
       "      <td>1154</td>\n",
       "      <td>1154</td>\n",
       "      <td>1154</td>\n",
       "      <td>1130</td>\n",
       "      <td>1154</td>\n",
       "      <td>1154</td>\n",
       "      <td>1154</td>\n",
       "      <td>1007</td>\n",
       "      <td>1154</td>\n",
       "      <td>1154</td>\n",
       "      <td>1154</td>\n",
       "      <td>1154</td>\n",
       "    </tr>\n",
       "    <tr>\n",
       "      <th>vi</th>\n",
       "      <td>462</td>\n",
       "      <td>462</td>\n",
       "      <td>462</td>\n",
       "      <td>462</td>\n",
       "      <td>456</td>\n",
       "      <td>462</td>\n",
       "      <td>462</td>\n",
       "      <td>462</td>\n",
       "      <td>421</td>\n",
       "      <td>462</td>\n",
       "      <td>462</td>\n",
       "      <td>462</td>\n",
       "      <td>462</td>\n",
       "    </tr>\n",
       "  </tbody>\n",
       "</table>\n",
       "</div>"
      ],
      "text/plain": [
       "               title  authors  original_price  current_price  quantity  \\\n",
       "author_origin                                                            \n",
       "None             159       20             159            159       144   \n",
       "other           1154     1154            1154           1154      1130   \n",
       "vi               462      462             462            462       456   \n",
       "\n",
       "               category  n_review  avg_rating  pages  manufacturer  \\\n",
       "author_origin                                                        \n",
       "None                159       159         159     97           159   \n",
       "other              1154      1154        1154   1007          1154   \n",
       "vi                  462       462         462    421           462   \n",
       "\n",
       "               cover_link  bigger_cate  percentage_sale  \n",
       "author_origin                                            \n",
       "None                  159          159              158  \n",
       "other                1154         1154             1154  \n",
       "vi                    462          462              462  "
      ]
     },
     "execution_count": 41,
     "metadata": {},
     "output_type": "execute_result"
    }
   ],
   "source": [
    "# lang_df_count = my_book_df.groupby(['author_origin', 'bigger_cate']).count()\n",
    "lang_df_sum = my_book_df.groupby(['author_origin', 'bigger_cate']).sum()\n",
    "\n",
    "lang_df = my_book_df.groupby(['author_origin']).count()\n",
    "lang_df"
   ]
  },
  {
   "cell_type": "code",
   "execution_count": 42,
   "id": "92e6f88d",
   "metadata": {},
   "outputs": [
    {
     "data": {
      "image/png": "[encoded data removed]",
      "text/plain": [
       "<Figure size 640x480 with 1 Axes>"
      ]
     },
     "metadata": {},
     "output_type": "display_data"
    }
   ],
   "source": [
    "plt.pie(lang_df['quantity'].to_numpy(), labels = ['None', 'other', 'vi'], startangle = 90, autopct='%1.0f%%')\n",
    "plt.show()"
   ]
  },
  {
   "cell_type": "markdown",
   "id": "7c1fface",
   "metadata": {},
   "source": [
    "The pie chart shows that the \"other\" category occupies the most space. We will take \"other\" as the standard to take out the 5 most-bought books and use those categories to extract the quantity for the \"other\" and \"vi\". Also, we will eliminate books that is in the \"None\" category for ease of analysis"
   ]
  },
  {
   "cell_type": "code",
   "execution_count": 43,
   "id": "fce5519c",
   "metadata": {},
   "outputs": [
    {
     "name": "stdout",
     "output_type": "stream",
     "text": [
      "['Sách văn học', 'Sách kỹ năng sống', 'Sách kinh tế', 'Truyện Tranh, Manga, Comic', 'Sách thiếu nhi']\n",
      "[303 231 179 175  74]\n"
     ]
    }
   ],
   "source": [
    "# get the top 5 categories from other\n",
    "category = my_book_df[my_book_df['author_origin'] == 'other'].bigger_cate.value_counts()[:5].index.to_list()\n",
    "category_other_quantity = my_book_df[my_book_df['author_origin'] == 'other'].bigger_cate.value_counts()[:5].values\n",
    "\n",
    "print(category)\n",
    "print(category_other_quantity)\n"
   ]
  },
  {
   "cell_type": "code",
   "execution_count": 44,
   "id": "ec2f5d11",
   "metadata": {},
   "outputs": [
    {
     "name": "stdout",
     "output_type": "stream",
     "text": [
      "[171, 101, 29, 1, 27]\n"
     ]
    }
   ],
   "source": [
    "category_vi_quantity = []\n",
    "for i in category: # count vietnamese book\n",
    "    temp = len(my_book_df[(my_book_df.bigger_cate == i) & (my_book_df.author_origin == 'vi')]['quantity'] )\n",
    "    category_vi_quantity.append(temp)\n",
    "print(category_vi_quantity)"
   ]
  },
  {
   "cell_type": "code",
   "execution_count": 45,
   "id": "a58b2236",
   "metadata": {},
   "outputs": [
    {
     "data": {
      "image/png": "[encoded data removed]",
      "text/plain": [
       "<Figure size 640x480 with 1 Axes>"
      ]
     },
     "metadata": {},
     "output_type": "display_data"
    }
   ],
   "source": [
    "ind = np.arange(5)\n",
    "plt.barh(ind-0.2, category_vi_quantity, 0.4, label=\"Vietnamese\")\n",
    "plt.barh(ind+0.2, category_other_quantity, 0.4, label=\"Others\")\n",
    "plt.title(\"Total number of books\")\n",
    "plt.yticks(ind, category)\n",
    "plt.legend()\n",
    "plt.show()"
   ]
  },
  {
   "cell_type": "code",
   "execution_count": 46,
   "id": "d66703f9",
   "metadata": {},
   "outputs": [],
   "source": [
    "total_sum_quantity = []\n",
    "for i in [\"other\", \"vi\"]:\n",
    "    for j in category:\n",
    "        total_sum_quantity.append(lang_df_sum.loc[(i, j), 'quantity'])\n",
    "other = total_sum_quantity[0:5]\n",
    "vi = total_sum_quantity[5:10]\n",
    "# lang_df_sum.loc[(\"other\", \"Sách kinh tế\")]"
   ]
  },
  {
   "cell_type": "code",
   "execution_count": 47,
   "id": "8fb41c0a",
   "metadata": {},
   "outputs": [
    {
     "data": {
      "image/png": "[encoded data removed]",
      "text/plain": [
       "<Figure size 640x480 with 1 Axes>"
      ]
     },
     "metadata": {},
     "output_type": "display_data"
    }
   ],
   "source": [
    "plt.barh(ind-0.2, vi, 0.4, label=\"Vietnamese\")\n",
    "plt.barh(ind+0.2, other, 0.4, label=\"Others\")\n",
    "plt.title(\"Total number of sold books\")\n",
    "plt.yticks(ind, [\"Kinh tế học\", \"Thiếu nhi\", \"Văn học\", \"Manga\", \"Kỹ năng sống\"])\n",
    "plt.legend()\n",
    "plt.show()"
   ]
  },
  {
   "cell_type": "markdown",
   "id": "203dc8a7",
   "metadata": {},
   "source": [
    "**Conclusion for question 2**\n",
    "\n",
    "As shown in the plots above, the \"Others\" category accounts for 65% of all books in the Tiki platform.\n",
    "The \"Others\" section has more books than the \"Vietnamese\" section.\n",
    "Finally, based on the overall number of books sold, it is apparent that they outperform anything from \"Vietnamese.\"\n",
    "But why would the \"Vietnamse\" can't catch up with the \"Others\"? There are some reasons we deduct based on the data:\n",
    "+ The content from \"Other\" authors is more intriguing than the majority of Vietnamese authors. \n",
    "+ Foreign content is valued by online platforms, which raises the price. This devalues the Vietnamese one. \n",
    "+ Foreign book references are far more useful than Vietnamese book references. Some Vietnamese books cite international books as well.\n",
    "+ A lot of famous authors has a strong reputation for a very long time. In Văn học, a lot of authors can be listed like: J.K.Rowling, Marc Levy... They have a big fan base in Vietnam and will support the authors as much as they can.\n",
    "\n",
    "Overall, we can conclude that: based on the data, the majority of top books from other countries attract more Vietnamese readers whereas, very few Vietnamese authors can make into the top list or the best-selling list. Despite the fact that many Vietnamese authors are talented and creative, they are still struggling to find a way to make their works interesting and attract more readers in order to raise the selling rate."
   ]
  },
  {
   "cell_type": "markdown",
   "id": "ad4bbdfd",
   "metadata": {},
   "source": [
    "## Nam \n",
    "### Reflection\n",
    "**Difficulties**\n",
    "+ I struggle to find a good question that is capable of gathering useful insights of a dataset. Even though coding is not a very hard part, I still struggle when using Pandas's indexing system.\n",
    "+ Looking for an interesting dataset is not an easy task. A lot of works need to be done in order to choose a good one. We don't want our dataset to feel \"boring\" when working with, since a lot of group will choose the popular ones.\n",
    "+ Looking at each other's code and understand thoroughly is a challenge for me. Since this is my first time working with him, I am not used to his style of coding and it takes me quite a bit of time to be aware of the functionality of each cell.\n",
    "+ I am still working on my Git skills. I thought I had a good knowledge of Git but when moving to Jupyter Notebook, I had to learn how the terminal in Git operates and make some changes to my system. After all, it is a good opportunity for me to work on different platforms.\n",
    "+ Our choice of dataset exists a problem: there is no column indicating the time. This is very a useful piece of information since it allows us to learn the trend of the data, give solutions to improve the selling rate and so on. \n",
    "\n",
    "**What have I learned?**\n",
    "+ Working with Git to make each member more independent with their jobs\n",
    "+ Communicating with my member and conveying my ideas about the structure of the project\n",
    "+ A consult with friends who major or have experience with data analysis help me improve on judging the quality of a question based on the quality and attributes of a dataset.\n",
    "\n",
    "**What would our group do if we had more time?**\n",
    "+ Choose a similar dataset but with a time attribute.\n",
    "+ Use a ML model to give a better insight, not just about predicting the trend of the dataset.\n",
    "+ Conduct a research on the topic we choose. Since we are trying to give meaningful questions, we should spend some time understanding the basic of the topic and slowly moving towards different concepts of it. "
   ]
  }
 ],
 "metadata": {
  "kernelspec": {
   "display_name": "Python 3 (ipykernel)",
   "language": "python",
   "name": "python3"
  },
  "language_info": {
   "codemirror_mode": {
    "name": "ipython",
    "version": 3
   },
   "file_extension": ".py",
   "mimetype": "text/x-python",
   "name": "python",
   "nbconvert_exporter": "python",
   "pygments_lexer": "ipython3",
   "version": "3.8.8"
  }
 },
 "nbformat": 4,
 "nbformat_minor": 5
}
